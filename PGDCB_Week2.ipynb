{
  "nbformat": 4,
  "nbformat_minor": 0,
  "metadata": {
    "colab": {
      "provenance": [],
      "include_colab_link": true
    },
    "kernelspec": {
      "name": "python3",
      "display_name": "Python 3"
    }
  },
  "cells": [
    {
      "cell_type": "markdown",
      "metadata": {
        "id": "view-in-github",
        "colab_type": "text"
      },
      "source": [
        "<a href=\"https://colab.research.google.com/github/AshaPandian/ML/blob/main/PGDCB_Week2.ipynb\" target=\"_parent\"><img src=\"https://colab.research.google.com/assets/colab-badge.svg\" alt=\"Open In Colab\"/></a>"
      ]
    },
    {
      "cell_type": "markdown",
      "metadata": {
        "id": "wyjifTRoWqZD"
      },
      "source": [
        "# **Week 2 --- UNIT II**"
      ]
    },
    {
      "cell_type": "markdown",
      "metadata": {
        "id": "lxz9RE36Xwm1"
      },
      "source": [
        "# **Operators**"
      ]
    },
    {
      "cell_type": "code",
      "metadata": {
        "id": "6YYrCNjXpXs5"
      },
      "source": [
        "#Operators, Looping"
      ],
      "execution_count": null,
      "outputs": []
    },
    {
      "cell_type": "code",
      "metadata": {
        "colab": {
          "base_uri": "https://localhost:8080/"
        },
        "id": "NtcjpU7fpdzm",
        "outputId": "37a06c93-2076-41f2-8902-e48b999aa552"
      },
      "source": [
        "a = 9\n",
        "b = 4\n",
        "# Addition of numbers \n",
        "add = a + b \n",
        "# Subtraction of numbers  \n",
        "sub = a - b \n",
        "# Multiplication of number  \n",
        "mul = a * b \n",
        "# Division(float) of number  \n",
        "div1 = a / b \n",
        "# Division(floor) of number  \n",
        "div2 = a // b \n",
        "# Modulo of both number \n",
        "mod = a % b \n",
        "# print results \n",
        "print(add) \n",
        "print(sub) \n",
        "print(mul) \n",
        "print(div1) \n",
        "print(div2) \n",
        "print(mod)\n",
        "\n"
      ],
      "execution_count": null,
      "outputs": [
        {
          "output_type": "stream",
          "text": [
            "13\n",
            "5\n",
            "36\n",
            "2.25\n",
            "2\n",
            "1\n"
          ],
          "name": "stdout"
        }
      ]
    },
    {
      "cell_type": "code",
      "metadata": {
        "colab": {
          "base_uri": "https://localhost:8080/"
        },
        "id": "xDuSNh4Lpy1t",
        "outputId": "9a41a1bf-e634-48ee-84a4-925794a04811"
      },
      "source": [
        "a = 13\n",
        "b = 33\n",
        "# a > b is False \n",
        "print(a > b) \n",
        "# a < b is True \n",
        "print(a < b)\n",
        "# a == b is False \n",
        "print(a == b)\n",
        "# a != b is True \n",
        "print(a != b)\n",
        "# a >= b is False \n",
        "print(a >= b)\n",
        "# a <= b is True \n",
        "print(a <= b) \n"
      ],
      "execution_count": null,
      "outputs": [
        {
          "output_type": "stream",
          "text": [
            "False\n",
            "True\n",
            "False\n",
            "True\n",
            "False\n",
            "True\n"
          ],
          "name": "stdout"
        }
      ]
    },
    {
      "cell_type": "code",
      "metadata": {
        "colab": {
          "base_uri": "https://localhost:8080/"
        },
        "id": "7JW2laWbq0__",
        "outputId": "0ff0e45e-b378-46ba-b2e8-b281d360de54"
      },
      "source": [
        "a = True\n",
        "b = False\n",
        "# Print a and b is False \n",
        "print(a and b)\n",
        "# Print a or b is True \n",
        "print(a or b)\n",
        "# Print not a is False \n",
        "print(not a) \n"
      ],
      "execution_count": null,
      "outputs": [
        {
          "output_type": "stream",
          "text": [
            "False\n",
            "True\n",
            "False\n"
          ],
          "name": "stdout"
        }
      ]
    },
    {
      "cell_type": "code",
      "metadata": {
        "colab": {
          "base_uri": "https://localhost:8080/"
        },
        "id": "ojMHFOKYr4ZI",
        "outputId": "c7cd8d17-e780-4017-8b0b-3d864b92dfdd"
      },
      "source": [
        "a = 60            # 60 = 0011 1100 \n",
        "b = 13            # 13 = 0000 1101 \n",
        "c = 0\n",
        "c = a & b;        #  0000 1100\n",
        "print (\"Line 1 - Value of c is \", c)\n",
        "c = a | b;        #  0011 1101 \n",
        "print (\"Line 2 - Value of c is \", c)\n",
        "c = a ^ b;        #  0011 0001 ---XOR\n",
        "print (\"Line 3 - Value of c is \", c)\n",
        "c = a << 2;       #  1111 0000\n",
        "print (\"Line 4 - Value of c is \", c)\n",
        "c = b >> 2;       # 0000 1111\n",
        "print (\"Line 5 - Value of c is \", c)\n",
        "\n"
      ],
      "execution_count": null,
      "outputs": [
        {
          "output_type": "stream",
          "text": [
            "Line 1 - Value of c is  12\n",
            "Line 2 - Value of c is  61\n",
            "Line 3 - Value of c is  49\n",
            "Line 4 - Value of c is  240\n",
            "Line 5 - Value of c is  3\n"
          ],
          "name": "stdout"
        }
      ]
    },
    {
      "cell_type": "code",
      "metadata": {
        "colab": {
          "base_uri": "https://localhost:8080/"
        },
        "id": "bvgvOQiEr6fi",
        "outputId": "2e8a9fd2-426f-48b2-c5a3-6c363511f3f9"
      },
      "source": [
        "a1 = 3\n",
        "b1 = 3\n",
        "a2 = 'PGDCBStudents'\n",
        "b2 = 'PGDCBStudents'\n",
        "a3 = [1,2,3]\n",
        "b3 = [1,2,3]\n",
        "print(a1 is not b1)\n",
        "print(a2 is b2)\n",
        "# Output is False, since lists are mutable. \n",
        "print(a3 is b3) \n"
      ],
      "execution_count": null,
      "outputs": [
        {
          "output_type": "stream",
          "text": [
            "False\n",
            "True\n",
            "False\n"
          ],
          "name": "stdout"
        }
      ]
    },
    {
      "cell_type": "code",
      "metadata": {
        "colab": {
          "base_uri": "https://localhost:8080/"
        },
        "id": "MdEX9onUsmGC",
        "outputId": "f651c5c3-7a5c-48f3-f9b4-aec6099654a8"
      },
      "source": [
        "x = \"PGDCB students are good\"\n",
        "y = {3:'a',4:'b'} \n",
        "print('g' in x) \n",
        "print('pgdcb' not in x) \n",
        "print('good' not in x) \n",
        "print(\"3 in y=\", 3 in y) \n",
        "print('b' in y) \n",
        "x = [\"apple\", \"banana\"]\n",
        "print(\"banana\" in x)\n",
        "# returns True because a sequence with the value \"banana\" is in the list\n",
        "print(\"pineapple\" not in x)\n",
        "# returns True because a sequence with the value \"pineapple\" is not in the list"
      ],
      "execution_count": null,
      "outputs": [
        {
          "output_type": "stream",
          "text": [
            "True\n",
            "True\n",
            "False\n",
            "3 in y= True\n",
            "False\n",
            "True\n",
            "True\n"
          ],
          "name": "stdout"
        }
      ]
    },
    {
      "cell_type": "code",
      "metadata": {
        "colab": {
          "base_uri": "https://localhost:8080/"
        },
        "id": "yUGmkGt7o2QK",
        "outputId": "91eef5a9-3642-462d-e309-2292864765ac"
      },
      "source": [
        "print(3 == 5) \n",
        "print(3 > 5) \n",
        "print(3 <=5) \n",
        "print(len(\"ATGC\") > 5) \n",
        "print(\"GAATTC\".count(\"T\") > 1) \n",
        "print(\"ATGCTT\".startswith(\"ATG\")) \n",
        "print(\"end with TTT=\", \"ATGCTT\".endswith(\"TTT\")) \n",
        "print(\"ATGCTT\".isupper()) \n",
        "print(\"ATGCTT\".islower()) \n",
        "print(\"V\" in [\"V\", \"W\", \"L\"])"
      ],
      "execution_count": null,
      "outputs": [
        {
          "output_type": "stream",
          "text": [
            "False\n",
            "False\n",
            "True\n",
            "False\n",
            "True\n",
            "True\n",
            "end with TTT= False\n",
            "True\n",
            "False\n",
            "True\n"
          ],
          "name": "stdout"
        }
      ]
    },
    {
      "cell_type": "code",
      "metadata": {
        "id": "mNnOpWojtBK-"
      },
      "source": [],
      "execution_count": null,
      "outputs": []
    },
    {
      "cell_type": "markdown",
      "metadata": {
        "id": "xF71t0vZtB6i"
      },
      "source": [
        "# **Conditional Tests and Looping**"
      ]
    },
    {
      "cell_type": "code",
      "metadata": {
        "colab": {
          "base_uri": "https://localhost:8080/"
        },
        "id": "ZyBZaWw2tMFl",
        "outputId": "3ebce80c-74d2-45d6-fb3c-544d47e5fea5"
      },
      "source": [
        "a=10\n",
        "b=20\n",
        "\n",
        "if a>b:\n",
        "  print(\"A is greater\") \n",
        "else:\n",
        "  print(\"B is greater\")\n",
        "  print(\"End\")\n",
        "print(\"Hi\")"
      ],
      "execution_count": null,
      "outputs": [
        {
          "output_type": "stream",
          "text": [
            "B is greater\n",
            "End\n",
            "Hi\n"
          ],
          "name": "stdout"
        }
      ]
    },
    {
      "cell_type": "code",
      "metadata": {
        "colab": {
          "base_uri": "https://localhost:8080/"
        },
        "id": "nKkr9Tc4tMI7",
        "outputId": "d69b70e1-faf8-43fd-9d99-12d145c854ca"
      },
      "source": [
        "x=15\n",
        "if (x>10):\n",
        " print(\"Above ten,\") \n",
        " if x>20:\n",
        "  print(\"and also above 20!\") \n",
        " else:\n",
        "  print(\"but not above 20!\")\n",
        "print(\"End\")"
      ],
      "execution_count": null,
      "outputs": [
        {
          "output_type": "stream",
          "text": [
            "Above ten,\n",
            "but not above 20!\n",
            "End\n"
          ],
          "name": "stdout"
        }
      ]
    },
    {
      "cell_type": "code",
      "metadata": {
        "colab": {
          "base_uri": "https://localhost:8080/"
        },
        "id": "6JU6zIyNtMM-",
        "outputId": "34136c7b-af0e-47bc-c6f3-c0c28c727b66"
      },
      "source": [
        "score=input(\"Enter score: \")\n",
        "score=int(score)\n",
        "if score>=80:\n",
        "    grade='A'\n",
        "else:\n",
        "    if score>=70:\n",
        "        grade='B'\n",
        "    else:\n",
        "        grade='C'\n",
        "print (\"Grade is:\",grade)"
      ],
      "execution_count": null,
      "outputs": [
        {
          "output_type": "stream",
          "text": [
            "Enter score: 89\n",
            "Grade is: A\n"
          ],
          "name": "stdout"
        }
      ]
    },
    {
      "cell_type": "code",
      "metadata": {
        "colab": {
          "base_uri": "https://localhost:8080/"
        },
        "id": "i1JPWMl_y_ji",
        "outputId": "613cd962-512d-4e2f-ab7b-21249d59323a"
      },
      "source": [
        "num = float(input(\"Enter a number: \"))\n",
        "if num > 0:\n",
        "   print(\"Positive number\")\n",
        "elif num == 0:\n",
        "   print(\"Zero\")\n",
        "else:\n",
        "   print(\"Negative number\")"
      ],
      "execution_count": null,
      "outputs": [
        {
          "output_type": "stream",
          "text": [
            "Enter a number: -7\n",
            "Negative number\n"
          ],
          "name": "stdout"
        }
      ]
    },
    {
      "cell_type": "code",
      "metadata": {
        "colab": {
          "base_uri": "https://localhost:8080/"
        },
        "id": "v8BTsab4Gx8U",
        "outputId": "027c07ed-10de-48cc-a198-5302494c99ba"
      },
      "source": [
        "# Current temperature\n",
        "currentTemp = 30.2\n",
        "\n",
        "# Extremes in temperature (in Celsius)\n",
        "tempHigh = 40.7\n",
        "tempLow = -18.9\n",
        "\n",
        "# Compare current temperature against extremes\n",
        "if currentTemp > tempLow and currentTemp < tempHigh:\n",
        "    print(\"Current temperature (\" , currentTemp, \") is between high and low extremes.\")"
      ],
      "execution_count": null,
      "outputs": [
        {
          "output_type": "stream",
          "text": [
            "Current temperature ( 30.2 ) is between high and low extremes.\n"
          ],
          "name": "stdout"
        }
      ]
    },
    {
      "cell_type": "code",
      "metadata": {
        "colab": {
          "base_uri": "https://localhost:8080/"
        },
        "id": "6Ww9dG-utMP1",
        "outputId": "17dde478-0a9e-45ec-d6fb-373895c8ee2b"
      },
      "source": [
        "score = input(\"Enter score: \")\n",
        "score = int(score)\n",
        "if score >= 80:\n",
        "    grade = 'A'\n",
        "else:\n",
        "    if score >= 70:\n",
        "        grade = 'B'\n",
        "    else:\n",
        "        if score >= 55:\n",
        "            grade = 'C'\n",
        "        else:\n",
        "            if score >= 50:\n",
        "                grade = 'Pass'\n",
        "            else:\n",
        "                 grade = 'Fail'\n",
        "print (\"Grade is: \" + grade)"
      ],
      "execution_count": null,
      "outputs": [
        {
          "output_type": "stream",
          "text": [
            "Enter score: 78\n",
            "Grade is: B\n"
          ],
          "name": "stdout"
        }
      ]
    },
    {
      "cell_type": "code",
      "metadata": {
        "colab": {
          "base_uri": "https://localhost:8080/"
        },
        "id": "x9i244uH_T6X",
        "outputId": "5cf6afe7-01dd-4ac2-94cc-c6a16ef0eb69"
      },
      "source": [
        "score = input(\"Enter score: \")\n",
        "score = int(score)\n",
        "if score >= 80:\n",
        "    grade = 'A'\n",
        "elif score >= 70:\n",
        "    grade = 'B'\n",
        "elif score >= 55:\n",
        "    grade = 'C'\n",
        "elif score >= 50:\n",
        "    grade = 'Pass'\n",
        "else:\n",
        "    grade = 'Fail'\n",
        "print (\"\\n\\nGrade is: \" + grade)"
      ],
      "execution_count": null,
      "outputs": [
        {
          "output_type": "stream",
          "text": [
            "Enter score: 89\n",
            "\n",
            "\n",
            "Grade is: A\n"
          ],
          "name": "stdout"
        }
      ]
    },
    {
      "cell_type": "code",
      "metadata": {
        "colab": {
          "base_uri": "https://localhost:8080/"
        },
        "id": "jZB24Bgd_T9r",
        "outputId": "f70c21ab-03d4-4433-d740-89616cac8f1b"
      },
      "source": [
        "i = 10\n",
        "print(True) if i < 15 else print(False) "
      ],
      "execution_count": null,
      "outputs": [
        {
          "output_type": "stream",
          "text": [
            "True\n"
          ],
          "name": "stdout"
        }
      ]
    },
    {
      "cell_type": "code",
      "metadata": {
        "colab": {
          "base_uri": "https://localhost:8080/"
        },
        "id": "EFSd9Xly_UBP",
        "outputId": "b12f0f4b-8f38-446a-cc6d-108d4bbc21b1"
      },
      "source": [
        "while 1:\n",
        "    print ('Spam')\n",
        "    answer = input('Press y to end this loop: ')\n",
        "    if answer == 'y':\n",
        "        print ('BYEEEE!')\n",
        "        break\n",
        "print ('Have a ')\n",
        "print ('nice day!')\n"
      ],
      "execution_count": null,
      "outputs": [
        {
          "output_type": "stream",
          "text": [
            "Spam\n",
            "Press y to end this loop: y\n",
            "BYEEEE!\n",
            "Have a \n",
            "nice day!\n"
          ],
          "name": "stdout"
        }
      ]
    },
    {
      "cell_type": "code",
      "metadata": {
        "colab": {
          "base_uri": "https://localhost:8080/"
        },
        "id": "1LaXOE6P_UEN",
        "outputId": "af126e47-f05d-49f2-a95e-4bc3bbd65b74"
      },
      "source": [
        "count = 0\n",
        "while (count < 5):\n",
        "   print (count, \" is  less than 5\")\n",
        "   count = count + 1\n",
        "else:\n",
        "   print (count, \" is not less than 5\")\n"
      ],
      "execution_count": null,
      "outputs": [
        {
          "output_type": "stream",
          "text": [
            "0  is  less than 5\n",
            "1  is  less than 5\n",
            "2  is  less than 5\n",
            "3  is  less than 5\n",
            "4  is  less than 5\n",
            "5  is not less than 5\n"
          ],
          "name": "stdout"
        }
      ]
    },
    {
      "cell_type": "code",
      "metadata": {
        "colab": {
          "base_uri": "https://localhost:8080/"
        },
        "id": "fXFxptk4ASsn",
        "outputId": "bab38e55-438d-4210-b754-d2f4bd52eeb4"
      },
      "source": [
        "while 1:\n",
        "    print ('Hi')\n",
        "    answer = input('Enter y to print Course code: ')\n",
        "    if answer == 'y':\n",
        "        print ('PGDCB')\n",
        "        continue\n",
        "    answer = input('Enter y to stop!  ')\n",
        "    if answer == 'y':\n",
        "        break\n",
        "print ('Have a')\n",
        "print ('nice day!')\n"
      ],
      "execution_count": null,
      "outputs": [
        {
          "output_type": "stream",
          "text": [
            "Hi\n",
            "Enter y to print Course code: y\n",
            "PGDCB\n",
            "Hi\n",
            "Enter y to print Course code: n\n",
            "Enter y to stop!  y\n",
            "Have a\n",
            "nice day!\n"
          ],
          "name": "stdout"
        }
      ]
    },
    {
      "cell_type": "code",
      "metadata": {
        "colab": {
          "base_uri": "https://localhost:8080/"
        },
        "id": "uwYO-egsAlKJ",
        "outputId": "05f34307-8733-4c6e-d5eb-17c57abaa269"
      },
      "source": [
        "i=1\n",
        "while i<6:\n",
        "  print(i)\n",
        "  if(i==3):\n",
        "    break\n",
        "  i+=1\n",
        "  "
      ],
      "execution_count": null,
      "outputs": [
        {
          "output_type": "stream",
          "text": [
            "1\n",
            "2\n",
            "3\n"
          ],
          "name": "stdout"
        }
      ]
    },
    {
      "cell_type": "code",
      "metadata": {
        "colab": {
          "base_uri": "https://localhost:8080/"
        },
        "id": "dsc84wtb_UId",
        "outputId": "cebd2b26-6710-421e-e79e-942bc7fd8050"
      },
      "source": [
        "i=0\n",
        "while i<6:\n",
        "  i+=1\n",
        "  if(i==3):\n",
        "    continue\n",
        "  print(i)"
      ],
      "execution_count": null,
      "outputs": [
        {
          "output_type": "stream",
          "text": [
            "1\n",
            "2\n",
            "4\n",
            "5\n",
            "6\n"
          ],
          "name": "stdout"
        }
      ]
    },
    {
      "cell_type": "code",
      "metadata": {
        "colab": {
          "base_uri": "https://localhost:8080/"
        },
        "id": "X0TlESaUAryw",
        "outputId": "2d2a2080-6eb4-4dc9-bbc3-1485ad3aa34d"
      },
      "source": [
        "i=0\n",
        "while i<6:\n",
        "  i+=1\n",
        "  if(i==3):\n",
        "    pass\n",
        "  print(i)"
      ],
      "execution_count": null,
      "outputs": [
        {
          "output_type": "stream",
          "text": [
            "1\n",
            "2\n",
            "3\n",
            "4\n",
            "5\n",
            "6\n"
          ],
          "name": "stdout"
        }
      ]
    },
    {
      "cell_type": "code",
      "metadata": {
        "colab": {
          "base_uri": "https://localhost:8080/"
        },
        "id": "xRE__3cMAuk_",
        "outputId": "83b33bc4-149d-47ed-cdd8-b2052d426439"
      },
      "source": [
        "for c in range (10):  \n",
        "    print (c)"
      ],
      "execution_count": null,
      "outputs": [
        {
          "output_type": "stream",
          "text": [
            "0\n",
            "1\n",
            "2\n",
            "3\n",
            "4\n",
            "5\n",
            "6\n",
            "7\n",
            "8\n",
            "9\n"
          ],
          "name": "stdout"
        }
      ]
    },
    {
      "cell_type": "code",
      "metadata": {
        "colab": {
          "base_uri": "https://localhost:8080/"
        },
        "id": "E6F8OxMcAyo7",
        "outputId": "d9e47005-27b0-4ab4-9e93-c82504e12b5a"
      },
      "source": [
        "for c in range (5,10):  \n",
        "    print (c, end=',')"
      ],
      "execution_count": null,
      "outputs": [
        {
          "output_type": "stream",
          "text": [
            "5,6,7,8,9,"
          ],
          "name": "stdout"
        }
      ]
    },
    {
      "cell_type": "code",
      "metadata": {
        "colab": {
          "base_uri": "https://localhost:8080/"
        },
        "id": "FjbOR9jfAz_Y",
        "outputId": "b5719ab2-d2fa-4077-8370-08c4aa8a3af3"
      },
      "source": [
        "n = [6,4,5,7,8,6,2,3,1]\n",
        "s = 0\n",
        "for val in n:\n",
        "    s=s+val\n",
        "print(s)"
      ],
      "execution_count": null,
      "outputs": [
        {
          "output_type": "stream",
          "text": [
            "42\n"
          ],
          "name": "stdout"
        }
      ]
    },
    {
      "cell_type": "code",
      "metadata": {
        "colab": {
          "base_uri": "https://localhost:8080/"
        },
        "id": "11MGgQjDA25_",
        "outputId": "04843f68-d539-4c4f-dc99-4117b90e156b"
      },
      "source": [
        "for letter in 'Python':     # First Example\n",
        "   print ('Current Letter :', letter)"
      ],
      "execution_count": null,
      "outputs": [
        {
          "output_type": "stream",
          "text": [
            "Current Letter : P\n",
            "Current Letter : y\n",
            "Current Letter : t\n",
            "Current Letter : h\n",
            "Current Letter : o\n",
            "Current Letter : n\n"
          ],
          "name": "stdout"
        }
      ]
    },
    {
      "cell_type": "code",
      "metadata": {
        "colab": {
          "base_uri": "https://localhost:8080/"
        },
        "id": "9NJ9i8srA3Bs",
        "outputId": "ef6d0bc4-c0f3-4f3b-e807-22c77e4f270d"
      },
      "source": [
        "fruits = ['banana', 'apple',  'mango']\n",
        "for fruit in fruits:        # Second Example\n",
        "   print ('Current fruit :', fruit)\n"
      ],
      "execution_count": null,
      "outputs": [
        {
          "output_type": "stream",
          "text": [
            "Current fruit : banana\n",
            "Current fruit : apple\n",
            "Current fruit : mango\n"
          ],
          "name": "stdout"
        }
      ]
    },
    {
      "cell_type": "code",
      "metadata": {
        "colab": {
          "base_uri": "https://localhost:8080/"
        },
        "id": "cHDU5nHEA3GS",
        "outputId": "d7b73099-f889-4d49-abe3-62d75286a633"
      },
      "source": [
        "for c in range (1,6):\n",
        "    if c == 3:\n",
        "        break\n",
        "    print (c)"
      ],
      "execution_count": null,
      "outputs": [
        {
          "output_type": "stream",
          "text": [
            "1\n",
            "2\n"
          ],
          "name": "stdout"
        }
      ]
    },
    {
      "cell_type": "code",
      "metadata": {
        "colab": {
          "base_uri": "https://localhost:8080/"
        },
        "id": "qK0ReJzIBDtI",
        "outputId": "ec9e0554-dc4f-4c5f-8941-a05f63cbae1b"
      },
      "source": [
        "for letter in 'Python': \n",
        "   if letter == 'h':\n",
        "      pass\n",
        "      print ('This is pass block')\n",
        "   print ('Current Letter :', letter)\n",
        "\n",
        "print (\"Good bye!\")"
      ],
      "execution_count": null,
      "outputs": [
        {
          "output_type": "stream",
          "text": [
            "Current Letter : P\n",
            "Current Letter : y\n",
            "Current Letter : t\n",
            "This is pass block\n",
            "Current Letter : h\n",
            "Current Letter : o\n",
            "Current Letter : n\n",
            "Good bye!\n"
          ],
          "name": "stdout"
        }
      ]
    },
    {
      "cell_type": "code",
      "metadata": {
        "id": "VdkNtnkaBFZ0",
        "colab": {
          "base_uri": "https://localhost:8080/"
        },
        "outputId": "096be260-3d61-4269-9ae9-6991a86cfe9e"
      },
      "source": [
        "print (\"WELCOME TO PGDCB-PYTHON COURSE\")\n",
        "for i in range (1,3):\n",
        "    for j in range (1,3):\n",
        "        for k in range (1,3):\n",
        "            print (\"i: \" + str(i) + \" j: \" + str(j) + \" k: \" + str(k))\n",
        "    print (\"PGDCB\")"
      ],
      "execution_count": null,
      "outputs": [
        {
          "output_type": "stream",
          "text": [
            "WELCOME TO PGDCB-PYTHON COURSE\n",
            "i: 1 j: 1 k: 1\n",
            "i: 1 j: 1 k: 2\n",
            "i: 1 j: 2 k: 1\n",
            "i: 1 j: 2 k: 2\n",
            "PGDCB\n",
            "i: 2 j: 1 k: 1\n",
            "i: 2 j: 1 k: 2\n",
            "i: 2 j: 2 k: 1\n",
            "i: 2 j: 2 k: 2\n",
            "PGDCB\n"
          ],
          "name": "stdout"
        }
      ]
    },
    {
      "cell_type": "code",
      "metadata": {
        "colab": {
          "base_uri": "https://localhost:8080/"
        },
        "id": "p1T270DEfTiP",
        "outputId": "117392f6-6c92-40ff-b403-93f92c5c1b99"
      },
      "source": [
        "print (\"WELCOME TO VAL-PYTHON COURSE\")\n",
        "for i in range (1,3):\n",
        "  for j in range (1,3):\n",
        "    print (\"i: \",i, \" j: \",j)\n",
        "  print (\"PGDCB\")"
      ],
      "execution_count": null,
      "outputs": [
        {
          "output_type": "stream",
          "text": [
            "WELCOME TO VAL-PYTHON COURSE\n",
            "i:  1  j:  1\n",
            "i:  1  j:  2\n",
            "PGDCB\n",
            "i:  2  j:  1\n",
            "i:  2  j:  2\n",
            "PGDCB\n"
          ],
          "name": "stdout"
        }
      ]
    },
    {
      "cell_type": "code",
      "metadata": {
        "colab": {
          "base_uri": "https://localhost:8080/"
        },
        "id": "LkAdJs2rBMwM",
        "outputId": "7e000ea3-dbcc-4540-991d-f31e81ac43c5"
      },
      "source": [
        "fruits = ['apple','banana', 'cherry']\n",
        "for x in fruits:        \n",
        "   print (x)\n",
        "   if x==\"banana\":\n",
        "     break"
      ],
      "execution_count": null,
      "outputs": [
        {
          "output_type": "stream",
          "text": [
            "apple\n",
            "banana\n"
          ],
          "name": "stdout"
        }
      ]
    },
    {
      "cell_type": "code",
      "metadata": {
        "colab": {
          "base_uri": "https://localhost:8080/"
        },
        "id": "0PG9TS46BPod",
        "outputId": "06ad2293-132d-4c69-f29d-b1544e1fd30f"
      },
      "source": [
        "fruits = ['apple','banana', 'cherry']\n",
        "for x in fruits:        \n",
        "   if x==\"banana\":\n",
        "     break\n",
        "   print (x)"
      ],
      "execution_count": null,
      "outputs": [
        {
          "output_type": "stream",
          "text": [
            "apple\n"
          ],
          "name": "stdout"
        }
      ]
    },
    {
      "cell_type": "code",
      "metadata": {
        "colab": {
          "base_uri": "https://localhost:8080/"
        },
        "id": "vS11ccb9BTo1",
        "outputId": "663df571-f612-4dd8-8d9f-7036744d29fe"
      },
      "source": [
        "fruits = ['apple','banana', 'cherry']\n",
        "for x in fruits:        \n",
        "   if x==\"banana\":\n",
        "     continue\n",
        "   print (x)"
      ],
      "execution_count": null,
      "outputs": [
        {
          "output_type": "stream",
          "text": [
            "apple\n",
            "cherry\n"
          ],
          "name": "stdout"
        }
      ]
    },
    {
      "cell_type": "code",
      "metadata": {
        "id": "eTvVoDaPBWlZ"
      },
      "source": [
        "prop = [\"red\", \"healthy\",\"tasty\"]\n",
        "fruits = ['apple','banana', 'cherry']\n",
        "for x in prop:\n",
        "  for y in fruits:\n",
        "    print(x,y)\n"
      ],
      "execution_count": null,
      "outputs": []
    },
    {
      "cell_type": "code",
      "metadata": {
        "colab": {
          "base_uri": "https://localhost:8080/"
        },
        "id": "rodXwNvzBfwx",
        "outputId": "d6b9e86f-9961-407f-9aba-259205e63193"
      },
      "source": [
        "for i in range(1, 4): \n",
        "    print(i) \n",
        "else:  # Executed because no break in for \n",
        "    print(\"No Break\")"
      ],
      "execution_count": null,
      "outputs": [
        {
          "output_type": "stream",
          "text": [
            "1\n",
            "2\n",
            "3\n",
            "No Break\n"
          ],
          "name": "stdout"
        }
      ]
    },
    {
      "cell_type": "markdown",
      "metadata": {
        "id": "72os5yaSTnag"
      },
      "source": []
    },
    {
      "cell_type": "code",
      "metadata": {
        "id": "CawrxiWBh1hd"
      },
      "source": [],
      "execution_count": null,
      "outputs": []
    },
    {
      "cell_type": "code",
      "metadata": {
        "colab": {
          "base_uri": "https://localhost:8080/"
        },
        "id": "IZWHPkilBhG8",
        "outputId": "350f7940-1f8e-40cf-b68f-3de7780ff056"
      },
      "source": [
        "for i in range(1, 4): \n",
        "    print(i) \n",
        "    break\n",
        "else: # Not executed as there is a break \n",
        "    print(\"No Break\") "
      ],
      "execution_count": null,
      "outputs": [
        {
          "output_type": "stream",
          "text": [
            "1\n"
          ],
          "name": "stdout"
        }
      ]
    },
    {
      "cell_type": "code",
      "metadata": {
        "colab": {
          "base_uri": "https://localhost:8080/"
        },
        "id": "GO5fZ8KTBluu",
        "outputId": "eb1185ed-abe0-4182-e78d-53b3378dea77"
      },
      "source": [
        "# Python 3.x program to check if an array consists of even number \n",
        "def contains_even_number(l): \n",
        "    for ele in l: \n",
        "        if ele % 2 == 0: \n",
        "            print (\"list contains an even number\") \n",
        "            break\n",
        "  \n",
        "    # This else executes only if break is NEVER \n",
        "    # reached and loop terminated after all iterations. \n",
        "    else:      \n",
        "        print (\"list does not contain an even number\") \n",
        "  \n",
        "# Driver code \n",
        "print (\"For List 1:\") \n",
        "contains_even_number([1, 9, 8]) \n",
        "print (\" \\nFor List 2:\") \n",
        "contains_even_number([1, 3, 5])"
      ],
      "execution_count": null,
      "outputs": [
        {
          "output_type": "stream",
          "text": [
            "For List 1:\n",
            "list contains an even number\n",
            " \n",
            "For List 2:\n",
            "list does not contain an even number\n"
          ],
          "name": "stdout"
        }
      ]
    },
    {
      "cell_type": "code",
      "metadata": {
        "colab": {
          "base_uri": "https://localhost:8080/"
        },
        "id": "RjGkvKFLBpym",
        "outputId": "3cccb9d8-ac86-41e5-9d2b-afee6361ad3f"
      },
      "source": [
        "# Python program to find the factorial of a number provided by the user.\n",
        "\n",
        "# change the value for a different result\n",
        "n = int(input(\"Enter the number:\"))\n",
        "\n",
        "f = 1\n",
        "\n",
        "for i in range(1, n + 1):\n",
        "  f = f*i\n",
        "print(\"The factorial of\",n,\"is\",f)"
      ],
      "execution_count": null,
      "outputs": [
        {
          "output_type": "stream",
          "text": [
            "Enter the number:-5\n",
            "The factorial of -5 is 1\n"
          ],
          "name": "stdout"
        }
      ]
    },
    {
      "cell_type": "code",
      "metadata": {
        "colab": {
          "base_uri": "https://localhost:8080/"
        },
        "id": "Q-ZPxRefByOD",
        "outputId": "764ed589-fe3c-479e-a1d6-4f0258d7e575"
      },
      "source": [
        "n = int(input(\"How many terms? \"))\n",
        "\n",
        "# first two terms\n",
        "a, b = 0, 1\n",
        "count = 0\n",
        "print(\"Fibonacci sequence:\")\n",
        "print(a)\n",
        "print(b)\n",
        "for i in range(3,n+1):\n",
        "  c = a + b\n",
        "  print(c)\n",
        "  # update values\n",
        "  a = b\n",
        "  b= c\n",
        "  "
      ],
      "execution_count": 3,
      "outputs": [
        {
          "output_type": "stream",
          "name": "stdout",
          "text": [
            "How many terms? 5\n",
            "Fibonacci sequence:\n",
            "0\n",
            "1\n",
            "1\n",
            "2\n",
            "3\n"
          ]
        }
      ]
    },
    {
      "cell_type": "code",
      "metadata": {
        "colab": {
          "base_uri": "https://localhost:8080/"
        },
        "id": "5U5xFf09B3NY",
        "outputId": "5ea90be0-f143-4303-bbf6-a489742cba78"
      },
      "source": [
        "# Python program to check if the number is an Armstrong number or not\n",
        "\n",
        "# take input from the user\n",
        "num = int(input(\"Enter a number: \"))\n",
        "\n",
        "# initialize sum\n",
        "arm = 0\n",
        "\n",
        "# find the sum of the cube of each digit\n",
        "temp = num\n",
        "while temp > 0:\n",
        "   digit = temp % 10\n",
        "   arm += digit ** 3\n",
        "   temp //= 10\n",
        "\n",
        "# display the result\n",
        "if num == arm:\n",
        "   print(num,\"is an Armstrong number\")\n",
        "else:\n",
        "   print(num,\"is not an Armstrong number\")"
      ],
      "execution_count": null,
      "outputs": [
        {
          "output_type": "stream",
          "text": [
            "Enter a number: 153\n",
            "153 is an Armstrong number\n"
          ],
          "name": "stdout"
        }
      ]
    },
    {
      "cell_type": "markdown",
      "metadata": {
        "id": "NjpFzIVcXpe_"
      },
      "source": [
        "# **Functions**"
      ]
    },
    {
      "cell_type": "code",
      "metadata": {
        "id": "7dg-tdq1XmLk",
        "colab": {
          "base_uri": "https://localhost:8080/"
        },
        "outputId": "3ef3d5c1-9e92-47a2-b232-6bc60b198ab0"
      },
      "source": [
        "def fun1(str):\n",
        "   #This prints a passed string into this function\n",
        "   print (str)\n",
        "   \n",
        "\n",
        "# Now you can call fun1 function\n",
        "fun1(\"PGDCB\")\n",
        "fun1(\"PYTHON PROGRAMMING CLASS\")"
      ],
      "execution_count": null,
      "outputs": [
        {
          "output_type": "stream",
          "text": [
            "PGDCB\n",
            "PYTHON PROGRAMMING CLASS\n"
          ],
          "name": "stdout"
        }
      ]
    },
    {
      "cell_type": "code",
      "metadata": {
        "id": "HJ3yTETUXmi1",
        "colab": {
          "base_uri": "https://localhost:8080/"
        },
        "outputId": "b9d076a0-925a-46b5-9d3f-003ca3567986"
      },
      "source": [
        "def add(x,y):\n",
        "    return (x+y)\n",
        "def sub(x,y):\n",
        "    return (x-y)\n",
        "def mul(x,y):\n",
        "    return (x*y)\n",
        "def div(x,y):\n",
        "    return (x/y)\n",
        "\n",
        "n1=40; n2=20\n",
        "print(\"Sum=\",add(n1,n2))\n",
        "print(\"Sub=\",sub(n1,n2))\n",
        "print(\"Multiplication=\",mul(n1,n2))\n",
        "print(\"Division=\",div(n1,n2))"
      ],
      "execution_count": null,
      "outputs": [
        {
          "output_type": "stream",
          "text": [
            "Sum= 60\n",
            "Sub= 20\n",
            "Multiplication= 800\n",
            "Division= 2.0\n"
          ],
          "name": "stdout"
        }
      ]
    },
    {
      "cell_type": "code",
      "metadata": {
        "id": "Q8AUq7MC1YR0"
      },
      "source": [],
      "execution_count": null,
      "outputs": []
    },
    {
      "cell_type": "markdown",
      "metadata": {
        "id": "ehKr-X6s1ZQm"
      },
      "source": [
        "Required Arguments"
      ]
    },
    {
      "cell_type": "code",
      "metadata": {
        "colab": {
          "base_uri": "https://localhost:8080/"
        },
        "id": "PyKtqCqG1hNr",
        "outputId": "db62ef4a-2115-4e57-eb3d-4947471e66f2"
      },
      "source": [
        "def fun1(str):\n",
        "   #This prints a passed string into this function\n",
        "   print (str)\n",
        "   \n",
        "\n",
        "# Now you can call fun1 function\n",
        "fun1(\"PGDCB\")\n",
        "fun1(\"PYTHON PROGRAMMING CLASS\")"
      ],
      "execution_count": null,
      "outputs": [
        {
          "output_type": "stream",
          "text": [
            "PGDCB\n",
            "PYTHON PROGRAMMING CLASS\n"
          ],
          "name": "stdout"
        }
      ]
    },
    {
      "cell_type": "code",
      "metadata": {
        "colab": {
          "base_uri": "https://localhost:8080/"
        },
        "id": "2-9M2mHXV-uv",
        "outputId": "d5731646-fce0-4bbb-d3cf-b3eb3b422c84"
      },
      "source": [
        "def printinfo( name, pyt ):\n",
        "   \"This prints a passed info into this function\"\n",
        "   print (\"Name: \", name)\n",
        "   print (\"Python Subject% \", pyt)\n",
        "   \n",
        "\n",
        "# Now you can call printinfo function\n",
        "printinfo( 100, \"Nabanita\" )\n"
      ],
      "execution_count": 10,
      "outputs": [
        {
          "output_type": "stream",
          "name": "stdout",
          "text": [
            "Name:  100\n",
            "Python Subject%  Nabanita\n"
          ]
        }
      ]
    },
    {
      "cell_type": "markdown",
      "metadata": {
        "id": "TXxw1A9U2-hZ"
      },
      "source": [
        "Keyword Arguments"
      ]
    },
    {
      "cell_type": "code",
      "metadata": {
        "id": "NT7XpdSa284r",
        "colab": {
          "base_uri": "https://localhost:8080/"
        },
        "outputId": "8d1ba8d4-a9ff-434b-ebd0-cadb478dbe9b"
      },
      "source": [
        "def fun1(str):\n",
        "   \"This prints a passed string into this function\"\n",
        "   print (str)\n",
        "   return;\n",
        "   \n",
        "fun1(str=\"Christ University\")\n",
        "fun1(str=\"PGDCB-python class\")\n"
      ],
      "execution_count": null,
      "outputs": [
        {
          "output_type": "stream",
          "text": [
            "Christ University\n",
            "PGDCB-python class\n"
          ],
          "name": "stdout"
        }
      ]
    },
    {
      "cell_type": "code",
      "metadata": {
        "id": "_kUOlCmJpCYd",
        "colab": {
          "base_uri": "https://localhost:8080/"
        },
        "outputId": "61980d8d-d30a-4ec7-d911-e9fdfd7187b9"
      },
      "source": [
        "def printinfo( name, pyt ):\n",
        "   \"This prints a passed info into this function\"\n",
        "   print (\"Name: \", name)\n",
        "   print (\"Python Subject% \", pyt)\n",
        "   \n",
        "\n",
        "# Now you can call printinfo function\n",
        "printinfo( pyt=100, name=\"Nabanita\" )\n"
      ],
      "execution_count": null,
      "outputs": [
        {
          "output_type": "stream",
          "text": [
            "Name:  Nabanita\n",
            "Python Subject%  100\n"
          ],
          "name": "stdout"
        }
      ]
    },
    {
      "cell_type": "markdown",
      "metadata": {
        "id": "5-W2k2SE37bN"
      },
      "source": [
        "Default Arguments"
      ]
    },
    {
      "cell_type": "code",
      "metadata": {
        "id": "xfxMX9fJXmpw",
        "colab": {
          "base_uri": "https://localhost:8080/"
        },
        "outputId": "74b4764c-f205-4c25-9e42-72ba2a6ea0eb"
      },
      "source": [
        "# Function definition is here\n",
        "def printinfo( name, pyt=95):\n",
        "   print (\"Name: \", name)\n",
        "   print (\"Python Subject%  \", pyt)\n",
        "   \n",
        "\n",
        "# Now you can call printinfo function\n",
        "printinfo( pyt=100, name=\"Nabanita\" )\n",
        "#printinfo( pyt, name=\"M Section\")  \n",
        "#Error stmt --as keyword argument should compulsorily have a value--pyt=99\n",
        "printinfo( name=\"Nabanita\" , pyt=80)\n",
        "printinfo( name=\"Nabanita\")\n",
        "#printinfo(name=\"Shubham\",pyt)  #Error stmt --as keyword argument should compulsorily have a value--pyt=99"
      ],
      "execution_count": null,
      "outputs": [
        {
          "output_type": "stream",
          "text": [
            "Name:  Nabanita\n",
            "Python Subject%   100\n",
            "Name:  Nabanita\n",
            "Python Subject%   80\n",
            "Name:  Nabanita\n",
            "Python Subject%   95\n"
          ],
          "name": "stdout"
        }
      ]
    },
    {
      "cell_type": "markdown",
      "metadata": {
        "id": "enyhHVC34aTh"
      },
      "source": [
        "Variable Length Arguments"
      ]
    },
    {
      "cell_type": "code",
      "metadata": {
        "id": "4cSixQc24WHM"
      },
      "source": [
        "# Function definition is here\n",
        "def function1(*vartuple ):\n",
        "   for var in vartuple:\n",
        "      print (var)\n",
        "   return;\n",
        "\n",
        "# Now you can call printinfo function\n",
        "function1( 10 )\n",
        "function1( 70, 60, 50 )"
      ],
      "execution_count": null,
      "outputs": []
    },
    {
      "cell_type": "code",
      "metadata": {
        "id": "U32YFaCbaV6i",
        "outputId": "607baebc-e93f-49fa-8503-31f3772d9e58",
        "colab": {
          "base_uri": "https://localhost:8080/"
        }
      },
      "source": [
        "def kwarg_type_test(**kwargs): \n",
        "\tprint(kwargs) \n",
        "\n",
        "kwarg_type_test(a=\"hi\") \n",
        "kwarg_type_test(roses=\"red\", violets=\"blue\")"
      ],
      "execution_count": 9,
      "outputs": [
        {
          "output_type": "stream",
          "name": "stdout",
          "text": [
            "{'a': 'hi'}\n",
            "{'roses': 'red', 'violets': 'blue'}\n"
          ]
        }
      ]
    },
    {
      "cell_type": "markdown",
      "metadata": {
        "id": "wVUoRjR2adw3"
      },
      "source": [
        "# **Examples**"
      ]
    },
    {
      "cell_type": "markdown",
      "metadata": {
        "id": "IB46B6FCF1x6"
      },
      "source": []
    },
    {
      "cell_type": "markdown",
      "metadata": {
        "id": "4tLVBNAsai_2"
      },
      "source": [
        "1. To find Factorial of a number"
      ]
    },
    {
      "cell_type": "code",
      "metadata": {
        "colab": {
          "base_uri": "https://localhost:8080/"
        },
        "id": "eu5xQ0xjab6i",
        "outputId": "59f56839-0c9e-4bdc-dc4f-1d2a11c4a8ee"
      },
      "source": [
        "def fact(n):\n",
        "  if n==0:\n",
        "    return 1\n",
        "  else:\n",
        "    return n*fact(n-1)\n",
        "print(\"The factorial of a given no is\",fact(5))\n"
      ],
      "execution_count": null,
      "outputs": [
        {
          "output_type": "stream",
          "text": [
            "The factorial of a given no is 120\n"
          ],
          "name": "stdout"
        }
      ]
    },
    {
      "cell_type": "code",
      "metadata": {
        "id": "IcDummPLa7DR"
      },
      "source": [],
      "execution_count": null,
      "outputs": []
    },
    {
      "cell_type": "markdown",
      "metadata": {
        "id": "z1ZBIN6Pa4IP"
      },
      "source": [
        "2. Fibonacci series"
      ]
    },
    {
      "cell_type": "code",
      "metadata": {
        "colab": {
          "base_uri": "https://localhost:8080/"
        },
        "id": "pfVxgKf2a7vW",
        "outputId": "de2326be-2dcd-4596-ed72-3c222e521981"
      },
      "source": [
        "def fib(n):\n",
        "  if n<3:\n",
        "    return 1\n",
        "  else:\n",
        "    return fib(n-1)+fib(n-2)\n",
        "    \n",
        "print(\"The nth fibbonacci no is\",fib(10))"
      ],
      "execution_count": null,
      "outputs": [
        {
          "output_type": "stream",
          "text": [
            "The nth fibbonacci no is 55\n"
          ],
          "name": "stdout"
        }
      ]
    },
    {
      "cell_type": "code",
      "metadata": {
        "id": "UqwGQSmMbCJG",
        "outputId": "42bfa821-1322-4782-9a38-db4f52ee6dd7",
        "colab": {
          "base_uri": "https://localhost:8080/"
        }
      },
      "source": [
        "def maxtwo( x, y ):\n",
        "  print(\"x=\",\"y=\",x,y)\n",
        "  if x > y:\n",
        "    return x\n",
        "  return y\n",
        "def maxthree( x, y, z ):\n",
        "  return maxtwo( x, maxtwo( z, y ) )\n",
        "print(maxthree(3, 6, -5))"
      ],
      "execution_count": 8,
      "outputs": [
        {
          "output_type": "stream",
          "name": "stdout",
          "text": [
            "x= y= -5 6\n",
            "x= y= 3 6\n",
            "6\n"
          ]
        }
      ]
    },
    {
      "cell_type": "markdown",
      "metadata": {
        "id": "-4zSIKLMF5al"
      },
      "source": [
        "# **Files **"
      ]
    },
    {
      "cell_type": "code",
      "metadata": {
        "colab": {
          "base_uri": "https://localhost:8080/"
        },
        "id": "8240V4sqF-Rw",
        "outputId": "29a160b0-75cc-4f10-b06b-1cb74f0cfc5f"
      },
      "source": [
        "fo = open(\"AshaPython.txt\", \"w\")\n",
        "print (\"Name of the file: \", fo.name)\n",
        "print (\"Closed or not : \", fo.closed)\n",
        "print (\"Opening mode : \", fo.mode)"
      ],
      "execution_count": null,
      "outputs": [
        {
          "output_type": "stream",
          "text": [
            "Name of the file:  AshaPython.txt\n",
            "Closed or not :  False\n",
            "Opening mode :  w\n"
          ],
          "name": "stdout"
        }
      ]
    },
    {
      "cell_type": "code",
      "metadata": {
        "colab": {
          "base_uri": "https://localhost:8080/"
        },
        "id": "co0XoeSXG-BS",
        "outputId": "7155b70f-da82-452e-b7fa-2d5c0eafc5db"
      },
      "source": [
        "fo = open(\"Asha1.txt\", \"w\")\n",
        "fo.write( \"     Welcome to PGDCB classroom      \")\n",
        "fo = open(\"Asha1.txt\", \"r\")\n",
        "str1 =fo.read(8) \n",
        "print (\"Read String is : \", str1)\n",
        "fo.close()\n",
        "fo = open(\"Asha1.txt\", \"a\")\n",
        "fo.write( \"Christ University Students\")\n",
        "fo = open(\"Asha1.txt\", \"r\")\n",
        "print(fo.read() )\n",
        "fo.close()"
      ],
      "execution_count": null,
      "outputs": [
        {
          "output_type": "stream",
          "text": [
            "Read String is :       Wel\n",
            "     Welcome to PGDCB classroom      Christ University Students\n"
          ],
          "name": "stdout"
        }
      ]
    },
    {
      "cell_type": "code",
      "metadata": {
        "colab": {
          "base_uri": "https://localhost:8080/"
        },
        "id": "qAlB3CP0IGvR",
        "outputId": "21a42ec0-feae-4828-bfb4-01f69950650c"
      },
      "source": [
        "# Python code to illustrate with() along with write() \n",
        "with open(\"Asha2.txt\", \"w\") as f:  \n",
        "    f.write(\"Hello World!!!\\n\") \n",
        "    f.write(\"Welcome to Sathyabama\\n\") \n",
        "    f.write(\"We are learning Python\") \n",
        "with open(\"Asha2.txt\") as file:      \n",
        "  #helpful because using this method any files opened will be closed automatically after one is done, so auto-cleanup.\n",
        "    data = file.read() \n",
        "    print(data) \n",
        "\n",
        "# Python code to illustrate split() function \n",
        "with open(\"Asha2.txt\", \"r\") as file: \n",
        "    data = file.readlines() \n",
        "    for line in data: \n",
        "        word = line.split() \n",
        "        print (word) "
      ],
      "execution_count": null,
      "outputs": [
        {
          "output_type": "stream",
          "text": [
            "Hello World!!!\n",
            "Welcome to Sathyabama\n",
            "We are learning Python\n",
            "['Hello', 'World!!!']\n",
            "['Welcome', 'to', 'Sathyabama']\n",
            "['We', 'are', 'learning', 'Python']\n"
          ],
          "name": "stdout"
        }
      ]
    },
    {
      "cell_type": "code",
      "metadata": {
        "colab": {
          "base_uri": "https://localhost:8080/"
        },
        "id": "zzfMBMF7F-J9",
        "outputId": "56c8c48e-70d6-44d9-f73d-9430bcdaef29"
      },
      "source": [
        "fo = open(\"Asha1.txt\", \"r\")    #helpful because using this method any files opened will be closed automatically after one is done, so auto-cleanup.\n",
        "data = fo.read() \n",
        "print(data)\n",
        "print(data.lstrip())   #This function strips each line of a file off spaces from the left-hand side.\n",
        "print(data.rstrip())"
      ],
      "execution_count": null,
      "outputs": [
        {
          "output_type": "stream",
          "text": [
            "     Welcome to PGDCB classroom      Christ University Students\n",
            "Welcome to PGDCB classroom      Christ University Students\n",
            "     Welcome to PGDCB classroom      Christ University Students\n"
          ],
          "name": "stdout"
        }
      ]
    },
    {
      "cell_type": "code",
      "metadata": {
        "colab": {
          "base_uri": "https://localhost:8080/"
        },
        "id": "peQ8ZVX8JWFr",
        "outputId": "cc4afb13-c0f9-41da-f45c-19ec5ef4cb43"
      },
      "source": [
        "fo = open(\"Asha1.txt\", \"r\")    #helpful because using this method any files opened will be closed automatically after one is done, so auto-cleanup.\n",
        "data = fo.read() \n",
        "print(data)\n",
        "print(data.lstrip())   #This function strips each line of a file off spaces from the left-hand side.\n",
        "print(data.rstrip())  #rstrip() method returns a copy of the string with trailing characters/spaces removed \n",
        "# rstrip() method using optional parameters  \n",
        "  \n",
        "#string which is to be stripped \n",
        "string = \"Pythonpppppp\"\n",
        "# Removes given set of characters from \n",
        "# right. \n",
        "print(string.rstrip('p')) \n",
        "# string which is to be stripped \n",
        "string = \"Christ Univ students\"\n",
        "# Removes given set of characters from \n",
        "# right. \n",
        "print(string.rstrip('ents'))\n",
        "# string which is to be stripped \n",
        "string = \" Student        \"\n",
        "# Leading whitespaces are removed \n",
        "print(\"Happy\" + string.rstrip() + \" life \")"
      ],
      "execution_count": null,
      "outputs": [
        {
          "output_type": "stream",
          "text": [
            "     Welcome to PGDCB classroom      Christ University Students\n",
            "Welcome to PGDCB classroom      Christ University Students\n",
            "     Welcome to PGDCB classroom      Christ University Students\n",
            "Python\n",
            "Christ Univ stud\n",
            "Happy Student life \n"
          ],
          "name": "stdout"
        }
      ]
    },
    {
      "cell_type": "code",
      "metadata": {
        "colab": {
          "base_uri": "https://localhost:8080/"
        },
        "id": "r7FDxw09RqFI",
        "outputId": "a7b43483-9f5d-40db-eea8-dd87607b2cbe"
      },
      "source": [
        "fo = open(\"DCB.txt\", \"w\")\n",
        "fo.write( \"PGDCB Python Class!! This is a Certification Course with 22 Hours of Study\")\n",
        "fo = open(\"DCB.txt\", \"r+\")\n",
        "str = fo.read(10);\n",
        "print (\"Read String is : \", str)\n",
        "# Close opend file\n",
        "fo.close()"
      ],
      "execution_count": null,
      "outputs": [
        {
          "output_type": "stream",
          "text": [
            "Read String is :  PGDCB Pyth\n"
          ],
          "name": "stdout"
        }
      ]
    },
    {
      "cell_type": "code",
      "metadata": {
        "colab": {
          "base_uri": "https://localhost:8080/"
        },
        "id": "d2aPc7HpRz5-",
        "outputId": "02aba269-fa72-4789-f9dc-a7a178081ac5"
      },
      "source": [
        "# Open a file\n",
        "fo = open(\"DCB.txt\", \"r+\")\n",
        "str = fo.read(10);\n",
        "print (\"Read String is : \", str)\n",
        "# Check current position\n",
        "position=fo.tell()\n",
        "print(\"Current file position : \",position)\n",
        "# Reposition pointer at the beginning once again\n",
        "position=fo.seek(2,0);\n",
        "str=fo.read(10)\n",
        "print(\"Again read String is : \",str)\n",
        "# Close opend file\n",
        "fo.close()"
      ],
      "execution_count": null,
      "outputs": [
        {
          "output_type": "stream",
          "text": [
            "Read String is :  PGDCB Pyth\n",
            "Current file position :  10\n",
            "Again read String is :  DCB Python\n"
          ],
          "name": "stdout"
        }
      ]
    },
    {
      "cell_type": "code",
      "metadata": {
        "colab": {
          "base_uri": "https://localhost:8080/"
        },
        "id": "zHqXYlp8SsGt",
        "outputId": "805f31c2-7c2a-4520-aff9-638ef2fac613"
      },
      "source": [
        "# Open a file\n",
        "import os\n",
        "f = open(\"DCB.txt\", \"rb\")\n",
        "str = f.read();\n",
        "print (\"Read String is : \", str)\n",
        "position=f.tell()\n",
        "print(\"Current file position : \",position)\n",
        "# Reposition pointer at the beginning once again\n",
        "#position=fo.seek(-2,1);\n",
        "#f = open('D:\\SGStat.txt', 'ab')\n",
        "print(f.seek(f.tell()-3, os.SEEK_SET))\n",
        "f.seek(-4,2)\n",
        "str=f.read()\n",
        "print(\"Again read String is : \",str)\n",
        "# Close opend file\n",
        "fo.close()"
      ],
      "execution_count": null,
      "outputs": [
        {
          "output_type": "stream",
          "text": [
            "Read String is :  b'PGDCB Python Class!! This is a Certification Course with 22 Hours of Study'\n",
            "Current file position :  74\n",
            "71\n",
            "Again read String is :  b'tudy'\n"
          ],
          "name": "stdout"
        }
      ]
    },
    {
      "cell_type": "code",
      "metadata": {
        "colab": {
          "base_uri": "https://localhost:8080/"
        },
        "id": "U5JcifiyXjGX",
        "outputId": "8a523c5a-f552-4b6c-b218-43e830fa1656"
      },
      "source": [
        "# Python program to illustrate \n",
        "# Append vs write mode \n",
        "file1 = open(\"myfile.txt\", \"w\") \n",
        "L = [\"This is PGDCB Course \\n\", \"This is Python \\n\", \"This is Programming \\n\"] \n",
        "file1.writelines(L)       #writelines() : For a list of string elements, each string is inserted in the text file. \n",
        "                          #Used to insert multiple strings at a single time.\n",
        "file1.close() \n",
        "  \n",
        "# Append-adds at last \n",
        "file1 = open(\"myfile.txt\", \"a\")  # append mode \n",
        "file1.write(\"Welcome \\n\") \n",
        "file1.close() \n",
        "  \n",
        "file1 = open(\"myfile.txt\", \"r\") \n",
        "print(\"Output of Readlines after appending\") \n",
        "print(file1.read()) \n",
        "print() \n",
        "file1.close() \n",
        "  \n",
        "# Write-Overwrites \n",
        "file1 = open(\"myfile.txt\", \"w\")  # write mode \n",
        "file1.write(\"Thank you \\n\") \n",
        "file1.close() \n",
        "  \n",
        "file1 = open(\"myfile.txt\", \"r\") \n",
        "print(\"Output of Readlines after writing\") \n",
        "print(file1.read()) \n",
        "print() \n",
        "file1.close() "
      ],
      "execution_count": null,
      "outputs": [
        {
          "output_type": "stream",
          "text": [
            "Output of Readlines after appending\n",
            "This is PGDCB Course \n",
            "This is Python \n",
            "This is Programming \n",
            "Welcome \n",
            "\n",
            "\n",
            "Output of Readlines after writing\n",
            "Thank you \n",
            "\n",
            "\n"
          ],
          "name": "stdout"
        }
      ]
    },
    {
      "cell_type": "code",
      "metadata": {
        "colab": {
          "base_uri": "https://localhost:8080/"
        },
        "id": "sHtodIcHZ1Fw",
        "outputId": "be33b8c0-de51-480b-fd20-bbcf09895bf4"
      },
      "source": [
        "with open(\"Asha1.txt\") as file:      #helpful because using this method any files opened will be closed automatically after one is done, so auto-cleanup.\n",
        "    data = file.read() \n",
        "    print(\"ASHA1 Contents:\",data)\n",
        "\n",
        "with open(\"Asha2.txt\") as file:      #helpful because using this method any files opened will be closed automatically after one is done, so auto-cleanup.\n",
        "    data = file.read() \n",
        "    print(\"ASHA2 Contents:\",data)"
      ],
      "execution_count": null,
      "outputs": [
        {
          "output_type": "stream",
          "text": [
            "ASHA1 Contents:      Welcome to PGDCB classroom      Christ University Students\n",
            "ASHA2 Contents: Hello World!!!\n",
            "Welcome to Sathyabama\n",
            "We are learning Python\n"
          ],
          "name": "stdout"
        }
      ]
    },
    {
      "cell_type": "code",
      "metadata": {
        "colab": {
          "base_uri": "https://localhost:8080/"
        },
        "id": "tSG0EFvZaC-x",
        "outputId": "94fe448f-7b33-4ad9-e353-8ff4f986134f"
      },
      "source": [
        "# COPY CONTENTS OF ONE FILE INTO ANOTHER\n",
        "# open both files \n",
        "with open('Asha2.txt','r') as firstfile, open('Asha1.txt','a') as secondfile: \n",
        "      \n",
        "    # read content from first file \n",
        "    for line in firstfile: \n",
        "               \n",
        "             # write content to second file \n",
        "             secondfile.write(line)\n",
        "\n",
        "with open(\"Asha1.txt\") as file:      #helpful because using this method any files opened will be closed automatically after one is done, so auto-cleanup.\n",
        "    data = file.read() \n",
        "    print(\"ASHA1 Contents:\",data)            "
      ],
      "execution_count": null,
      "outputs": [
        {
          "output_type": "stream",
          "text": [
            "ASHA1 Contents:      Welcome to PGDCB classroom      Christ University StudentsHello World!!!\n",
            "Welcome to Sathyabama\n",
            "We are learning Python\n"
          ],
          "name": "stdout"
        }
      ]
    },
    {
      "cell_type": "code",
      "metadata": {
        "id": "-JsGmC6fd4Bb"
      },
      "source": [
        "#Using shutil.copy() module\n",
        "\n",
        "#The shutil.copy() method in Python is used to copy the content of the source file to destination file or directory. \n",
        "\n",
        "# import module \n",
        "import shutil \n",
        "  \n",
        "# use copyfile() \n",
        "shutil.copyfile('first.txt','second.txt')"
      ],
      "execution_count": null,
      "outputs": []
    },
    {
      "cell_type": "code",
      "metadata": {
        "id": "urcp9FEMbNYf"
      },
      "source": [
        "How to save file with file name from user using Python?\n",
        "# path of this script \n",
        "directory = \"D:\\gfg\\\\\"\n",
        "  \n",
        "# get fileName from user \n",
        "filepath = directory + input(\"Enter filename: \") \n",
        "  \n",
        "# Creates a new file \n",
        "with open(filepath, 'w+') as fp: \n",
        "    pass"
      ],
      "execution_count": null,
      "outputs": []
    },
    {
      "cell_type": "code",
      "metadata": {
        "id": "AJZsZsgtbPkL"
      },
      "source": [
        "import os\n",
        "\n",
        "# Rename a file from test1.txt to test2.txt\n",
        "os.rename( \"Asha.txt\", \"VAL.txt\" )"
      ],
      "execution_count": null,
      "outputs": []
    }
  ]
}