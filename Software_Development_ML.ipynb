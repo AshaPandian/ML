{
  "nbformat": 4,
  "nbformat_minor": 0,
  "metadata": {
    "colab": {
      "name": "Software Development-ML.ipynb",
      "provenance": [],
      "include_colab_link": true
    },
    "kernelspec": {
      "name": "python3",
      "display_name": "Python 3"
    }
  },
  "cells": [
    {
      "cell_type": "markdown",
      "metadata": {
        "id": "view-in-github",
        "colab_type": "text"
      },
      "source": [
        "<a href=\"https://colab.research.google.com/github/AshaPandian/ML/blob/main/Software_Development_ML.ipynb\" target=\"_parent\"><img src=\"https://colab.research.google.com/assets/colab-badge.svg\" alt=\"Open In Colab\"/></a>"
      ]
    },
    {
      "cell_type": "code",
      "metadata": {
        "id": "jdxo_7__E4vT"
      },
      "source": [],
      "execution_count": null,
      "outputs": []
    },
    {
      "cell_type": "code",
      "metadata": {
        "id": "mT8-CASI8ync",
        "colab": {
          "base_uri": "https://localhost:8080/"
        },
        "outputId": "6d1f886c-5de4-40af-886f-5062dd46f4f3"
      },
      "source": [
        "a=10\n",
        "b=20\n",
        "c=a+b\n",
        "print(c)"
      ],
      "execution_count": null,
      "outputs": [
        {
          "output_type": "stream",
          "name": "stdout",
          "text": [
            "30\n"
          ]
        }
      ]
    },
    {
      "cell_type": "code",
      "metadata": {
        "id": "PHynKwgGv-Qc",
        "colab": {
          "base_uri": "https://localhost:8080/"
        },
        "outputId": "72e3ded9-d297-4d7b-9ac5-dab2300e990d"
      },
      "source": [
        "x=int(input(\"Enter the value of x:\"))\n",
        "print(x)\n",
        "print(type(x))\n",
        "name=input(\"Enter ur name: \")\n",
        "print(\"your name is \", name)\n",
        "print(type(name))"
      ],
      "execution_count": null,
      "outputs": [
        {
          "output_type": "stream",
          "name": "stdout",
          "text": [
            "Enter the value of x:10\n",
            "10\n",
            "<class 'int'>\n",
            "Enter ur name: Asha\n",
            "your name is  Asha\n",
            "<class 'str'>\n"
          ]
        }
      ]
    },
    {
      "cell_type": "code",
      "source": [
        "name = input(\"Enter your name: \")\n",
        "print(\"Your name is: \", name)\n",
        "print(type(name))\n",
        " \n",
        "age =int(input(\"Enter your age: \"))\n",
        "print(\"Your name is: \", age)\n",
        "print(type(age))\n",
        " \n",
        "sal = float(input(\"Enter your sal: \"))\n",
        "print(\"Your name is: \", sal)\n",
        "print(type(sal))\n",
        " \n",
        "age = 22\n",
        "sal = 10.50\n",
        "complex = 3+5j\n",
        "print(type(age))\n",
        "print(type(sal))\n",
        "print(type(complex))"
      ],
      "metadata": {
        "colab": {
          "base_uri": "https://localhost:8080/"
        },
        "id": "U9eZ1lvz7GfR",
        "outputId": "73d66102-d281-4746-9779-fe296412c490"
      },
      "execution_count": null,
      "outputs": [
        {
          "output_type": "stream",
          "name": "stdout",
          "text": [
            "Enter your name: Jones\n",
            "Your name is:  Jones\n",
            "<class 'str'>\n",
            "Enter your age: 25\n",
            "Your name is:  25\n",
            "<class 'int'>\n",
            "Enter your sal: 100000\n",
            "Your name is:  100000.0\n",
            "<class 'float'>\n",
            "<class 'int'>\n",
            "<class 'float'>\n",
            "<class 'complex'>\n"
          ]
        }
      ]
    },
    {
      "cell_type": "code",
      "source": [
        "#[start:end]   or [start:end:step]\n",
        "import numpy as np\n",
        "arr = np.array([11,12,13,14,15,16,17])\n",
        "print(arr[-3:-1])\n",
        "print(arr[5:1:-2])\n",
        "print(arr[1:5])\n",
        "print(arr[4:]) \n",
        "print(arr[:4])\n",
        "print(arr[-1:-3])\n",
        "print(arr[1:5:2])\n",
        "print(arr[::2])"
      ],
      "metadata": {
        "colab": {
          "base_uri": "https://localhost:8080/"
        },
        "id": "qJ98z41Z7cuQ",
        "outputId": "8e08b4a2-8a9c-4835-b627-4639572cd958"
      },
      "execution_count": null,
      "outputs": [
        {
          "output_type": "stream",
          "name": "stdout",
          "text": [
            "[15 16]\n",
            "[16 14]\n",
            "[12 13 14 15]\n",
            "[15 16 17]\n",
            "[11 12 13 14]\n",
            "[]\n",
            "[12 14]\n",
            "[11 13 15 17]\n"
          ]
        }
      ]
    },
    {
      "cell_type": "markdown",
      "metadata": {
        "id": "T5yDKXnPv_H3"
      },
      "source": [
        "In this tutorial, you discovered the five-number summary for describing the distribution of a data sample without assuming a specific data distribution.\n",
        "\n",
        "Specifically, you learned:\n",
        "\n",
        "Data summarization, such as calculating the mean and standard deviation, are only meaningful for the Gaussian distribution.\n",
        "The five-number summary can be used to describe a data sample with any distribution."
      ]
    },
    {
      "cell_type": "code",
      "metadata": {
        "colab": {
          "base_uri": "https://localhost:8080/"
        },
        "id": "Vu_4ijSHLs3q",
        "outputId": "c3c4e90e-9966-41c3-cde7-708bc0a835e2"
      },
      "source": [
        "#mode of elements\n",
        "from collections import Counter\n",
        "a = [1,2,3,1,2,1,1,1,3,2,2,1,4]\n",
        "b = Counter(a)\n",
        "\n",
        "print(b.most_common())   # Returns all unique items and their counts\n",
        "b.most_common(1) ## Returns the highest occurring item"
      ],
      "execution_count": null,
      "outputs": [
        {
          "output_type": "stream",
          "name": "stdout",
          "text": [
            "[(1, 6), (2, 4), (3, 2), (4, 1)]\n"
          ]
        },
        {
          "output_type": "execute_result",
          "data": {
            "text/plain": [
              "[(1, 6)]"
            ]
          },
          "metadata": {},
          "execution_count": 2
        }
      ]
    },
    {
      "cell_type": "code",
      "metadata": {
        "colab": {
          "base_uri": "https://localhost:8080/"
        },
        "id": "JyYb4XawMu0i",
        "outputId": "1dc55053-56b2-4a65-e77c-393f4f2a1530"
      },
      "source": [
        "#mode of elements\n",
        "import numpy as np\n",
        "a = np.array([1,2,3,1,2,1,1,1,3,2,2,1])\n",
        "counts = np.bincount(a)\n",
        "print(counts)  # counts the occurrence of every element\n",
        "#1 occurs for 6 times, 2-4 times, 3-2 times, 0 - no occurrence\n",
        "print(np.argmax(counts))  # which number has occured for max no. of times"
      ],
      "execution_count": null,
      "outputs": [
        {
          "output_type": "stream",
          "name": "stdout",
          "text": [
            "[0 6 4 2]\n",
            "1\n"
          ]
        }
      ]
    },
    {
      "cell_type": "markdown",
      "metadata": {
        "id": "wJ0HRX1ukHc9"
      },
      "source": [
        "**Question 1:**\n",
        "A data set for analysis includes the attribute X:\n",
        "X= {7, 12, 5, 18, 5, 9, 13, 12, 19, 7, 12, 12, 13, 3, 4, 5, 13, 8, 7, 6}\n",
        "\n",
        "Find the 1.Mean  2.Median  3.Mode  4.variance and Standard Deviation 5. Quartiles (Q1,Q2,Q3) 6.IQR   of X.\n",
        "Give a graphical summarization of  the Dataset X usind a boxplot representation.\n"
      ]
    },
    {
      "cell_type": "code",
      "metadata": {
        "colab": {
          "base_uri": "https://localhost:8080/"
        },
        "id": "A4mzMEM0kEKX",
        "outputId": "22d02768-d8d1-4bea-c340-25f6ed9ed1b8"
      },
      "source": [
        "import matplotlib.pyplot as plt\n",
        "#import numpy as np1\n",
        "from numpy import percentile\n",
        "from scipy import stats\n",
        "\n",
        "\n",
        "\n",
        "\n",
        "import numpy as np1\n",
        "X= [7, 12, 5, 18, 5, 9, 13, 12, 19, 7, 12, 12, 13, 3, 4, 5, 13, 8, 7, 6]\n",
        "x = np1.sort(X)\n",
        "print(x)\n",
        "\n"
      ],
      "execution_count": null,
      "outputs": [
        {
          "output_type": "stream",
          "name": "stdout",
          "text": [
            "[ 3  4  5  5  5  6  7  7  7  8  9 12 12 12 12 13 13 13 18 19]\n"
          ]
        }
      ]
    },
    {
      "cell_type": "code",
      "metadata": {
        "colab": {
          "base_uri": "https://localhost:8080/"
        },
        "id": "xOswg1qdmvIJ",
        "outputId": "90d27a8a-a04c-42a6-aa94-2ec33cd1a5e7"
      },
      "source": [
        "print(\"Mean=\",np.mean(x))\n",
        "print(\"Median=\",np.median(x))\n",
        "print(\"Mode:\")\n",
        "print(stats.mode(x))\n",
        "print(\"variance=\",np.var(x))\n",
        "print(\"Std Dev=\",np.std(x))\n",
        "\n",
        "quartiles = np.percentile(x, [25, 50, 75])\n",
        "\n",
        "print('Q1=', quartiles[0])\n",
        "print('Q2=', quartiles[1])\n",
        "print('Q3=', quartiles[2])\n",
        "#IQR= Q3-Q1\n",
        "IQR=quartiles[2] - quartiles[0]\n",
        "print(\"Interquartile Range=\",IQR)\n",
        "\n",
        "print(\"Min=\", np.min(x))\n",
        "print(\"Max=\",np.max(x))"
      ],
      "execution_count": null,
      "outputs": [
        {
          "output_type": "stream",
          "text": [
            "Mean= 9.5\n",
            "Median= 8.5\n",
            "Mode:\n",
            "ModeResult(mode=array([12]), count=array([4]))\n",
            "variance= 19.55\n",
            "Std Dev= 4.421538193886829\n",
            "Q1= 5.75\n",
            "Q2= 8.5\n",
            "Q3= 12.25\n",
            "Interquartile Range= 6.5\n",
            "Min= 3\n",
            "Max= 19\n"
          ],
          "name": "stdout"
        }
      ]
    },
    {
      "cell_type": "code",
      "metadata": {
        "colab": {
          "base_uri": "https://localhost:8080/",
          "height": 367
        },
        "id": "6m6f1TlIosO7",
        "outputId": "a0fd3f3e-8e29-4d3d-9024-a27608f44a40"
      },
      "source": [
        "# Print 5-number summary \n",
        "'''\n",
        "Question 1: A data set for analysis includes the attribute X: \n",
        "X= [7, 12, 5, 18, 5, 9, 13, 12, 19, 7, 12, 12, 13, 3, 4, 5, 13, 8, 7, 6]\n",
        "   Find the Five-number summary of X. \n",
        "   Give a graphical summarization of the Dataset X usind a boxplot representation.\n",
        "'''\n",
        "# Print 5-number summary\n",
        "import matplotlib.pyplot as plt\n",
        "import numpy as np\n",
        "from numpy import percentile\n",
        "from scipy import stats\n",
        "X= [7, 12, 5, 18, 5, 9, 13, 12, 19, 7, 12, 12, 13, 3, 4, 5, 13, 8, 7, 6]\n",
        "x = np.sort(X)\n",
        "print(x)\n",
        "print(\"Min=\", np.min(x))\n",
        "print('Q1=', quartiles[0])\n",
        "print('Median, Q2=', quartiles[1])\n",
        "print('Q3=', quartiles[2])\n",
        "print(\"Max=\",np.max(x))\n",
        "plt.boxplot(x)\n",
        "plt.show()\n",
        "#You’ll probably use real datasets in which there is an easier way to \n",
        "#retrieve the 5-number summary, using Pandas .describe()\n"
      ],
      "execution_count": null,
      "outputs": [
        {
          "output_type": "stream",
          "text": [
            "[ 3  4  5  5  5  6  7  7  7  8  9 12 12 12 12 13 13 13 18 19]\n",
            "Min= 3\n",
            "Q1= 5.75\n",
            "Median, Q2= 8.5\n",
            "Q3= 12.25\n",
            "Max= 19\n"
          ],
          "name": "stdout"
        },
        {
          "output_type": "display_data",
          "data": {
            "image/png": "[encoded data removed]",
            "text/plain": [
              "<Figure size 432x288 with 1 Axes>"
            ]
          },
          "metadata": {
            "tags": [],
            "needs_background": "light"
          }
        }
      ]
    },
    {
      "cell_type": "code",
      "metadata": {
        "colab": {
          "base_uri": "https://localhost:8080/",
          "height": 355
        },
        "id": "63lItANBu-mw",
        "outputId": "2471c98c-d408-4629-b1a9-5c8b20fba41a"
      },
      "source": [
        "# Print 5-number summary and plot using box and whisker plot\n",
        "print(\"Min=\", np.min(x))\n",
        "print('Q1=', quartiles[0])\n",
        "print('Median, Q2=', quartiles[1])\n",
        "print('Q3=', quartiles[2])\n",
        "print(\"Max=\",np.max(x))\n",
        "plt.boxplot(x)\n",
        "plt.show()"
      ],
      "execution_count": null,
      "outputs": [
        {
          "output_type": "stream",
          "text": [
            "Min= 3\n",
            "Q1= 5.75\n",
            "Median, Q2= 8.5\n",
            "Q3= 12.25\n",
            "Max= 19\n"
          ],
          "name": "stdout"
        },
        {
          "output_type": "display_data",
          "data": {
            "image/png": "[encoded data removed]",
            "text/plain": [
              "<Figure size 432x288 with 1 Axes>"
            ]
          },
          "metadata": {
            "tags": [],
            "needs_background": "light"
          }
        }
      ]
    },
    {
      "cell_type": "code",
      "metadata": {
        "colab": {
          "base_uri": "https://localhost:8080/",
          "height": 320
        },
        "id": "o5gvIJUltpgc",
        "outputId": "a0212fe4-7f90-4041-ef31-fa63039439dc"
      },
      "source": [
        "# Import libraries \n",
        "import matplotlib.pyplot as plt \n",
        "import numpy as np \n",
        "  \n",
        "  \n",
        "# Creating dataset \n",
        "#np.random.seed(10) \n",
        "data = np.random.normal(100, 20, 200) \n",
        "  \n",
        "fig = plt.figure(figsize =(5, 5)) \n",
        "  \n",
        "# Creating plot \n",
        "plt.boxplot(data) \n",
        "  \n",
        "# show plot \n",
        "plt.show() "
      ],
      "execution_count": null,
      "outputs": [
        {
          "output_type": "display_data",
          "data": {
            "image/png": "[encoded data removed]",
            "text/plain": [
              "<Figure size 360x360 with 1 Axes>"
            ]
          },
          "metadata": {
            "tags": [],
            "needs_background": "light"
          }
        }
      ]
    },
    {
      "cell_type": "code",
      "metadata": {
        "id": "W_EHmTpJI9hJ"
      },
      "source": [],
      "execution_count": null,
      "outputs": []
    },
    {
      "cell_type": "markdown",
      "metadata": {
        "id": "Ol52-VTpJA72"
      },
      "source": [
        "# **Normalization **"
      ]
    },
    {
      "cell_type": "code",
      "metadata": {
        "colab": {
          "base_uri": "https://localhost:8080/"
        },
        "id": "th0VXRj1I9p9",
        "outputId": "fe465948-7bc4-4205-f47b-aac15784f263"
      },
      "source": [
        "from sklearn import preprocessing\n",
        "import numpy as np\n",
        "x_array = np.array([2,3,5,6,7,4,8,7,6])\n",
        "normalized_arr = preprocessing.normalize([x_array])\n",
        "print(normalized_arr)"
      ],
      "execution_count": null,
      "outputs": [
        {
          "output_type": "stream",
          "name": "stdout",
          "text": [
            "[[0.11785113 0.1767767  0.29462783 0.35355339 0.41247896 0.23570226\n",
            "  0.47140452 0.41247896 0.35355339]]\n"
          ]
        }
      ]
    },
    {
      "cell_type": "code",
      "metadata": {
        "id": "H_FZihmfqjCD"
      },
      "source": [],
      "execution_count": null,
      "outputs": []
    },
    {
      "cell_type": "code",
      "metadata": {
        "colab": {
          "base_uri": "https://localhost:8080/"
        },
        "id": "oSEoR76PLJd9",
        "outputId": "4f20002c-5b3a-48d0-8e7c-0cd85f168436"
      },
      "source": [
        "import pandas as pd\n",
        "housing = pd.read_csv(\"/content/sample_data/california_housing_train.csv\")\n",
        "print(housing)"
      ],
      "execution_count": null,
      "outputs": [
        {
          "output_type": "stream",
          "name": "stdout",
          "text": [
            "       longitude  latitude  housing_median_age  total_rooms  total_bedrooms  \\\n",
            "0        -114.31     34.19                15.0       5612.0          1283.0   \n",
            "1        -114.47     34.40                19.0       7650.0          1901.0   \n",
            "2        -114.56     33.69                17.0        720.0           174.0   \n",
            "3        -114.57     33.64                14.0       1501.0           337.0   \n",
            "4        -114.57     33.57                20.0       1454.0           326.0   \n",
            "...          ...       ...                 ...          ...             ...   \n",
            "16995    -124.26     40.58                52.0       2217.0           394.0   \n",
            "16996    -124.27     40.69                36.0       2349.0           528.0   \n",
            "16997    -124.30     41.84                17.0       2677.0           531.0   \n",
            "16998    -124.30     41.80                19.0       2672.0           552.0   \n",
            "16999    -124.35     40.54                52.0       1820.0           300.0   \n",
            "\n",
            "       population  households  median_income  median_house_value  \n",
            "0          1015.0       472.0         1.4936             66900.0  \n",
            "1          1129.0       463.0         1.8200             80100.0  \n",
            "2           333.0       117.0         1.6509             85700.0  \n",
            "3           515.0       226.0         3.1917             73400.0  \n",
            "4           624.0       262.0         1.9250             65500.0  \n",
            "...           ...         ...            ...                 ...  \n",
            "16995       907.0       369.0         2.3571            111400.0  \n",
            "16996      1194.0       465.0         2.5179             79000.0  \n",
            "16997      1244.0       456.0         3.0313            103600.0  \n",
            "16998      1298.0       478.0         1.9797             85800.0  \n",
            "16999       806.0       270.0         3.0147             94600.0  \n",
            "\n",
            "[17000 rows x 9 columns]\n"
          ]
        }
      ]
    },
    {
      "cell_type": "code",
      "metadata": {
        "colab": {
          "base_uri": "https://localhost:8080/",
          "height": 363
        },
        "id": "hrD45gRsJY61",
        "outputId": "d3cbbdda-c28e-4990-a662-394bf20e170a"
      },
      "source": [
        "from sklearn import preprocessing\n",
        "import pandas as pd\n",
        "housing = pd.read_csv(\"/content/sample_data/california_housing_train.csv\")\n",
        "scaler = preprocessing.MinMaxScaler()\n",
        "names = housing.columns\n",
        "d = scaler.fit_transform(housing)\n",
        "scaled_df = pd.DataFrame(d, columns=names)\n",
        "scaled_df.head(10)\n",
        "#scaled_df.tail(10)"
      ],
      "execution_count": null,
      "outputs": [
        {
          "output_type": "execute_result",
          "data": {
            "text/plain": [
              "   longitude  latitude  housing_median_age  total_rooms  total_bedrooms  \\\n",
              "0   1.000000  0.175345            0.274510     0.147885        0.198945   \n",
              "1   0.984064  0.197662            0.352941     0.201608        0.294848   \n",
              "2   0.975100  0.122210            0.313725     0.018927        0.026847   \n",
              "3   0.974104  0.116897            0.254902     0.039515        0.052142   \n",
              "4   0.974104  0.109458            0.372549     0.038276        0.050435   \n",
              "5   0.973108  0.115834            0.549020     0.036510        0.036468   \n",
              "6   0.973108  0.113709            0.470588     0.076578        0.105369   \n",
              "7   0.972112  0.243358            0.784314     0.021352        0.025916   \n",
              "8   0.972112  0.113709            0.647059     0.126190        0.182185   \n",
              "9   0.971116  0.243358            0.882353     0.039410        0.047796   \n",
              "\n",
              "   population  households  median_income  median_house_value  \n",
              "0    0.028364    0.077454       0.068530            0.107012  \n",
              "1    0.031559    0.075974       0.091040            0.134228  \n",
              "2    0.009249    0.019076       0.079378            0.145775  \n",
              "3    0.014350    0.037000       0.185639            0.120414  \n",
              "4    0.017405    0.042921       0.098281            0.104125  \n",
              "5    0.018722    0.039138       0.196128            0.121651  \n",
              "6    0.051515    0.103930       0.150129            0.138971  \n",
              "7    0.010426    0.025818       0.083337            0.069074  \n",
              "8    0.087755    0.173491       0.115743            0.089486  \n",
              "9    0.021974    0.044401       0.116612            0.068249  "
            ],
            "text/html": [
              "\n",
              "  <div id=\"df-3e0021ec-5bf7-4139-8671-58e6f70ce3a1\">\n",
              "    <div class=\"colab-df-container\">\n",
              "      <div>\n",
              "<style scoped>\n",
              "    .dataframe tbody tr th:only-of-type {\n",
              "        vertical-align: middle;\n",
              "    }\n",
              "\n",
              "    .dataframe tbody tr th {\n",
              "        vertical-align: top;\n",
              "    }\n",
              "\n",
              "    .dataframe thead th {\n",
              "        text-align: right;\n",
              "    }\n",
              "</style>\n",
              "<table border=\"1\" class=\"dataframe\">\n",
              "  <thead>\n",
              "    <tr style=\"text-align: right;\">\n",
              "      <th></th>\n",
              "      <th>longitude</th>\n",
              "      <th>latitude</th>\n",
              "      <th>housing_median_age</th>\n",
              "      <th>total_rooms</th>\n",
              "      <th>total_bedrooms</th>\n",
              "      <th>population</th>\n",
              "      <th>households</th>\n",
              "      <th>median_income</th>\n",
              "      <th>median_house_value</th>\n",
              "    </tr>\n",
              "  </thead>\n",
              "  <tbody>\n",
              "    <tr>\n",
              "      <th>0</th>\n",
              "      <td>1.000000</td>\n",
              "      <td>0.175345</td>\n",
              "      <td>0.274510</td>\n",
              "      <td>0.147885</td>\n",
              "      <td>0.198945</td>\n",
              "      <td>0.028364</td>\n",
              "      <td>0.077454</td>\n",
              "      <td>0.068530</td>\n",
              "      <td>0.107012</td>\n",
              "    </tr>\n",
              "    <tr>\n",
              "      <th>1</th>\n",
              "      <td>0.984064</td>\n",
              "      <td>0.197662</td>\n",
              "      <td>0.352941</td>\n",
              "      <td>0.201608</td>\n",
              "      <td>0.294848</td>\n",
              "      <td>0.031559</td>\n",
              "      <td>0.075974</td>\n",
              "      <td>0.091040</td>\n",
              "      <td>0.134228</td>\n",
              "    </tr>\n",
              "    <tr>\n",
              "      <th>2</th>\n",
              "      <td>0.975100</td>\n",
              "      <td>0.122210</td>\n",
              "      <td>0.313725</td>\n",
              "      <td>0.018927</td>\n",
              "      <td>0.026847</td>\n",
              "      <td>0.009249</td>\n",
              "      <td>0.019076</td>\n",
              "      <td>0.079378</td>\n",
              "      <td>0.145775</td>\n",
              "    </tr>\n",
              "    <tr>\n",
              "      <th>3</th>\n",
              "      <td>0.974104</td>\n",
              "      <td>0.116897</td>\n",
              "      <td>0.254902</td>\n",
              "      <td>0.039515</td>\n",
              "      <td>0.052142</td>\n",
              "      <td>0.014350</td>\n",
              "      <td>0.037000</td>\n",
              "      <td>0.185639</td>\n",
              "      <td>0.120414</td>\n",
              "    </tr>\n",
              "    <tr>\n",
              "      <th>4</th>\n",
              "      <td>0.974104</td>\n",
              "      <td>0.109458</td>\n",
              "      <td>0.372549</td>\n",
              "      <td>0.038276</td>\n",
              "      <td>0.050435</td>\n",
              "      <td>0.017405</td>\n",
              "      <td>0.042921</td>\n",
              "      <td>0.098281</td>\n",
              "      <td>0.104125</td>\n",
              "    </tr>\n",
              "    <tr>\n",
              "      <th>5</th>\n",
              "      <td>0.973108</td>\n",
              "      <td>0.115834</td>\n",
              "      <td>0.549020</td>\n",
              "      <td>0.036510</td>\n",
              "      <td>0.036468</td>\n",
              "      <td>0.018722</td>\n",
              "      <td>0.039138</td>\n",
              "      <td>0.196128</td>\n",
              "      <td>0.121651</td>\n",
              "    </tr>\n",
              "    <tr>\n",
              "      <th>6</th>\n",
              "      <td>0.973108</td>\n",
              "      <td>0.113709</td>\n",
              "      <td>0.470588</td>\n",
              "      <td>0.076578</td>\n",
              "      <td>0.105369</td>\n",
              "      <td>0.051515</td>\n",
              "      <td>0.103930</td>\n",
              "      <td>0.150129</td>\n",
              "      <td>0.138971</td>\n",
              "    </tr>\n",
              "    <tr>\n",
              "      <th>7</th>\n",
              "      <td>0.972112</td>\n",
              "      <td>0.243358</td>\n",
              "      <td>0.784314</td>\n",
              "      <td>0.021352</td>\n",
              "      <td>0.025916</td>\n",
              "      <td>0.010426</td>\n",
              "      <td>0.025818</td>\n",
              "      <td>0.083337</td>\n",
              "      <td>0.069074</td>\n",
              "    </tr>\n",
              "    <tr>\n",
              "      <th>8</th>\n",
              "      <td>0.972112</td>\n",
              "      <td>0.113709</td>\n",
              "      <td>0.647059</td>\n",
              "      <td>0.126190</td>\n",
              "      <td>0.182185</td>\n",
              "      <td>0.087755</td>\n",
              "      <td>0.173491</td>\n",
              "      <td>0.115743</td>\n",
              "      <td>0.089486</td>\n",
              "    </tr>\n",
              "    <tr>\n",
              "      <th>9</th>\n",
              "      <td>0.971116</td>\n",
              "      <td>0.243358</td>\n",
              "      <td>0.882353</td>\n",
              "      <td>0.039410</td>\n",
              "      <td>0.047796</td>\n",
              "      <td>0.021974</td>\n",
              "      <td>0.044401</td>\n",
              "      <td>0.116612</td>\n",
              "      <td>0.068249</td>\n",
              "    </tr>\n",
              "  </tbody>\n",
              "</table>\n",
              "</div>\n",
              "      <button class=\"colab-df-convert\" onclick=\"convertToInteractive('df-3e0021ec-5bf7-4139-8671-58e6f70ce3a1')\"\n",
              "              title=\"Convert this dataframe to an interactive table.\"\n",
              "              style=\"display:none;\">\n",
              "        \n",
              "  <svg xmlns=\"http://www.w3.org/2000/svg\" height=\"24px\"viewBox=\"0 0 24 24\"\n",
              "       width=\"24px\">\n",
              "    <path d=\"M0 0h24v24H0V0z\" fill=\"none\"/>\n",
              "    <path d=\"M18.56 5.44l.94 2.06.94-2.06 2.06-.94-2.06-.94-.94-2.06-.94 2.06-2.06.94zm-11 1L8.5 8.5l.94-2.06 2.06-.94-2.06-.94L8.5 2.5l-.94 2.06-2.06.94zm10 10l.94 2.06.94-2.06 2.06-.94-2.06-.94-.94-2.06-.94 2.06-2.06.94z\"/><path d=\"M17.41 7.96l-1.37-1.37c-.4-.4-.92-.59-1.43-.59-.52 0-1.04.2-1.43.59L10.3 9.45l-7.72 7.72c-.78.78-.78 2.05 0 2.83L4 21.41c.39.39.9.59 1.41.59.51 0 1.02-.2 1.41-.59l7.78-7.78 2.81-2.81c.8-.78.8-2.07 0-2.86zM5.41 20L4 18.59l7.72-7.72 1.47 1.35L5.41 20z\"/>\n",
              "  </svg>\n",
              "      </button>\n",
              "      \n",
              "  <style>\n",
              "    .colab-df-container {\n",
              "      display:flex;\n",
              "      flex-wrap:wrap;\n",
              "      gap: 12px;\n",
              "    }\n",
              "\n",
              "    .colab-df-convert {\n",
              "      background-color: #E8F0FE;\n",
              "      border: none;\n",
              "      border-radius: 50%;\n",
              "      cursor: pointer;\n",
              "      display: none;\n",
              "      fill: #1967D2;\n",
              "      height: 32px;\n",
              "      padding: 0 0 0 0;\n",
              "      width: 32px;\n",
              "    }\n",
              "\n",
              "    .colab-df-convert:hover {\n",
              "      background-color: #E2EBFA;\n",
              "      box-shadow: 0px 1px 2px rgba(60, 64, 67, 0.3), 0px 1px 3px 1px rgba(60, 64, 67, 0.15);\n",
              "      fill: #174EA6;\n",
              "    }\n",
              "\n",
              "    [theme=dark] .colab-df-convert {\n",
              "      background-color: #3B4455;\n",
              "      fill: #D2E3FC;\n",
              "    }\n",
              "\n",
              "    [theme=dark] .colab-df-convert:hover {\n",
              "      background-color: #434B5C;\n",
              "      box-shadow: 0px 1px 3px 1px rgba(0, 0, 0, 0.15);\n",
              "      filter: drop-shadow(0px 1px 2px rgba(0, 0, 0, 0.3));\n",
              "      fill: #FFFFFF;\n",
              "    }\n",
              "  </style>\n",
              "\n",
              "      <script>\n",
              "        const buttonEl =\n",
              "          document.querySelector('#df-3e0021ec-5bf7-4139-8671-58e6f70ce3a1 button.colab-df-convert');\n",
              "        buttonEl.style.display =\n",
              "          google.colab.kernel.accessAllowed ? 'block' : 'none';\n",
              "\n",
              "        async function convertToInteractive(key) {\n",
              "          const element = document.querySelector('#df-3e0021ec-5bf7-4139-8671-58e6f70ce3a1');\n",
              "          const dataTable =\n",
              "            await google.colab.kernel.invokeFunction('convertToInteractive',\n",
              "                                                     [key], {});\n",
              "          if (!dataTable) return;\n",
              "\n",
              "          const docLinkHtml = 'Like what you see? Visit the ' +\n",
              "            '<a target=\"_blank\" href=https://colab.research.google.com/notebooks/data_table.ipynb>data table notebook</a>'\n",
              "            + ' to learn more about interactive tables.';\n",
              "          element.innerHTML = '';\n",
              "          dataTable['output_type'] = 'display_data';\n",
              "          await google.colab.output.renderOutput(dataTable, element);\n",
              "          const docLink = document.createElement('div');\n",
              "          docLink.innerHTML = docLinkHtml;\n",
              "          element.appendChild(docLink);\n",
              "        }\n",
              "      </script>\n",
              "    </div>\n",
              "  </div>\n",
              "  "
            ]
          },
          "metadata": {},
          "execution_count": 8
        }
      ]
    },
    {
      "cell_type": "code",
      "metadata": {
        "colab": {
          "base_uri": "https://localhost:8080/"
        },
        "id": "Ymb_cYRiMyFl",
        "outputId": "d38336ff-7876-42e4-af5f-06227449edcc"
      },
      "source": [
        "print(scaled_df)\n",
        "scaled_df.head()\n",
        "print(\"********************\")\n",
        "X = scaled_df.iloc[:, :-1].values \n",
        "X\n",
        "#X.head(5)"
      ],
      "execution_count": null,
      "outputs": [
        {
          "output_type": "stream",
          "name": "stdout",
          "text": [
            "       longitude  latitude  housing_median_age  total_rooms  total_bedrooms  \\\n",
            "0       1.000000  0.175345            0.274510     0.147885        0.198945   \n",
            "1       0.984064  0.197662            0.352941     0.201608        0.294848   \n",
            "2       0.975100  0.122210            0.313725     0.018927        0.026847   \n",
            "3       0.974104  0.116897            0.254902     0.039515        0.052142   \n",
            "4       0.974104  0.109458            0.372549     0.038276        0.050435   \n",
            "...          ...       ...                 ...          ...             ...   \n",
            "16995   0.008964  0.854410            1.000000     0.058389        0.060987   \n",
            "16996   0.007968  0.866100            0.686275     0.061869        0.081782   \n",
            "16997   0.004980  0.988310            0.313725     0.070515        0.082247   \n",
            "16998   0.004980  0.984060            0.352941     0.070384        0.085506   \n",
            "16999   0.000000  0.850159            1.000000     0.047924        0.046400   \n",
            "\n",
            "       population  households  median_income  median_house_value  \n",
            "0        0.028364    0.077454       0.068530            0.107012  \n",
            "1        0.031559    0.075974       0.091040            0.134228  \n",
            "2        0.009249    0.019076       0.079378            0.145775  \n",
            "3        0.014350    0.037000       0.185639            0.120414  \n",
            "4        0.017405    0.042921       0.098281            0.104125  \n",
            "...           ...         ...            ...                 ...  \n",
            "16995    0.025337    0.060516       0.128081            0.198764  \n",
            "16996    0.033381    0.076303       0.139170            0.131960  \n",
            "16997    0.034782    0.074823       0.174577            0.182682  \n",
            "16998    0.036296    0.078441       0.102054            0.145981  \n",
            "16999    0.022506    0.044236       0.173432            0.164125  \n",
            "\n",
            "[17000 rows x 9 columns]\n",
            "********************\n"
          ]
        },
        {
          "output_type": "execute_result",
          "data": {
            "text/plain": [
              "array([[1.        , 0.17534538, 0.2745098 , ..., 0.02836402, 0.07745437,\n",
              "        0.06853009],\n",
              "       [0.98406375, 0.19766206, 0.35294118, ..., 0.03155918, 0.07597435,\n",
              "        0.09104012],\n",
              "       [0.9750996 , 0.12221041, 0.31372549, ..., 0.00924914, 0.01907581,\n",
              "        0.07937822],\n",
              "       ...,\n",
              "       [0.00498008, 0.98831031, 0.31372549, ..., 0.03478236, 0.07482322,\n",
              "        0.1745769 ],\n",
              "       [0.00498008, 0.98405951, 0.35294118, ..., 0.03629586, 0.07844105,\n",
              "        0.10205376],\n",
              "       [0.        , 0.8501594 , 1.        , ..., 0.02250624, 0.04423615,\n",
              "        0.17343209]])"
            ]
          },
          "metadata": {},
          "execution_count": 9
        }
      ]
    },
    {
      "cell_type": "code",
      "metadata": {
        "colab": {
          "base_uri": "https://localhost:8080/",
          "height": 206
        },
        "id": "u59foMnqKkv1",
        "outputId": "1251f178-292a-46f1-c998-ea8a34670c6d"
      },
      "source": [
        "from sklearn import preprocessing\n",
        "import pandas as pd\n",
        "housing = pd.read_csv(\"/content/sample_data/california_housing_train.csv\")\n",
        "d = preprocessing.normalize(housing)\n",
        "scaled_df = pd.DataFrame(d, columns=names)\n",
        "scaled_df.head()"
      ],
      "execution_count": null,
      "outputs": [
        {
          "output_type": "execute_result",
          "data": {
            "text/plain": [
              "   longitude  latitude  housing_median_age  total_rooms  total_bedrooms  \\\n",
              "0  -0.001702  0.000509            0.000223     0.083566        0.019105   \n",
              "1  -0.001422  0.000427            0.000236     0.095035        0.023616   \n",
              "2  -0.001337  0.000393            0.000198     0.008401        0.002030   \n",
              "3  -0.001561  0.000458            0.000191     0.020444        0.004590   \n",
              "4  -0.001749  0.000512            0.000305     0.022192        0.004976   \n",
              "\n",
              "   population  households  median_income  median_house_value  \n",
              "0    0.015114    0.007028       0.000022            0.996178  \n",
              "1    0.014025    0.005752       0.000023            0.995077  \n",
              "2    0.003885    0.001365       0.000019            0.999953  \n",
              "3    0.007015    0.003078       0.000043            0.999750  \n",
              "4    0.009524    0.003999       0.000029            0.999686  "
            ],
            "text/html": [
              "\n",
              "  <div id=\"df-11a18914-addb-480c-b500-d4c3353f599c\">\n",
              "    <div class=\"colab-df-container\">\n",
              "      <div>\n",
              "<style scoped>\n",
              "    .dataframe tbody tr th:only-of-type {\n",
              "        vertical-align: middle;\n",
              "    }\n",
              "\n",
              "    .dataframe tbody tr th {\n",
              "        vertical-align: top;\n",
              "    }\n",
              "\n",
              "    .dataframe thead th {\n",
              "        text-align: right;\n",
              "    }\n",
              "</style>\n",
              "<table border=\"1\" class=\"dataframe\">\n",
              "  <thead>\n",
              "    <tr style=\"text-align: right;\">\n",
              "      <th></th>\n",
              "      <th>longitude</th>\n",
              "      <th>latitude</th>\n",
              "      <th>housing_median_age</th>\n",
              "      <th>total_rooms</th>\n",
              "      <th>total_bedrooms</th>\n",
              "      <th>population</th>\n",
              "      <th>households</th>\n",
              "      <th>median_income</th>\n",
              "      <th>median_house_value</th>\n",
              "    </tr>\n",
              "  </thead>\n",
              "  <tbody>\n",
              "    <tr>\n",
              "      <th>0</th>\n",
              "      <td>-0.001702</td>\n",
              "      <td>0.000509</td>\n",
              "      <td>0.000223</td>\n",
              "      <td>0.083566</td>\n",
              "      <td>0.019105</td>\n",
              "      <td>0.015114</td>\n",
              "      <td>0.007028</td>\n",
              "      <td>0.000022</td>\n",
              "      <td>0.996178</td>\n",
              "    </tr>\n",
              "    <tr>\n",
              "      <th>1</th>\n",
              "      <td>-0.001422</td>\n",
              "      <td>0.000427</td>\n",
              "      <td>0.000236</td>\n",
              "      <td>0.095035</td>\n",
              "      <td>0.023616</td>\n",
              "      <td>0.014025</td>\n",
              "      <td>0.005752</td>\n",
              "      <td>0.000023</td>\n",
              "      <td>0.995077</td>\n",
              "    </tr>\n",
              "    <tr>\n",
              "      <th>2</th>\n",
              "      <td>-0.001337</td>\n",
              "      <td>0.000393</td>\n",
              "      <td>0.000198</td>\n",
              "      <td>0.008401</td>\n",
              "      <td>0.002030</td>\n",
              "      <td>0.003885</td>\n",
              "      <td>0.001365</td>\n",
              "      <td>0.000019</td>\n",
              "      <td>0.999953</td>\n",
              "    </tr>\n",
              "    <tr>\n",
              "      <th>3</th>\n",
              "      <td>-0.001561</td>\n",
              "      <td>0.000458</td>\n",
              "      <td>0.000191</td>\n",
              "      <td>0.020444</td>\n",
              "      <td>0.004590</td>\n",
              "      <td>0.007015</td>\n",
              "      <td>0.003078</td>\n",
              "      <td>0.000043</td>\n",
              "      <td>0.999750</td>\n",
              "    </tr>\n",
              "    <tr>\n",
              "      <th>4</th>\n",
              "      <td>-0.001749</td>\n",
              "      <td>0.000512</td>\n",
              "      <td>0.000305</td>\n",
              "      <td>0.022192</td>\n",
              "      <td>0.004976</td>\n",
              "      <td>0.009524</td>\n",
              "      <td>0.003999</td>\n",
              "      <td>0.000029</td>\n",
              "      <td>0.999686</td>\n",
              "    </tr>\n",
              "  </tbody>\n",
              "</table>\n",
              "</div>\n",
              "      <button class=\"colab-df-convert\" onclick=\"convertToInteractive('df-11a18914-addb-480c-b500-d4c3353f599c')\"\n",
              "              title=\"Convert this dataframe to an interactive table.\"\n",
              "              style=\"display:none;\">\n",
              "        \n",
              "  <svg xmlns=\"http://www.w3.org/2000/svg\" height=\"24px\"viewBox=\"0 0 24 24\"\n",
              "       width=\"24px\">\n",
              "    <path d=\"M0 0h24v24H0V0z\" fill=\"none\"/>\n",
              "    <path d=\"M18.56 5.44l.94 2.06.94-2.06 2.06-.94-2.06-.94-.94-2.06-.94 2.06-2.06.94zm-11 1L8.5 8.5l.94-2.06 2.06-.94-2.06-.94L8.5 2.5l-.94 2.06-2.06.94zm10 10l.94 2.06.94-2.06 2.06-.94-2.06-.94-.94-2.06-.94 2.06-2.06.94z\"/><path d=\"M17.41 7.96l-1.37-1.37c-.4-.4-.92-.59-1.43-.59-.52 0-1.04.2-1.43.59L10.3 9.45l-7.72 7.72c-.78.78-.78 2.05 0 2.83L4 21.41c.39.39.9.59 1.41.59.51 0 1.02-.2 1.41-.59l7.78-7.78 2.81-2.81c.8-.78.8-2.07 0-2.86zM5.41 20L4 18.59l7.72-7.72 1.47 1.35L5.41 20z\"/>\n",
              "  </svg>\n",
              "      </button>\n",
              "      \n",
              "  <style>\n",
              "    .colab-df-container {\n",
              "      display:flex;\n",
              "      flex-wrap:wrap;\n",
              "      gap: 12px;\n",
              "    }\n",
              "\n",
              "    .colab-df-convert {\n",
              "      background-color: #E8F0FE;\n",
              "      border: none;\n",
              "      border-radius: 50%;\n",
              "      cursor: pointer;\n",
              "      display: none;\n",
              "      fill: #1967D2;\n",
              "      height: 32px;\n",
              "      padding: 0 0 0 0;\n",
              "      width: 32px;\n",
              "    }\n",
              "\n",
              "    .colab-df-convert:hover {\n",
              "      background-color: #E2EBFA;\n",
              "      box-shadow: 0px 1px 2px rgba(60, 64, 67, 0.3), 0px 1px 3px 1px rgba(60, 64, 67, 0.15);\n",
              "      fill: #174EA6;\n",
              "    }\n",
              "\n",
              "    [theme=dark] .colab-df-convert {\n",
              "      background-color: #3B4455;\n",
              "      fill: #D2E3FC;\n",
              "    }\n",
              "\n",
              "    [theme=dark] .colab-df-convert:hover {\n",
              "      background-color: #434B5C;\n",
              "      box-shadow: 0px 1px 3px 1px rgba(0, 0, 0, 0.15);\n",
              "      filter: drop-shadow(0px 1px 2px rgba(0, 0, 0, 0.3));\n",
              "      fill: #FFFFFF;\n",
              "    }\n",
              "  </style>\n",
              "\n",
              "      <script>\n",
              "        const buttonEl =\n",
              "          document.querySelector('#df-11a18914-addb-480c-b500-d4c3353f599c button.colab-df-convert');\n",
              "        buttonEl.style.display =\n",
              "          google.colab.kernel.accessAllowed ? 'block' : 'none';\n",
              "\n",
              "        async function convertToInteractive(key) {\n",
              "          const element = document.querySelector('#df-11a18914-addb-480c-b500-d4c3353f599c');\n",
              "          const dataTable =\n",
              "            await google.colab.kernel.invokeFunction('convertToInteractive',\n",
              "                                                     [key], {});\n",
              "          if (!dataTable) return;\n",
              "\n",
              "          const docLinkHtml = 'Like what you see? Visit the ' +\n",
              "            '<a target=\"_blank\" href=https://colab.research.google.com/notebooks/data_table.ipynb>data table notebook</a>'\n",
              "            + ' to learn more about interactive tables.';\n",
              "          element.innerHTML = '';\n",
              "          dataTable['output_type'] = 'display_data';\n",
              "          await google.colab.output.renderOutput(dataTable, element);\n",
              "          const docLink = document.createElement('div');\n",
              "          docLink.innerHTML = docLinkHtml;\n",
              "          element.appendChild(docLink);\n",
              "        }\n",
              "      </script>\n",
              "    </div>\n",
              "  </div>\n",
              "  "
            ]
          },
          "metadata": {},
          "execution_count": 10
        }
      ]
    },
    {
      "cell_type": "markdown",
      "metadata": {
        "id": "wjReVnMYJAY2"
      },
      "source": []
    },
    {
      "cell_type": "markdown",
      "metadata": {
        "id": "ZwOUc8XQ3qPL"
      },
      "source": [
        "# Data Preprocessing \n",
        "1. Importing the libraries\n",
        "2. Importing the Dataset\n",
        "3. Handling of Missing Data\n",
        "4. Handling of Categorical Data\n",
        "5. Splitting the dataset into training and testing datasets\n",
        "6. Feature Scaling\n",
        " Now, it is ready for learning."
      ]
    },
    {
      "cell_type": "code",
      "metadata": {
        "id": "vGB8dYFE_gyN"
      },
      "source": [
        "# libraries\n",
        "import numpy as np # used for handling numbers\n",
        "import pandas as pd # used for handling the dataset\n",
        "from sklearn.impute import SimpleImputer # used for handling missing data\n",
        "from sklearn.preprocessing import LabelEncoder, OneHotEncoder # used for encoding categorical data\n",
        "from sklearn.model_selection import train_test_split # used for splitting training and testing data\n",
        "from sklearn.preprocessing import StandardScaler # used for feature scaling\n",
        "\n",
        "\n",
        "from sklearn.metrics import confusion_matrix, plot_confusion_matrix"
      ],
      "execution_count": null,
      "outputs": []
    },
    {
      "cell_type": "code",
      "metadata": {
        "colab": {
          "base_uri": "https://localhost:8080/"
        },
        "id": "_DuvRZTj_lYz",
        "outputId": "f7f4e691-af8d-4196-f410-b6374f64ff7e"
      },
      "source": [
        "dataset = pd.read_csv('DataPreprocessing.csv') # to import the dataset into a variable\n",
        "# Splitting the attributes into independent and dependent attributes\n",
        "print(dataset)\n",
        "##Takes all rows of all columns except the last column\n",
        "X = dataset.iloc[:, :-1].values # attributes to determine dependent variable / Class \n",
        "X\n",
        "## Takes all rows of the last column\n",
        "Y = dataset.iloc[:, -1].values # dependent variable / Class\n",
        "Y"
      ],
      "execution_count": null,
      "outputs": [
        {
          "output_type": "stream",
          "name": "stdout",
          "text": [
            "   Region   Age   Income Online Shopper\n",
            "0   India  49.0  86400.0             No\n",
            "1  Brazil  32.0  57600.0            Yes\n",
            "2     USA  35.0  64800.0             No\n",
            "3  Brazil  43.0  73200.0             No\n",
            "4     USA  45.0      NaN            Yes\n",
            "5   India  40.0  69600.0            Yes\n",
            "6  Brazil   NaN  62400.0             No\n",
            "7   India  53.0  94800.0            Yes\n",
            "8     USA  55.0  99600.0             No\n",
            "9   India  42.0  80400.0            Yes\n"
          ]
        },
        {
          "output_type": "execute_result",
          "data": {
            "text/plain": [
              "array(['No', 'Yes', 'No', 'No', 'Yes', 'Yes', 'No', 'Yes', 'No', 'Yes'],\n",
              "      dtype=object)"
            ]
          },
          "metadata": {},
          "execution_count": 13
        }
      ]
    },
    {
      "cell_type": "code",
      "metadata": {
        "id": "aLdaio8KwmpO",
        "colab": {
          "base_uri": "https://localhost:8080/"
        },
        "outputId": "74cd4809-afa2-4273-8449-4b1984695ece"
      },
      "source": [
        "print(\"X=\",X)\n",
        "print(np.shape(X))"
      ],
      "execution_count": null,
      "outputs": [
        {
          "output_type": "stream",
          "name": "stdout",
          "text": [
            "X= [['India' 49.0 86400.0]\n",
            " ['Brazil' 32.0 57600.0]\n",
            " ['USA' 35.0 64800.0]\n",
            " ['Brazil' 43.0 73200.0]\n",
            " ['USA' 45.0 nan]\n",
            " ['India' 40.0 69600.0]\n",
            " ['Brazil' nan 62400.0]\n",
            " ['India' 53.0 94800.0]\n",
            " ['USA' 55.0 99600.0]\n",
            " ['India' 42.0 80400.0]]\n",
            "(10, 3)\n"
          ]
        }
      ]
    },
    {
      "cell_type": "code",
      "metadata": {
        "id": "QuD4Q8nvDeLu",
        "colab": {
          "base_uri": "https://localhost:8080/"
        },
        "outputId": "9570c521-da20-4401-edc6-3123084de58c"
      },
      "source": [
        "print(\"Y=\",Y)\n",
        "print(np.shape(Y))"
      ],
      "execution_count": null,
      "outputs": [
        {
          "output_type": "stream",
          "name": "stdout",
          "text": [
            "Y= ['No' 'Yes' 'No' 'No' 'Yes' 'Yes' 'No' 'Yes' 'No' 'Yes']\n",
            "(10,)\n"
          ]
        }
      ]
    },
    {
      "cell_type": "code",
      "metadata": {
        "id": "7a1PGlwJ_xjs",
        "colab": {
          "base_uri": "https://localhost:8080/"
        },
        "outputId": "386b0673-bfcd-49c5-cab7-bf5ecf603c9a"
      },
      "source": [
        "# handling the missing data and replace missing values with nan from numpy and replace with mean of all the other values\n",
        "imputer = SimpleImputer(missing_values=np.nan, strategy='mean') \n",
        "imputer = imputer.fit(X[:, 1:])\n",
        "print(imputer)\n",
        "X[:, 1:] = imputer.transform(X[:, 1:])\n",
        "print(\"X=\",X)\n"
      ],
      "execution_count": null,
      "outputs": [
        {
          "output_type": "stream",
          "name": "stdout",
          "text": [
            "SimpleImputer()\n",
            "X= [['India' 49.0 86400.0]\n",
            " ['Brazil' 32.0 57600.0]\n",
            " ['USA' 35.0 64800.0]\n",
            " ['Brazil' 43.0 73200.0]\n",
            " ['USA' 45.0 76533.33333333333]\n",
            " ['India' 40.0 69600.0]\n",
            " ['Brazil' 43.77777777777778 62400.0]\n",
            " ['India' 53.0 94800.0]\n",
            " ['USA' 55.0 99600.0]\n",
            " ['India' 42.0 80400.0]]\n"
          ]
        }
      ]
    },
    {
      "cell_type": "markdown",
      "metadata": {
        "id": "0V7UrLih7fHM"
      },
      "source": [
        "#Handling of Categorical Data\n",
        "# encode categorical data\n",
        "#  Label encoder--three countries in the first column have been replaced by the numbers 0, 1, and 2.\n",
        "\n",
        "The problem here is, since there are different numbers in the same column, the model will misunderstand the data to be in some kind of order, 0 < 1 < 2. But this isn’t the case at all. To overcome this problem, we use **One Hot Encoder.**\n",
        "\n",
        "The numbers are replaced** by 1s and 0s,** depending on which column has what value. In our example, we’ll get three new columns, one for each country — France, Germany, and Spain.\n",
        "For rows which have the first column value as France, the ‘France’ column will have a ‘1’ and the other two columns will have ‘0’s. Similarly, for rows which have the first column value as Germany, the ‘Germany’ column will have a ‘1’ and the other two columns will have ‘0’s."
      ]
    },
    {
      "cell_type": "code",
      "metadata": {
        "id": "oVfha7TuAFmj",
        "colab": {
          "base_uri": "https://localhost:8080/",
          "height": 235
        },
        "outputId": "67cb177e-be4e-44ed-fc4e-46d69a6a608b"
      },
      "source": [
        "#Handling of Categorical Data\n",
        "# encode categorical data\n",
        "#  Label encoder--three countries in the first column have been replaced by the numbers 0, 1, and 2.\n",
        "#  One Hot Encoder- Replace by 0's and 1's\n",
        "\n",
        "from sklearn.preprocessing import LabelEncoder, OneHotEncoder\n",
        "\n",
        "labelencoder_X = LabelEncoder()\n",
        "X[:, 0] = labelencoder_X.fit_transform(X[:, 0])\n",
        "\n",
        "onehotencoder = OneHotEncoder(categorical_features=[0])  # 0 represents country column\n",
        "X = onehotencoder.fit_transform(X).toarray()\n",
        "labelencoder_Y = LabelEncoder()\n",
        "Y = labelencoder_Y.fit_transform(Y)\n",
        "print(X)"
      ],
      "execution_count": null,
      "outputs": [
        {
          "output_type": "error",
          "ename": "TypeError",
          "evalue": "ignored",
          "traceback": [
            "\u001b[0;31m---------------------------------------------------------------------------\u001b[0m",
            "\u001b[0;31mTypeError\u001b[0m                                 Traceback (most recent call last)",
            "\u001b[0;32m<ipython-input-18-3f126a4daede>\u001b[0m in \u001b[0;36m<module>\u001b[0;34m\u001b[0m\n\u001b[1;32m      9\u001b[0m \u001b[0mX\u001b[0m\u001b[0;34m[\u001b[0m\u001b[0;34m:\u001b[0m\u001b[0;34m,\u001b[0m \u001b[0;36m0\u001b[0m\u001b[0;34m]\u001b[0m \u001b[0;34m=\u001b[0m \u001b[0mlabelencoder_X\u001b[0m\u001b[0;34m.\u001b[0m\u001b[0mfit_transform\u001b[0m\u001b[0;34m(\u001b[0m\u001b[0mX\u001b[0m\u001b[0;34m[\u001b[0m\u001b[0;34m:\u001b[0m\u001b[0;34m,\u001b[0m \u001b[0;36m0\u001b[0m\u001b[0;34m]\u001b[0m\u001b[0;34m)\u001b[0m\u001b[0;34m\u001b[0m\u001b[0;34m\u001b[0m\u001b[0m\n\u001b[1;32m     10\u001b[0m \u001b[0;34m\u001b[0m\u001b[0m\n\u001b[0;32m---> 11\u001b[0;31m \u001b[0monehotencoder\u001b[0m \u001b[0;34m=\u001b[0m \u001b[0mOneHotEncoder\u001b[0m\u001b[0;34m(\u001b[0m\u001b[0mcategorical_features\u001b[0m\u001b[0;34m=\u001b[0m\u001b[0;34m[\u001b[0m\u001b[0;36m0\u001b[0m\u001b[0;34m]\u001b[0m\u001b[0;34m)\u001b[0m  \u001b[0;31m# 0 represents country column\u001b[0m\u001b[0;34m\u001b[0m\u001b[0;34m\u001b[0m\u001b[0m\n\u001b[0m\u001b[1;32m     12\u001b[0m \u001b[0mX\u001b[0m \u001b[0;34m=\u001b[0m \u001b[0monehotencoder\u001b[0m\u001b[0;34m.\u001b[0m\u001b[0mfit_transform\u001b[0m\u001b[0;34m(\u001b[0m\u001b[0mX\u001b[0m\u001b[0;34m)\u001b[0m\u001b[0;34m.\u001b[0m\u001b[0mtoarray\u001b[0m\u001b[0;34m(\u001b[0m\u001b[0;34m)\u001b[0m\u001b[0;34m\u001b[0m\u001b[0;34m\u001b[0m\u001b[0m\n\u001b[1;32m     13\u001b[0m \u001b[0mlabelencoder_Y\u001b[0m \u001b[0;34m=\u001b[0m \u001b[0mLabelEncoder\u001b[0m\u001b[0;34m(\u001b[0m\u001b[0;34m)\u001b[0m\u001b[0;34m\u001b[0m\u001b[0;34m\u001b[0m\u001b[0m\n",
            "\u001b[0;31mTypeError\u001b[0m: __init__() got an unexpected keyword argument 'categorical_features'"
          ]
        }
      ]
    },
    {
      "cell_type": "code",
      "metadata": {
        "colab": {
          "base_uri": "https://localhost:8080/"
        },
        "id": "Xy_bDss_Et4A",
        "outputId": "6dcb7628-804d-4e91-b874-ef08a4575e1b"
      },
      "source": [
        "from sklearn.preprocessing import LabelEncoder, OneHotEncoder\n",
        "from sklearn.compose import ColumnTransformer\n",
        "print(X)\n",
        "labelencoder_X = LabelEncoder()\n",
        "X[:, 0] = labelencoder_X.fit_transform(X[:, 0])\n",
        "print(X)\n",
        " \n",
        "ct = ColumnTransformer([(\"Country\", OneHotEncoder(), [0])], remainder = 'passthrough')\n",
        "X = ct.fit_transform(X)\n",
        "labelencoder_Y = LabelEncoder()\n",
        "print(X)\n",
        "Y = labelencoder_Y.fit_transform(Y)\n"
      ],
      "execution_count": null,
      "outputs": [
        {
          "output_type": "stream",
          "name": "stdout",
          "text": [
            "[[1 49.0 86400.0]\n",
            " [0 32.0 57600.0]\n",
            " [2 35.0 64800.0]\n",
            " [0 43.0 73200.0]\n",
            " [2 45.0 76533.33333333333]\n",
            " [1 40.0 69600.0]\n",
            " [0 43.77777777777778 62400.0]\n",
            " [1 53.0 94800.0]\n",
            " [2 55.0 99600.0]\n",
            " [1 42.0 80400.0]]\n",
            "[[1 49.0 86400.0]\n",
            " [0 32.0 57600.0]\n",
            " [2 35.0 64800.0]\n",
            " [0 43.0 73200.0]\n",
            " [2 45.0 76533.33333333333]\n",
            " [1 40.0 69600.0]\n",
            " [0 43.77777777777778 62400.0]\n",
            " [1 53.0 94800.0]\n",
            " [2 55.0 99600.0]\n",
            " [1 42.0 80400.0]]\n",
            "[[0.0 1.0 0.0 49.0 86400.0]\n",
            " [1.0 0.0 0.0 32.0 57600.0]\n",
            " [0.0 0.0 1.0 35.0 64800.0]\n",
            " [1.0 0.0 0.0 43.0 73200.0]\n",
            " [0.0 0.0 1.0 45.0 76533.33333333333]\n",
            " [0.0 1.0 0.0 40.0 69600.0]\n",
            " [1.0 0.0 0.0 43.77777777777778 62400.0]\n",
            " [0.0 1.0 0.0 53.0 94800.0]\n",
            " [0.0 0.0 1.0 55.0 99600.0]\n",
            " [0.0 1.0 0.0 42.0 80400.0]]\n"
          ]
        }
      ]
    },
    {
      "cell_type": "markdown",
      "metadata": {
        "id": "YPKysTxs8_6Z"
      },
      "source": [
        "As you can see in the constructor, we specify which column has to be one hot encoded, [0] in this case. Then we fit and transform the array ‘x’ with the onehotencoder object we just created. And that’s it, we now have three new columns in our dataset."
      ]
    },
    {
      "cell_type": "code",
      "metadata": {
        "id": "JW2co2vmBAuF"
      },
      "source": [
        "# splitting the dataset into training set and test set\n",
        "#Split arrays or matrices into random train and test subsets\n",
        "\n",
        "X_train, X_test, Y_train, Y_test = train_test_split(X, Y, test_size=0.3, random_state=0)  # random state is like seed\n",
        "#A seed is set to ensure that the results are consistent if you use this array in future computations also."
      ],
      "execution_count": null,
      "outputs": []
    },
    {
      "cell_type": "markdown",
      "metadata": {
        "id": "boFxwjF41Rpx"
      },
      "source": []
    },
    {
      "cell_type": "code",
      "metadata": {
        "id": "yTYsLnYIDj9a",
        "colab": {
          "base_uri": "https://localhost:8080/"
        },
        "outputId": "48dd275c-a26c-4b51-adff-3dd3108e1627"
      },
      "source": [
        "from sklearn.linear_model import LinearRegression\n",
        "model = LinearRegression().fit(X_train, Y_train)\n",
        "print(model.intercept_)\n",
        "print(model.coef_)\n",
        "print(model.score(X_train, Y_train))\n",
        "\n",
        "print(model.score(X_test, Y_test))"
      ],
      "execution_count": null,
      "outputs": [
        {
          "output_type": "stream",
          "name": "stdout",
          "text": [
            "2.3757049008345685\n",
            "[-2.47904063e-01  2.47904063e-01  1.38777878e-16 -8.83964501e-02\n",
            "  2.64810114e-05]\n",
            "0.5591623987017814\n",
            "-1.024513466955931\n"
          ]
        }
      ]
    },
    {
      "cell_type": "code",
      "metadata": {
        "id": "eNd4mJI3vH7x"
      },
      "source": [
        "y_pred=model.predict(X_test)"
      ],
      "execution_count": null,
      "outputs": []
    },
    {
      "cell_type": "code",
      "metadata": {
        "id": "-HhoCaahwRKX",
        "colab": {
          "base_uri": "https://localhost:8080/",
          "height": 143
        },
        "outputId": "cda4bef1-b461-490e-9ef7-dc699ea054ba"
      },
      "source": [
        "df = pd.DataFrame({'Actual': Y_test, 'Predicted': y_pred})\n",
        "df"
      ],
      "execution_count": null,
      "outputs": [
        {
          "output_type": "execute_result",
          "data": {
            "text/plain": [
              "   Actual  Predicted\n",
              "0       0   0.997799\n",
              "1       0   0.151409\n",
              "2       1   0.424545"
            ],
            "text/html": [
              "\n",
              "  <div id=\"df-7fb09643-0f8e-4589-984c-73eb8732da77\">\n",
              "    <div class=\"colab-df-container\">\n",
              "      <div>\n",
              "<style scoped>\n",
              "    .dataframe tbody tr th:only-of-type {\n",
              "        vertical-align: middle;\n",
              "    }\n",
              "\n",
              "    .dataframe tbody tr th {\n",
              "        vertical-align: top;\n",
              "    }\n",
              "\n",
              "    .dataframe thead th {\n",
              "        text-align: right;\n",
              "    }\n",
              "</style>\n",
              "<table border=\"1\" class=\"dataframe\">\n",
              "  <thead>\n",
              "    <tr style=\"text-align: right;\">\n",
              "      <th></th>\n",
              "      <th>Actual</th>\n",
              "      <th>Predicted</th>\n",
              "    </tr>\n",
              "  </thead>\n",
              "  <tbody>\n",
              "    <tr>\n",
              "      <th>0</th>\n",
              "      <td>0</td>\n",
              "      <td>0.997799</td>\n",
              "    </tr>\n",
              "    <tr>\n",
              "      <th>1</th>\n",
              "      <td>0</td>\n",
              "      <td>0.151409</td>\n",
              "    </tr>\n",
              "    <tr>\n",
              "      <th>2</th>\n",
              "      <td>1</td>\n",
              "      <td>0.424545</td>\n",
              "    </tr>\n",
              "  </tbody>\n",
              "</table>\n",
              "</div>\n",
              "      <button class=\"colab-df-convert\" onclick=\"convertToInteractive('df-7fb09643-0f8e-4589-984c-73eb8732da77')\"\n",
              "              title=\"Convert this dataframe to an interactive table.\"\n",
              "              style=\"display:none;\">\n",
              "        \n",
              "  <svg xmlns=\"http://www.w3.org/2000/svg\" height=\"24px\"viewBox=\"0 0 24 24\"\n",
              "       width=\"24px\">\n",
              "    <path d=\"M0 0h24v24H0V0z\" fill=\"none\"/>\n",
              "    <path d=\"M18.56 5.44l.94 2.06.94-2.06 2.06-.94-2.06-.94-.94-2.06-.94 2.06-2.06.94zm-11 1L8.5 8.5l.94-2.06 2.06-.94-2.06-.94L8.5 2.5l-.94 2.06-2.06.94zm10 10l.94 2.06.94-2.06 2.06-.94-2.06-.94-.94-2.06-.94 2.06-2.06.94z\"/><path d=\"M17.41 7.96l-1.37-1.37c-.4-.4-.92-.59-1.43-.59-.52 0-1.04.2-1.43.59L10.3 9.45l-7.72 7.72c-.78.78-.78 2.05 0 2.83L4 21.41c.39.39.9.59 1.41.59.51 0 1.02-.2 1.41-.59l7.78-7.78 2.81-2.81c.8-.78.8-2.07 0-2.86zM5.41 20L4 18.59l7.72-7.72 1.47 1.35L5.41 20z\"/>\n",
              "  </svg>\n",
              "      </button>\n",
              "      \n",
              "  <style>\n",
              "    .colab-df-container {\n",
              "      display:flex;\n",
              "      flex-wrap:wrap;\n",
              "      gap: 12px;\n",
              "    }\n",
              "\n",
              "    .colab-df-convert {\n",
              "      background-color: #E8F0FE;\n",
              "      border: none;\n",
              "      border-radius: 50%;\n",
              "      cursor: pointer;\n",
              "      display: none;\n",
              "      fill: #1967D2;\n",
              "      height: 32px;\n",
              "      padding: 0 0 0 0;\n",
              "      width: 32px;\n",
              "    }\n",
              "\n",
              "    .colab-df-convert:hover {\n",
              "      background-color: #E2EBFA;\n",
              "      box-shadow: 0px 1px 2px rgba(60, 64, 67, 0.3), 0px 1px 3px 1px rgba(60, 64, 67, 0.15);\n",
              "      fill: #174EA6;\n",
              "    }\n",
              "\n",
              "    [theme=dark] .colab-df-convert {\n",
              "      background-color: #3B4455;\n",
              "      fill: #D2E3FC;\n",
              "    }\n",
              "\n",
              "    [theme=dark] .colab-df-convert:hover {\n",
              "      background-color: #434B5C;\n",
              "      box-shadow: 0px 1px 3px 1px rgba(0, 0, 0, 0.15);\n",
              "      filter: drop-shadow(0px 1px 2px rgba(0, 0, 0, 0.3));\n",
              "      fill: #FFFFFF;\n",
              "    }\n",
              "  </style>\n",
              "\n",
              "      <script>\n",
              "        const buttonEl =\n",
              "          document.querySelector('#df-7fb09643-0f8e-4589-984c-73eb8732da77 button.colab-df-convert');\n",
              "        buttonEl.style.display =\n",
              "          google.colab.kernel.accessAllowed ? 'block' : 'none';\n",
              "\n",
              "        async function convertToInteractive(key) {\n",
              "          const element = document.querySelector('#df-7fb09643-0f8e-4589-984c-73eb8732da77');\n",
              "          const dataTable =\n",
              "            await google.colab.kernel.invokeFunction('convertToInteractive',\n",
              "                                                     [key], {});\n",
              "          if (!dataTable) return;\n",
              "\n",
              "          const docLinkHtml = 'Like what you see? Visit the ' +\n",
              "            '<a target=\"_blank\" href=https://colab.research.google.com/notebooks/data_table.ipynb>data table notebook</a>'\n",
              "            + ' to learn more about interactive tables.';\n",
              "          element.innerHTML = '';\n",
              "          dataTable['output_type'] = 'display_data';\n",
              "          await google.colab.output.renderOutput(dataTable, element);\n",
              "          const docLink = document.createElement('div');\n",
              "          docLink.innerHTML = docLinkHtml;\n",
              "          element.appendChild(docLink);\n",
              "        }\n",
              "      </script>\n",
              "    </div>\n",
              "  </div>\n",
              "  "
            ]
          },
          "metadata": {},
          "execution_count": 23
        }
      ]
    },
    {
      "cell_type": "code",
      "metadata": {
        "id": "HMjK5uWEHp7Y",
        "colab": {
          "base_uri": "https://localhost:8080/"
        },
        "outputId": "7e6042ad-5e96-4e13-b64b-96e0bdf55043"
      },
      "source": [
        "from sklearn import metrics\n",
        "print('Mean Absolute Error:', metrics.mean_absolute_error(Y_test, y_pred))\n",
        "print('Mean Squared Error:', metrics.mean_squared_error(Y_test, y_pred))\n",
        "print('Root Mean Squared Error:', np.sqrt(metrics.mean_squared_error(Y_test, y_pred)))"
      ],
      "execution_count": null,
      "outputs": [
        {
          "output_type": "stream",
          "name": "stdout",
          "text": [
            "Mean Absolute Error: 0.5748876147410397\n",
            "Mean Squared Error: 0.4498918815457625\n",
            "Root Mean Squared Error: 0.670739801671082\n"
          ]
        }
      ]
    },
    {
      "cell_type": "markdown",
      "metadata": {
        "id": "TReDHwpvEoLZ"
      },
      "source": [
        "Some model may require feature scaling before applying ML algorithm"
      ]
    },
    {
      "cell_type": "code",
      "metadata": {
        "id": "e1Wk0kzLBIlK"
      },
      "source": [
        "# feature scaling (normalization)\n",
        "\n",
        "sc_X = StandardScaler()\n",
        "X_train = sc_X.fit_transform(X_train)\n",
        "\n",
        "X_test = sc_X.transform(X_test)"
      ],
      "execution_count": null,
      "outputs": []
    },
    {
      "cell_type": "code",
      "metadata": {
        "id": "ToRH091mxQyH"
      },
      "source": [],
      "execution_count": null,
      "outputs": []
    },
    {
      "cell_type": "code",
      "metadata": {
        "id": "kqxpaWlnxQ7t"
      },
      "source": [],
      "execution_count": null,
      "outputs": []
    },
    {
      "cell_type": "code",
      "metadata": {
        "id": "32ovg4QCxQ_O"
      },
      "source": [],
      "execution_count": null,
      "outputs": []
    },
    {
      "cell_type": "code",
      "metadata": {
        "id": "P8TKbJAWxREZ"
      },
      "source": [],
      "execution_count": null,
      "outputs": []
    },
    {
      "cell_type": "markdown",
      "metadata": {
        "id": "BduDjbw78WOT"
      },
      "source": [
        "References:\n",
        "1. https://contactsunny.medium.com/label-encoder-vs-one-hot-encoder-in-machine-learning-3fc273365621\n",
        "2. https://towardsdatascience.com/data-preprocessing-in-python-b52b652e37d5\n",
        "3. https://realpython.com/train-test-split-python-data/\n",
        "4. https://bigdata-madesimple.com/how-to-implement-these-5-powerful-probability-distributions-in-python/\n",
        "5. https://stackoverflow.com/questions/37512079/python-pandas-why-does-df-iloc-1-values-for-my-training-data-select-till\n",
        "\n",
        "\n",
        "\n"
      ]
    }
  ]
}