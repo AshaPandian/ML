{
  "nbformat": 4,
  "nbformat_minor": 0,
  "metadata": {
    "colab": {
      "provenance": [],
      "include_colab_link": true
    },
    "kernelspec": {
      "name": "python3",
      "display_name": "Python 3"
    }
  },
  "cells": [
    {
      "cell_type": "markdown",
      "metadata": {
        "id": "view-in-github",
        "colab_type": "text"
      },
      "source": [
        "<a href=\"https://colab.research.google.com/github/AshaPandian/ML/blob/main/PGDCB_Week3.ipynb\" target=\"_parent\"><img src=\"https://colab.research.google.com/assets/colab-badge.svg\" alt=\"Open In Colab\"/></a>"
      ]
    },
    {
      "cell_type": "code",
      "metadata": {
        "id": "qrDBS-yng83W"
      },
      "source": [],
      "execution_count": null,
      "outputs": []
    },
    {
      "cell_type": "markdown",
      "metadata": {
        "id": "CxHSa7NqGkku"
      },
      "source": [
        "### **Week 3 --- UNIT 3**"
      ]
    },
    {
      "cell_type": "markdown",
      "metadata": {
        "id": "a3BYZ8PTukNI"
      },
      "source": [
        "# Introduction: Classes and Objects"
      ]
    },
    {
      "cell_type": "code",
      "metadata": {
        "colab": {
          "base_uri": "https://localhost:8080/"
        },
        "id": "qxnDdVZEJBfb",
        "outputId": "2b72ad5b-74ae-4e5f-b5b9-97302b8984e6"
      },
      "source": [
        "class stud:                                   # Creating a Class\n",
        "    print(\"\\n PGDCB  Class\\n\")\n",
        "    Strength=9                                           # Creating a variable\n",
        "    def fun1(self):                        # Creating a function\n",
        "        print(\"\\n Good Students\\n\")\n",
        "\n",
        "ob = stud()                                 #Creating an object\n",
        "print(ob.Strength)\n",
        "ob.fun1()\n"
      ],
      "execution_count": null,
      "outputs": [
        {
          "output_type": "stream",
          "text": [
            "\n",
            " PGDCB  Class\n",
            "\n",
            "9\n",
            "\n",
            " Good Students\n",
            "\n"
          ],
          "name": "stdout"
        }
      ]
    },
    {
      "cell_type": "code",
      "metadata": {
        "id": "Ep7PL6zyujmt",
        "colab": {
          "base_uri": "https://localhost:8080/"
        },
        "outputId": "eb49833e-c3af-4a8e-82d4-28ed36ca7487"
      },
      "source": [
        "#Read name and percentage of a student and print them using classes and objects\n",
        "\n",
        "class stud:                 \n",
        "    print(\"\\nPGDCB Python Class\\n\")\n",
        "    dept_No=94\n",
        "    def fun1(self, x):\n",
        "        self.x =x\n",
        "        print(\"\\nFirst Topper, Rank, X \\n\")\n",
        "        print(\"x=\",self.x)\n",
        "    def get(self):\n",
        "        self.name=input(\"\\n Enter the name:\\n\")\n",
        "        self.per=int(input(\"\\n Enter the per:\\n\"))\n",
        "    def put(self):\n",
        "        print(\"Name=\",self.name,\"Percentage=\",self.per,self.x)\n",
        "\n",
        "ob = stud()\n",
        "print(\"Dept_No:\", ob.dept_No)\n",
        "ob.fun1(1)\n",
        "ob.get()\n",
        "ob.put()"
      ],
      "execution_count": null,
      "outputs": [
        {
          "output_type": "stream",
          "text": [
            "\n",
            "PGDCB Python Class\n",
            "\n",
            "Dept_No: 94\n",
            "\n",
            "First Topper, Rank, X \n",
            "\n",
            "x= 1 94\n",
            "\n",
            " Enter the name:\n",
            "Naba\n",
            "\n",
            " Enter the per:\n",
            "99\n",
            "Name= Naba Percentage= 99 1\n"
          ],
          "name": "stdout"
        }
      ]
    },
    {
      "cell_type": "code",
      "metadata": {
        "id": "RO6yXPXou9Xl",
        "colab": {
          "base_uri": "https://localhost:8080/"
        },
        "outputId": "0f34ae28-63aa-4c18-8b50-93752ffb5c31"
      },
      "source": [
        "#Multiple objects\n",
        "\n",
        "class stud:\n",
        "    print(\"\\nPGDCB Python Class\\n\")\n",
        "    Dept_No=94\n",
        "    def fun1(self):\n",
        "        print(\"\\n First Topper \\n\")\n",
        "        \n",
        "    def get(self):\n",
        "        self.name=input(\"\\n Enter the name:\\n\")\n",
        "        self.per=float(input(\"\\n Enter the per:\\n\"))\n",
        "    def put(self):\n",
        "        print(\"Name=\",self.name,\"Percentage=\",self.per)\n",
        "ob1 = stud()\n",
        "ob2 = stud()\n",
        "print(\"Dept_NO:\", ob1.Dept_No)\n",
        "ob1.fun1()\n",
        "print (\"Student 1\")\n",
        "ob1.get()\n",
        "ob1.put()\n",
        "print (\"Student 2\")\n",
        "ob2.get()\n",
        "ob2.put()\n"
      ],
      "execution_count": null,
      "outputs": [
        {
          "output_type": "stream",
          "text": [
            "\n",
            "PGDCB Python Class\n",
            "\n",
            "Dept_NO: 94\n",
            "\n",
            " First Topper \n",
            "\n",
            "Student 1\n",
            "\n",
            " Enter the name:\n",
            "Nabanita\n",
            "\n",
            " Enter the per:\n",
            "89\n",
            "Name= Nabanita Percentage= 89.0\n",
            "Student 2\n",
            "\n",
            " Enter the name:\n",
            "Shubham\n",
            "\n",
            " Enter the per:\n",
            "99\n",
            "Name= Shubham Percentage= 99.0\n"
          ],
          "name": "stdout"
        }
      ]
    },
    {
      "cell_type": "markdown",
      "metadata": {
        "id": "1_XxqBoswmAW"
      },
      "source": [
        "# Constructors and Destructors"
      ]
    },
    {
      "cell_type": "code",
      "metadata": {
        "colab": {
          "base_uri": "https://localhost:8080/"
        },
        "id": "UbBCZ1bQvMWS",
        "outputId": "2fe75ca7-e46f-4d61-8165-c9c56af78426"
      },
      "source": [
        "class Employee:\n",
        "   'Common base class for all employees'\n",
        "   empCount = 0\n",
        "\n",
        "   def __init__(self, name, salary):                                       #constructor\n",
        "      self.name = name\n",
        "      self.salary = salary\n",
        "      self.empCount += 1\n",
        "   \n",
        "   def displayCount(self):\n",
        "     print (\"Total Employee \", self.empCount)\n",
        "\n",
        "   def displayEmployee(self):\n",
        "      print (\"Name : \", self.name,  \", Salary: \", self.salary)\n",
        "\n",
        "   def __del__(self):                            # destructor \n",
        "      class_name = self.__class__.__name__\n",
        "      print  (class_name, \"destroyed\")\n",
        "\n",
        "\n",
        "ob= Employee(\"Asha\",50000.00)                       #constructor invoked when object is created\n",
        "ob.displayCount()\n",
        "ob.displayEmployee()\n",
        "print(\"printing the class name of an instance that is about to be destroyed \")\n",
        "del ob"
      ],
      "execution_count": null,
      "outputs": [
        {
          "output_type": "stream",
          "text": [
            "Total Employee  1\n",
            "Name :  Asha , Salary:  50000.0\n",
            "printing the class name of an instance that is about to be destroyed \n",
            "Employee destroyed\n"
          ],
          "name": "stdout"
        }
      ]
    },
    {
      "cell_type": "code",
      "metadata": {
        "colab": {
          "base_uri": "https://localhost:8080/"
        },
        "id": "WlS8fXz5v5kI",
        "outputId": "f7e34463-afcb-4c05-ca6d-c8f8eb0b8717"
      },
      "source": [
        "class Point:\n",
        "   def __init__( self, x=0, y=0):\n",
        "      self.x = x\n",
        "      self.y = y\n",
        "   def __del__(self):                            # destructor \n",
        "      class_name = self.__class__.__name__\n",
        "      print  (class_name, \"destroyed\")\n",
        "\n",
        "pt1 = Point()\n",
        "pt2 = pt1\n",
        "pt3 = pt1\n",
        "print (id(pt1),id(pt2),id(pt3))                  # prints the ids of the objects\n",
        "print(\"printing the class name of an instance that is about to be destroyed \")\n",
        "print (pt1,pt2,pt3)           \n",
        "del pt1\n",
        "del pt2\n",
        "del pt3"
      ],
      "execution_count": null,
      "outputs": [
        {
          "output_type": "stream",
          "text": [
            "139933252954704 139933252954704 139933252954704\n",
            "printing the class name of an instance that is about to be destroyed \n",
            "<__main__.Point object at 0x7f44bfd5aa50> <__main__.Point object at 0x7f44bfd5aa50> <__main__.Point object at 0x7f44bfd5aa50>\n",
            "Point destroyed\n"
          ],
          "name": "stdout"
        }
      ]
    },
    {
      "cell_type": "markdown",
      "metadata": {
        "id": "sUbyplWhwb_v"
      },
      "source": [
        "# Declaring and accessing Private members of a Class"
      ]
    },
    {
      "cell_type": "code",
      "metadata": {
        "colab": {
          "base_uri": "https://localhost:8080/",
          "height": 207
        },
        "id": "aZgd7RH1wKFm",
        "outputId": "cf7de6b4-f303-49d1-a4da-826e7497eebb"
      },
      "source": [
        "class MyClass: \n",
        "      # Hidden member of MyClass \n",
        "    __a = 10\n",
        "\n",
        "\n",
        " # Driver code \n",
        "obj = MyClass()\n",
        "print (obj.__a)"
      ],
      "execution_count": null,
      "outputs": [
        {
          "output_type": "error",
          "ename": "AttributeError",
          "evalue": "ignored",
          "traceback": [
            "\u001b[0;31m---------------------------------------------------------------------------\u001b[0m",
            "\u001b[0;31mAttributeError\u001b[0m                            Traceback (most recent call last)",
            "\u001b[0;32m<ipython-input-4-cf9a6690fc59>\u001b[0m in \u001b[0;36m<module>\u001b[0;34m()\u001b[0m\n\u001b[1;32m      6\u001b[0m  \u001b[0;31m# Driver code\u001b[0m\u001b[0;34m\u001b[0m\u001b[0;34m\u001b[0m\u001b[0;34m\u001b[0m\u001b[0m\n\u001b[1;32m      7\u001b[0m \u001b[0mobj\u001b[0m \u001b[0;34m=\u001b[0m \u001b[0mMyClass\u001b[0m\u001b[0;34m(\u001b[0m\u001b[0;34m)\u001b[0m\u001b[0;34m\u001b[0m\u001b[0;34m\u001b[0m\u001b[0m\n\u001b[0;32m----> 8\u001b[0;31m \u001b[0mprint\u001b[0m \u001b[0;34m(\u001b[0m\u001b[0mobj\u001b[0m\u001b[0;34m.\u001b[0m\u001b[0m__a\u001b[0m\u001b[0;34m)\u001b[0m\u001b[0;34m\u001b[0m\u001b[0;34m\u001b[0m\u001b[0m\n\u001b[0m",
            "\u001b[0;31mAttributeError\u001b[0m: 'MyClass' object has no attribute '__a'"
          ]
        }
      ]
    },
    {
      "cell_type": "code",
      "metadata": {
        "colab": {
          "base_uri": "https://localhost:8080/"
        },
        "id": "sVKSYM-1wOmr",
        "outputId": "38c7b164-ac9c-4832-fb0a-0779c4c33029"
      },
      "source": [
        "class MyClass: \n",
        "      # Hidden member of MyClass \n",
        "    __a = 10\n",
        " # Driver code \n",
        "obj = MyClass()\n",
        "print (obj._MyClass__a)"
      ],
      "execution_count": null,
      "outputs": [
        {
          "output_type": "stream",
          "text": [
            "10\n"
          ],
          "name": "stdout"
        }
      ]
    },
    {
      "cell_type": "code",
      "metadata": {
        "colab": {
          "base_uri": "https://localhost:8080/"
        },
        "id": "tQfsLom1g9tZ",
        "outputId": "4a47ed19-df31-4c70-86b9-9a4f4cbe3614"
      },
      "source": [
        "class DNARecord(): \n",
        "  sequence = 'ACGTAGCTGACGATC' \n",
        "  gene_name = 'ABC1' \n",
        "  species_name = 'Drosophila melanogaster' \n",
        "  def complement(self): \n",
        "    replacement1 = self.sequence.replace('A', 't')\n",
        "    replacement2 = replacement1.replace('T', 'a') \n",
        "    replacement3 = replacement2.replace('C', 'g') \n",
        "    replacement4 = replacement3.replace('G', 'c') \n",
        "    return replacement4.upper() \n",
        "  def get_AT(self): \n",
        "    length = len(self.sequence) \n",
        "    a_count = self.sequence.count('A') \n",
        "    t_count = self.sequence.count('T') \n",
        "    at_content = (a_count + t_count) / length \n",
        "    return at_content \n",
        "\n",
        "d = DNARecord() \n",
        "print('Created a record for ' , d.gene_name , ' from ' , d.species_name) \n",
        "print('AT is ', d.get_AT()) \n",
        "print('complement is ', d.complement())"
      ],
      "execution_count": null,
      "outputs": [
        {
          "output_type": "stream",
          "text": [
            "Created a record for  ABC1  from  Drosophila melanogaster\n",
            "AT is  0.4666666666666667\n",
            "complement is  TGCATCGACTGCTAG\n"
          ],
          "name": "stdout"
        }
      ]
    },
    {
      "cell_type": "code",
      "metadata": {
        "id": "HquhLhtwCxCc"
      },
      "source": [
        "Created a record for ABC1 from Drosophila melanogaster\n",
        "AT is 0.4666666666666667\n",
        "complement is TGCATCGACTGCTAG"
      ],
      "execution_count": null,
      "outputs": []
    },
    {
      "cell_type": "markdown",
      "metadata": {
        "id": "yhJfmNlvhukA"
      },
      "source": [
        "Constructor"
      ]
    },
    {
      "cell_type": "code",
      "metadata": {
        "colab": {
          "base_uri": "https://localhost:8080/"
        },
        "id": "wbxJDIIQhnsZ",
        "outputId": "110e440d-5b0f-4a31-d39f-7e14418f4271"
      },
      "source": [
        "class DNARecord(object): \n",
        "  def __init__(self, sequence, gene_name, species_name): \n",
        "    self.sequence = sequence \n",
        "    self.gene_name = gene_name \n",
        "    self.species_name = species_name \n",
        "  def complement(self): \n",
        "    replacement1 = self.sequence.replace('A', 't') \n",
        "    replacement2 = replacement1.replace('T', 'a') \n",
        "    replacement3 = replacement2.replace('C', 'g') \n",
        "    replacement4 = replacement3.replace('G', 'c') \n",
        "    return replacement4.upper() \n",
        "  def get_AT(self): \n",
        "    length = len(self.sequence) \n",
        "    a_count = self.sequence.count('A') \n",
        "    t_count = self.sequence.count('T') \n",
        "    at_content = (a_count + t_count) / length \n",
        "    return at_content \n",
        "\n",
        "d1 = DNARecord('ATATATTATTATATTATA', 'COX1', 'Homo sapiens') \n",
        "print(\"Gene_name is :\"+d1.gene_name)\n",
        "print(\"Species name is:\"+d1.species_name) \n",
        "print(d1.complement()) \n",
        "print(d1.get_AT())"
      ],
      "execution_count": null,
      "outputs": [
        {
          "output_type": "stream",
          "text": [
            "Gene_name is :COX1\n",
            "Species name is:Homo sapiens\n",
            "TATATAATAATATAATAT\n",
            "1.0\n"
          ],
          "name": "stdout"
        }
      ]
    },
    {
      "cell_type": "code",
      "metadata": {
        "colab": {
          "base_uri": "https://localhost:8080/"
        },
        "id": "oRtS0vAPjJgj",
        "outputId": "ad761561-26c2-44f7-ec10-a04db450d45e"
      },
      "source": [
        "class DNARecord(object): \n",
        "  def __init__(self, sequence, gene_name, species_name): \n",
        "    self.sequence = sequence \n",
        "    self.gene_name = gene_name \n",
        "    self.species_name = species_name \n",
        "  def complement1(self): \n",
        "    replacement1 = self.sequence.replace('A', 't') \n",
        "    replacement2 = replacement1.replace('T', 'a') \n",
        "    replacement3 = replacement2.replace('C', 'g') \n",
        "    replacement4 = replacement3.replace('G', 'c') \n",
        "    return replacement4.upper() \n",
        "  def get_AT(self): \n",
        "    length = len(self.sequence) \n",
        "    a_count = self.sequence.count('A') \n",
        "    t_count = self.sequence.count('T') \n",
        "    at_content = (a_count + t_count) / length \n",
        "    return at_content \n",
        "\n",
        "class ProteinRecord(DNARecord): \n",
        "  def get_hydrophobic(self): \n",
        "    aa_list=['l','p','M','F','W','Y','V']\n",
        "    print(\"new sequence= \", self.sequence)\n",
        "    protein_length = len(self.sequence) \n",
        "    print(\"protein_length= \",protein_length)\n",
        "    total = 0 \n",
        "    for aa in aa_list: \n",
        "      aa = aa.upper() \n",
        "      print(\"aa= \", aa)\n",
        "      aa_count = self.sequence.count(aa) \n",
        "      print(\"aa_count= \",aa_count)\n",
        "      total = total + aa_count \n",
        "      return total * 100 / protein_length \n",
        "\n",
        "\n",
        "\n",
        "d1 = DNARecord('ATCGCGTACGTGATCGTAG', 'COX1', 'Homo sapiens') \n",
        "print(\"Gene_name is :\" , d1.gene_name) \n",
        "print(\"Species name is:\"+d1.species_name) \n",
        "print(\"parent Sequence  is:\"+d1.sequence) \n",
        "print(d1.complement1()) \n",
        "print(d1.get_AT()) \n",
        "p1 = ProteinRecord('MSRSLLLRFLLFLLLLPPLPPPPPP', 'COX1', 'Homo sapiens') \n",
        "print(p1.get_hydrophobic())\n",
        "print(\"Child Sequence  is:\"+p1.sequence) \n",
        "print(\"Gene_name is :\"+p1.gene_name) \n",
        "print(\"Species name is:\"+p1.species_name) \n",
        "print(p1.complement1()) \n",
        "print(p1.get_AT()) \n"
      ],
      "execution_count": null,
      "outputs": [
        {
          "output_type": "stream",
          "text": [
            "Gene_name is : COX1\n",
            "Species name is:Homo sapiens\n",
            "parent Sequence  is:ATCGCGTACGTGATCGTAG\n",
            "TAGCGCATGCACTAGCATC\n",
            "0.47368421052631576\n",
            "new sequence=  MSRSLLLRFLLFLLLLPPLPPPPPP\n",
            "protein_length=  25\n",
            "aa=  L\n",
            "aa_count=  10\n",
            "40.0\n",
            "Child Sequence  is:MSRSLLLRFLLFLLLLPPLPPPPPP\n",
            "Gene_name is :COX1\n",
            "Species name is:Homo sapiens\n",
            "MSRSLLLRFLLFLLLLPPLPPPPPP\n",
            "0.0\n"
          ],
          "name": "stdout"
        }
      ]
    },
    {
      "cell_type": "code",
      "metadata": {
        "id": "hGK81Ju9bWpg"
      },
      "source": [
        "Gene_name is :COX1\n",
        "Species name is:Homo sapiens\n",
        "TAGCGCATGCACTAGCATC\n",
        "0.47368421052631576\n",
        "protein_length=  25\n",
        "aa=  P\n",
        "aa_count=  8\n",
        "32.0"
      ],
      "execution_count": null,
      "outputs": []
    },
    {
      "cell_type": "markdown",
      "metadata": {
        "id": "-Us98dw8jlIf"
      },
      "source": [
        "Overriding"
      ]
    },
    {
      "cell_type": "code",
      "metadata": {
        "colab": {
          "base_uri": "https://localhost:8080/"
        },
        "id": "VFj6egpxjh7I",
        "outputId": "54d5464c-a66d-42eb-cff4-dd85fc8eb7b8"
      },
      "source": [
        "class SequenceRecord(object): \n",
        "  def __init__(self, sequence, gene_name, species_name): \n",
        "    self.sequence = sequence \n",
        "    self.gene_name = gene_name \n",
        "    self.species_name = species_name \n",
        "  def get_fasta(self): \n",
        "    safe_species_name = self.species_name.replace(' ','_') \n",
        "    header = '>' + self.gene_name + '_' + safe_species_name \n",
        "    return header + '\\n' + self.sequence \n",
        "class ProteinRecord(SequenceRecord): \n",
        "  def get_hydrophobic(self):\n",
        "    aa_list=['A','I','L','M','F','W','Y','V'] \n",
        "    protein_length = len(self.sequence) \n",
        "    total = 0 \n",
        "    for aa in aa_list: \n",
        "      aa = aa.upper() \n",
        "      aa_count = self.sequence.count(aa) \n",
        "      total = total + aa_count \n",
        "    return total * 100 / protein_length \n",
        "class DNARecord(SequenceRecord): \n",
        "  def __init__(self, sequence, gene_name, species_name, genetic_code): \n",
        "    self.sequence = sequence \n",
        "    self.gene_name = gene_name \n",
        "    self.species_name = species_name \n",
        "    self.genetic_code = genetic_code \n",
        "  def complement(self): \n",
        "    replacement1 = self.sequence.replace('A', 't') \n",
        "    replacement2 = replacement1.replace('T', 'a') \n",
        "    replacement3 = replacement2.replace('C', 'g') \n",
        "    replacement4 = replacement3.replace('G', 'c') \n",
        "    return replacement4.upper() \n",
        "  def get_AT(self): \n",
        "    length = len(self.sequence) \n",
        "    a_count = self.sequence.count('A') \n",
        "    t_count = self.sequence.count('T') \n",
        "    return (a_count + t_count) / length \n",
        "\n",
        "d1 = DNARecord('ATCGCGTACGTGATCGTAG', 'COX1', 'Homo sapiens', 5) \n",
        "print(d1.get_fasta()) \n",
        "print(d1.complement()) \n",
        "print('genetic code is ' + str(d1.genetic_code)) \n",
        "\n",
        "p1 = ProteinRecord('MSRSLLLRFLLFLLLLPPLP', 'COX1', 'Homo sapiens') \n",
        "print(p1.get_fasta()) \n",
        "print(p1.get_hydrophobic())"
      ],
      "execution_count": null,
      "outputs": [
        {
          "output_type": "stream",
          "text": [
            ">COX1_Homo_sapiens\n",
            "ATCGCGTACGTGATCGTAG\n",
            "TAGCGCATGCACTAGCATC\n",
            "genetic code is 5\n",
            ">COX1_Homo_sapiens\n",
            "MSRSLLLRFLLFLLLLPPLP\n",
            "65.0\n"
          ],
          "name": "stdout"
        }
      ]
    },
    {
      "cell_type": "markdown",
      "metadata": {
        "id": "W4VMf0-dlKuj"
      },
      "source": [
        "Polymorphism"
      ]
    },
    {
      "cell_type": "code",
      "metadata": {
        "colab": {
          "base_uri": "https://localhost:8080/"
        },
        "id": "0dnuZbB0lAi8",
        "outputId": "605ff018-041d-4c20-f2ce-60527ec1571d"
      },
      "source": [
        "# Python program to demonstrate in-built polymorphic functions \n",
        "# len() being used for a string \n",
        "print(len(\"geeks\")) \n",
        "\n",
        "# len() being used for a list \n",
        "print(len([10, 20, 30]))"
      ],
      "execution_count": null,
      "outputs": [
        {
          "output_type": "stream",
          "text": [
            "5\n",
            "3\n"
          ],
          "name": "stdout"
        }
      ]
    },
    {
      "cell_type": "code",
      "metadata": {
        "colab": {
          "base_uri": "https://localhost:8080/"
        },
        "id": "bVSoWaERlbWh",
        "outputId": "702d44c0-b1d2-44c3-ddbc-ccb2b55239a8"
      },
      "source": [
        "class India(): \n",
        "  def capital(self): \n",
        "    print(\"New Delhi is the capital of India.\") \n",
        "  def language(self): \n",
        "    print(\"Hindi the primary language of India.\") \n",
        "  def type(self): \n",
        "    print(\"India is a developing country.\") \n",
        "class USA(): \n",
        "  def capital(self): \n",
        "    print(\"Washington, D.C. is the capital of USA.\") \n",
        "  def language(self): \n",
        "    print(\"English is the primary language of USA.\") \n",
        "  def type(self): \n",
        "    print(\"USA is a developed country.\")\n",
        "\n",
        "\n",
        "obj_ind = India() \n",
        "obj_usa = USA() \n",
        "print(\"particular method called using the object\") \n",
        "obj_ind.capital() \n",
        "print(\"--------------------------------------------------------\") \n",
        "print(\"calling all the methods through object using for loop\") \n",
        "for country in (obj_ind, obj_usa): \n",
        "  country.capital() \n",
        "  country.language() \n",
        "  country.type()"
      ],
      "execution_count": null,
      "outputs": [
        {
          "output_type": "stream",
          "text": [
            "particular method called using the object\n",
            "New Delhi is the capital of India.\n",
            "--------------------------------------------------------\n",
            "calling all the methods through object using for loop\n",
            "New Delhi is the capital of India.\n",
            "Hindi the primary language of India.\n",
            "India is a developing country.\n",
            "Washington, D.C. is the capital of USA.\n",
            "English is the primary language of USA.\n",
            "USA is a developed country.\n"
          ],
          "name": "stdout"
        }
      ]
    },
    {
      "cell_type": "markdown",
      "metadata": {
        "id": "604bLVjum62Q"
      },
      "source": [
        "Data Encapsulation"
      ]
    },
    {
      "cell_type": "code",
      "metadata": {
        "colab": {
          "base_uri": "https://localhost:8080/"
        },
        "id": "QY1QJDvam5bU",
        "outputId": "44ffe04b-778d-41bb-f32e-650ddb206351"
      },
      "source": [
        "class Computer: \n",
        "  def __init__(self): \n",
        "    self.__maxprice = 900 \n",
        "  def sell(self): \n",
        "    print(\"Selling Price: \",self.__maxprice) \n",
        "  def setMaxPrice(self, price): \n",
        "    self.__maxprice = price\n",
        "\n",
        "c = Computer() \n",
        "c.sell() \n",
        "# change the price \n",
        "c.__maxprice = 1000 \n",
        "c.sell() \n",
        "# using setter function \n",
        "c.setMaxPrice(1000) \n",
        "c.sell()"
      ],
      "execution_count": null,
      "outputs": [
        {
          "output_type": "stream",
          "text": [
            "Selling Price:  900\n",
            "Selling Price:  900\n",
            "Selling Price:  1000\n"
          ],
          "name": "stdout"
        }
      ]
    },
    {
      "cell_type": "markdown",
      "metadata": {
        "id": "h8gB3gYgo5b0"
      },
      "source": [
        "Exception Handling"
      ]
    },
    {
      "cell_type": "code",
      "metadata": {
        "id": "pzRMd4r3ntuw",
        "colab": {
          "base_uri": "https://localhost:8080/"
        },
        "outputId": "6fe48ed4-c0dd-4af7-82bb-3444f2e40aab"
      },
      "source": [
        "# Catching Exceptions\n",
        "try:\n",
        "  print(z)\n",
        "except:\n",
        "  print(\"An exception occurred, pls assign value to z\")"
      ],
      "execution_count": null,
      "outputs": [
        {
          "output_type": "stream",
          "text": [
            "An exception occurred, pls assign value to z\n"
          ],
          "name": "stdout"
        }
      ]
    },
    {
      "cell_type": "code",
      "metadata": {
        "colab": {
          "base_uri": "https://localhost:8080/"
        },
        "id": "11DUVcOOtCJH",
        "outputId": "5d1a73d0-7ae9-40bf-fbd4-4a0dc438c823"
      },
      "source": [
        "z=10\n",
        "try:\n",
        "  print(z)\n",
        "except:\n",
        "  print(\"An exception occurred\")"
      ],
      "execution_count": null,
      "outputs": [
        {
          "output_type": "stream",
          "text": [
            "10\n"
          ],
          "name": "stdout"
        }
      ]
    },
    {
      "cell_type": "code",
      "metadata": {
        "colab": {
          "base_uri": "https://localhost:8080/",
          "height": 162
        },
        "id": "znUmGjkDtCUg",
        "outputId": "0d85962e-d6ef-42f9-93a9-cd30f0c53bb6"
      },
      "source": [
        "print(a)"
      ],
      "execution_count": null,
      "outputs": [
        {
          "output_type": "error",
          "ename": "NameError",
          "evalue": "ignored",
          "traceback": [
            "\u001b[0;31m---------------------------------------------------------------------------\u001b[0m",
            "\u001b[0;31mNameError\u001b[0m                                 Traceback (most recent call last)",
            "\u001b[0;32m<ipython-input-2-bca0e2660b9f>\u001b[0m in \u001b[0;36m<module>\u001b[0;34m()\u001b[0m\n\u001b[0;32m----> 1\u001b[0;31m \u001b[0mprint\u001b[0m\u001b[0;34m(\u001b[0m\u001b[0ma\u001b[0m\u001b[0;34m)\u001b[0m\u001b[0;34m\u001b[0m\u001b[0;34m\u001b[0m\u001b[0m\n\u001b[0m",
            "\u001b[0;31mNameError\u001b[0m: name 'a' is not defined"
          ]
        }
      ]
    },
    {
      "cell_type": "markdown",
      "metadata": {
        "id": "V62jHAjDtP9h"
      },
      "source": [
        "Catching Specific Errors"
      ]
    },
    {
      "cell_type": "code",
      "metadata": {
        "colab": {
          "base_uri": "https://localhost:8080/"
        },
        "id": "5WiIg-0StCdD",
        "outputId": "5b043ba8-a3cb-44b9-ce17-981fbf5ff088"
      },
      "source": [
        "try:\n",
        "  z=10\n",
        "  print(z)\n",
        "  print(10/0)\n",
        "except NameError:\n",
        "  print(\"Pls give some val for z\")\n",
        "except:\n",
        "  print(\"Something else went wrong\")"
      ],
      "execution_count": null,
      "outputs": [
        {
          "output_type": "stream",
          "text": [
            "10\n",
            "Something else went wrong\n"
          ],
          "name": "stdout"
        }
      ]
    },
    {
      "cell_type": "code",
      "metadata": {
        "colab": {
          "base_uri": "https://localhost:8080/"
        },
        "id": "E9vYQwTotxK_",
        "outputId": "7343038b-6cf9-461c-fcae-cd53323c5632"
      },
      "source": [
        "try:\n",
        "   fh = open(\"testfile\", \"r\")\n",
        "   fh.write(\"This is my test file for exception handling!!\")\n",
        "except IOError:\n",
        "   print (\"Error: can\\'t find file or read data\")\n",
        "else:\n",
        "   print (\"Written content in the file successfully\")"
      ],
      "execution_count": null,
      "outputs": [
        {
          "output_type": "stream",
          "text": [
            "Error: can't find file or read data\n"
          ],
          "name": "stdout"
        }
      ]
    },
    {
      "cell_type": "code",
      "metadata": {
        "colab": {
          "base_uri": "https://localhost:8080/"
        },
        "id": "tTuloA47t5-9",
        "outputId": "733803dc-83ec-4d19-a995-123bd3b82883"
      },
      "source": [
        "try:\n",
        "    a = int(input(\"Enter a positive integer: \"))\n",
        "    if a <= 0:\n",
        "      raise ValueError(\"That is not a positive number!, pls enter only positive no\")\n",
        "except ValueError as ve:\n",
        "    print(ve)"
      ],
      "execution_count": null,
      "outputs": [
        {
          "output_type": "stream",
          "text": [
            "Enter a positive integer: -6\n",
            "That is not a positive number!, pls enter only positive no\n"
          ],
          "name": "stdout"
        }
      ]
    },
    {
      "cell_type": "code",
      "metadata": {
        "colab": {
          "base_uri": "https://localhost:8080/"
        },
        "id": "yFrgqiIEuFg0",
        "outputId": "f83bb52e-6a1d-43e5-f73e-a23811839c70"
      },
      "source": [
        "# program to print the reciprocal of even numbers\n",
        "\n",
        "try:\n",
        "    num = int(input(\"Enter a number: \"))\n",
        "    assert num % 2 == 0     #The assert keyword lets you test if a condition in your code returns True, if not, the program will raise an AssertionError.\n",
        "except:\n",
        "    print(\"Not an even number!\")\n",
        "else:\n",
        "    reciprocal = 1/num\n",
        "    print(reciprocal)"
      ],
      "execution_count": null,
      "outputs": [
        {
          "output_type": "stream",
          "text": [
            "Enter a number: 4\n",
            "0.25\n"
          ],
          "name": "stdout"
        }
      ]
    },
    {
      "cell_type": "code",
      "metadata": {
        "colab": {
          "base_uri": "https://localhost:8080/"
        },
        "id": "91wGC2hCuOpO",
        "outputId": "1ae536ab-3eab-4594-b0eb-90d98531c5fa"
      },
      "source": [
        " # USER DEFINED EXCEPTIONS\n",
        "\n",
        "# define Python user-defined exceptions\n",
        "class Error(Exception):\n",
        "    \"\"\"Base class for other exceptions\"\"\"\n",
        "    pass\n",
        "\n",
        "\n",
        "class ValueTooSmallError(Error):\n",
        "    \"\"\"Raised when the input value is too small\"\"\"\n",
        "    pass\n",
        "class ValueTooLargeError(Error):\n",
        "    \"\"\"Raised when the input value is too large\"\"\"\n",
        "    pass\n",
        "# you need to guess this number\n",
        "number = 77\n",
        "# user guesses a number until he/she gets it right\n",
        "while True:\n",
        "    try:\n",
        "        i_num = int(input(\"Enter a number: \"))\n",
        "        if i_num < number:\n",
        "            raise ValueTooSmallError\n",
        "        elif i_num > number:\n",
        "            raise ValueTooLargeError\n",
        "        break\n",
        "    except ValueTooSmallError:\n",
        "        print(\"This value is too small, try again!\")\n",
        "        print()\n",
        "    except ValueTooLargeError:\n",
        "        print(\"This value is too large, try again!\")\n",
        "        print()\n",
        "\n",
        "print(\"Congratulations! You guessed it correctly.\")"
      ],
      "execution_count": null,
      "outputs": [
        {
          "output_type": "stream",
          "text": [
            "Enter a number: 88\n",
            "This value is too large, try again!\n",
            "\n",
            "Enter a number: 82\n",
            "This value is too large, try again!\n",
            "\n",
            "Enter a number: 79\n",
            "This value is too large, try again!\n",
            "\n",
            "Enter a number: 75\n",
            "This value is too small, try again!\n",
            "\n",
            "Enter a number: 77\n",
            "Congratulations! You guessed it correctly.\n"
          ],
          "name": "stdout"
        }
      ]
    },
    {
      "cell_type": "markdown",
      "metadata": {
        "id": "8yUY1T2qwITI"
      },
      "source": [
        "Using else and finally in Exception handling"
      ]
    },
    {
      "cell_type": "code",
      "metadata": {
        "colab": {
          "base_uri": "https://localhost:8080/"
        },
        "id": "k2363yGeuXmW",
        "outputId": "43296180-2b55-49a2-b0fd-9bd535b9ad45"
      },
      "source": [
        "def divide(x,y):\n",
        " try:\n",
        "      res=x/y\n",
        " except ZeroDivisionError:\n",
        "     print (\"Exception occured\")\n",
        " else:\n",
        "     print(res)\n",
        " finally:\n",
        "     print(\"Program is complete\")\n",
        "\n",
        "divide(20,10)"
      ],
      "execution_count": null,
      "outputs": [
        {
          "output_type": "stream",
          "text": [
            "2.0\n",
            "Program is complete\n"
          ],
          "name": "stdout"
        }
      ]
    },
    {
      "cell_type": "code",
      "metadata": {
        "colab": {
          "base_uri": "https://localhost:8080/",
          "height": 353
        },
        "id": "-4RhceONw2iv",
        "outputId": "7840ece7-eafb-456d-ff13-d2109b0e7c5f"
      },
      "source": [
        "import re \n",
        "def get_at_content(dna): \n",
        "  if re.search(r'[^ATGC]', dna): \n",
        "    raise ValueError('Sequence cannot contain non-ATGC bases') \n",
        "  length = len(dna) \n",
        "  a_count = dna.count('A') \n",
        "  t_count = dna.count('T') \n",
        "  at_content = (a_count + t_count) / length \n",
        "  return at_content \n",
        "  \n",
        "print(get_at_content('ACGTACGTGAC')) \n",
        "print(get_at_content('ACTGCTNAACT'))"
      ],
      "execution_count": null,
      "outputs": [
        {
          "output_type": "stream",
          "text": [
            "0.45454545454545453\n"
          ],
          "name": "stdout"
        },
        {
          "output_type": "error",
          "ename": "ValueError",
          "evalue": "ignored",
          "traceback": [
            "\u001b[0;31m---------------------------------------------------------------------------\u001b[0m",
            "\u001b[0;31mValueError\u001b[0m                                Traceback (most recent call last)",
            "\u001b[0;32m<ipython-input-20-41522de35640>\u001b[0m in \u001b[0;36m<module>\u001b[0;34m()\u001b[0m\n\u001b[1;32m     10\u001b[0m \u001b[0;34m\u001b[0m\u001b[0m\n\u001b[1;32m     11\u001b[0m \u001b[0mprint\u001b[0m\u001b[0;34m(\u001b[0m\u001b[0mget_at_content\u001b[0m\u001b[0;34m(\u001b[0m\u001b[0;34m'ACGTACGTGAC'\u001b[0m\u001b[0;34m)\u001b[0m\u001b[0;34m)\u001b[0m\u001b[0;34m\u001b[0m\u001b[0;34m\u001b[0m\u001b[0m\n\u001b[0;32m---> 12\u001b[0;31m \u001b[0mprint\u001b[0m\u001b[0;34m(\u001b[0m\u001b[0mget_at_content\u001b[0m\u001b[0;34m(\u001b[0m\u001b[0;34m'ACTGCTNAACT'\u001b[0m\u001b[0;34m)\u001b[0m\u001b[0;34m)\u001b[0m\u001b[0;34m\u001b[0m\u001b[0;34m\u001b[0m\u001b[0m\n\u001b[0m",
            "\u001b[0;32m<ipython-input-20-41522de35640>\u001b[0m in \u001b[0;36mget_at_content\u001b[0;34m(dna)\u001b[0m\n\u001b[1;32m      2\u001b[0m \u001b[0;32mdef\u001b[0m \u001b[0mget_at_content\u001b[0m\u001b[0;34m(\u001b[0m\u001b[0mdna\u001b[0m\u001b[0;34m)\u001b[0m\u001b[0;34m:\u001b[0m\u001b[0;34m\u001b[0m\u001b[0;34m\u001b[0m\u001b[0m\n\u001b[1;32m      3\u001b[0m   \u001b[0;32mif\u001b[0m \u001b[0mre\u001b[0m\u001b[0;34m.\u001b[0m\u001b[0msearch\u001b[0m\u001b[0;34m(\u001b[0m\u001b[0;34mr'[^ATGC]'\u001b[0m\u001b[0;34m,\u001b[0m \u001b[0mdna\u001b[0m\u001b[0;34m)\u001b[0m\u001b[0;34m:\u001b[0m\u001b[0;34m\u001b[0m\u001b[0;34m\u001b[0m\u001b[0m\n\u001b[0;32m----> 4\u001b[0;31m     \u001b[0;32mraise\u001b[0m \u001b[0mValueError\u001b[0m\u001b[0;34m(\u001b[0m\u001b[0;34m'Sequence cannot contain non-ATGC bases'\u001b[0m\u001b[0;34m)\u001b[0m\u001b[0;34m\u001b[0m\u001b[0;34m\u001b[0m\u001b[0m\n\u001b[0m\u001b[1;32m      5\u001b[0m   \u001b[0mlength\u001b[0m \u001b[0;34m=\u001b[0m \u001b[0mlen\u001b[0m\u001b[0;34m(\u001b[0m\u001b[0mdna\u001b[0m\u001b[0;34m)\u001b[0m\u001b[0;34m\u001b[0m\u001b[0;34m\u001b[0m\u001b[0m\n\u001b[1;32m      6\u001b[0m   \u001b[0ma_count\u001b[0m \u001b[0;34m=\u001b[0m \u001b[0mdna\u001b[0m\u001b[0;34m.\u001b[0m\u001b[0mcount\u001b[0m\u001b[0;34m(\u001b[0m\u001b[0;34m'A'\u001b[0m\u001b[0;34m)\u001b[0m\u001b[0;34m\u001b[0m\u001b[0;34m\u001b[0m\u001b[0m\n",
            "\u001b[0;31mValueError\u001b[0m: Sequence cannot contain non-ATGC bases"
          ]
        }
      ]
    },
    {
      "cell_type": "code",
      "metadata": {
        "colab": {
          "base_uri": "https://localhost:8080/"
        },
        "id": "BRHJty-RmT9F",
        "outputId": "513d5911-77e5-49f9-e5eb-76b29f42ccbc"
      },
      "source": [
        "class stud:                 \n",
        "    print(\"\\nPGDCB Python Class\\n\")\n",
        "    dept_No=94\n",
        "    def fun1(self):\n",
        "        x =1\n",
        "        print(\"\\nFirst Topper, Rank, X \\n\")\n",
        "        print(\"x=\",x)\n",
        "    def get(self):\n",
        "        self.name=input(\"\\n Enter the name:\\n\")\n",
        "        self.per=int(input(\"\\n Enter the per:\\n\"))\n",
        "    def put(self):\n",
        "        print(\"Name=\",self.name,\"Percentage=\",self.per)\n",
        "\n",
        "ob = stud()\n",
        "print(\"Dept_No:\", ob.dept_No)\n",
        "ob.fun1()\n",
        "ob.get()\n",
        "ob.put()"
      ],
      "execution_count": null,
      "outputs": [
        {
          "output_type": "stream",
          "text": [
            "\n",
            "PGDCB Python Class\n",
            "\n",
            "Dept_No: 94\n",
            "\n",
            "First Topper, Rank, X \n",
            "\n",
            "x= 1\n",
            "\n",
            " Enter the name:\n",
            "aa\n",
            "\n",
            " Enter the per:\n",
            "11\n",
            "Name= aa Percentage= 11\n"
          ],
          "name": "stdout"
        }
      ]
    },
    {
      "cell_type": "code",
      "metadata": {
        "id": "W_4B3Ywb5YV-"
      },
      "source": [],
      "execution_count": null,
      "outputs": []
    },
    {
      "cell_type": "code",
      "metadata": {
        "colab": {
          "base_uri": "https://localhost:8080/"
        },
        "id": "SAqmlox35YtZ",
        "outputId": "363c6624-a03e-4d12-bb60-77462d2ecd73"
      },
      "source": [
        "class DNARecord(object): \n",
        "  def __init__(self, sequence, gene_name, species_name): \n",
        "    self.sequence = sequence \n",
        "    self.gene_name = gene_name \n",
        "    self.species_name = species_name \n",
        "  def complement1(self): \n",
        "    replacement1 = self.sequence.replace('A', 't') \n",
        "    replacement2 = replacement1.replace('T', 'a') \n",
        "    replacement3 = replacement2.replace('C', 'g') \n",
        "    replacement4 = replacement3.replace('G', 'c') \n",
        "    return replacement4.upper() \n",
        "  def get_AT(self): \n",
        "    length = len(self.sequence) \n",
        "    a_count = self.sequence.count('A') \n",
        "    t_count = self.sequence.count('T') \n",
        "    at_content = (a_count + t_count) / length \n",
        "    return at_content \n",
        "\n",
        "class ProteinRecord(DNARecord): \n",
        "  def get_hydrophobic(self): \n",
        "    aa_list=['l','p','M','F','W','Y','V']\n",
        "    print(\"new sequence= \", self.sequence)\n",
        "    protein_length = len(self.sequence) \n",
        "    print(\"protein_length= \",protein_length)\n",
        "    total = 0 \n",
        "    for i in self.sequence:\n",
        "      for aa in aa_list: \n",
        "        aa = aa.upper() \n",
        "        print(\"aa= \", aa)\n",
        "        aa_count = self.sequence.count(aa) \n",
        "        print(\"aa_count= \",aa_count)\n",
        "        total = total + aa_count \n",
        "    return total * 100 / protein_length \n",
        "\n",
        "\n",
        "\n",
        "d1 = DNARecord('ATCGCGTACGTGATCGTAG', 'COX1', 'Homo sapiens') \n",
        "print(\"Gene_name is :\"+d1.gene_name) \n",
        "print(\"Species name is:\"+d1.species_name) \n",
        "print(d1.complement1()) \n",
        "print(d1.get_AT()) \n",
        "p1 = ProteinRecord('MSRSLLLRFLLFLLLLPPLPPPPPP', 'COX1', 'Homo sapiens') \n",
        "print(p1.get_hydrophobic())"
      ],
      "execution_count": null,
      "outputs": [
        {
          "output_type": "stream",
          "text": [
            "Gene_name is :COX1\n",
            "Species name is:Homo sapiens\n",
            "TAGCGCATGCACTAGCATC\n",
            "0.47368421052631576\n",
            "new sequence=  MSRSLLLRFLLFLLLLPPLPPPPPP\n",
            "protein_length=  25\n",
            "aa=  L\n",
            "aa_count=  10\n",
            "aa=  P\n",
            "aa_count=  8\n",
            "aa=  M\n",
            "aa_count=  1\n",
            "aa=  F\n",
            "aa_count=  2\n",
            "aa=  W\n",
            "aa_count=  0\n",
            "aa=  Y\n",
            "aa_count=  0\n",
            "aa=  V\n",
            "aa_count=  0\n",
            "aa=  L\n",
            "aa_count=  10\n",
            "aa=  P\n",
            "aa_count=  8\n",
            "aa=  M\n",
            "aa_count=  1\n",
            "aa=  F\n",
            "aa_count=  2\n",
            "aa=  W\n",
            "aa_count=  0\n",
            "aa=  Y\n",
            "aa_count=  0\n",
            "aa=  V\n",
            "aa_count=  0\n",
            "aa=  L\n",
            "aa_count=  10\n",
            "aa=  P\n",
            "aa_count=  8\n",
            "aa=  M\n",
            "aa_count=  1\n",
            "aa=  F\n",
            "aa_count=  2\n",
            "aa=  W\n",
            "aa_count=  0\n",
            "aa=  Y\n",
            "aa_count=  0\n",
            "aa=  V\n",
            "aa_count=  0\n",
            "aa=  L\n",
            "aa_count=  10\n",
            "aa=  P\n",
            "aa_count=  8\n",
            "aa=  M\n",
            "aa_count=  1\n",
            "aa=  F\n",
            "aa_count=  2\n",
            "aa=  W\n",
            "aa_count=  0\n",
            "aa=  Y\n",
            "aa_count=  0\n",
            "aa=  V\n",
            "aa_count=  0\n",
            "aa=  L\n",
            "aa_count=  10\n",
            "aa=  P\n",
            "aa_count=  8\n",
            "aa=  M\n",
            "aa_count=  1\n",
            "aa=  F\n",
            "aa_count=  2\n",
            "aa=  W\n",
            "aa_count=  0\n",
            "aa=  Y\n",
            "aa_count=  0\n",
            "aa=  V\n",
            "aa_count=  0\n",
            "aa=  L\n",
            "aa_count=  10\n",
            "aa=  P\n",
            "aa_count=  8\n",
            "aa=  M\n",
            "aa_count=  1\n",
            "aa=  F\n",
            "aa_count=  2\n",
            "aa=  W\n",
            "aa_count=  0\n",
            "aa=  Y\n",
            "aa_count=  0\n",
            "aa=  V\n",
            "aa_count=  0\n",
            "aa=  L\n",
            "aa_count=  10\n",
            "aa=  P\n",
            "aa_count=  8\n",
            "aa=  M\n",
            "aa_count=  1\n",
            "aa=  F\n",
            "aa_count=  2\n",
            "aa=  W\n",
            "aa_count=  0\n",
            "aa=  Y\n",
            "aa_count=  0\n",
            "aa=  V\n",
            "aa_count=  0\n",
            "aa=  L\n",
            "aa_count=  10\n",
            "aa=  P\n",
            "aa_count=  8\n",
            "aa=  M\n",
            "aa_count=  1\n",
            "aa=  F\n",
            "aa_count=  2\n",
            "aa=  W\n",
            "aa_count=  0\n",
            "aa=  Y\n",
            "aa_count=  0\n",
            "aa=  V\n",
            "aa_count=  0\n",
            "aa=  L\n",
            "aa_count=  10\n",
            "aa=  P\n",
            "aa_count=  8\n",
            "aa=  M\n",
            "aa_count=  1\n",
            "aa=  F\n",
            "aa_count=  2\n",
            "aa=  W\n",
            "aa_count=  0\n",
            "aa=  Y\n",
            "aa_count=  0\n",
            "aa=  V\n",
            "aa_count=  0\n",
            "aa=  L\n",
            "aa_count=  10\n",
            "aa=  P\n",
            "aa_count=  8\n",
            "aa=  M\n",
            "aa_count=  1\n",
            "aa=  F\n",
            "aa_count=  2\n",
            "aa=  W\n",
            "aa_count=  0\n",
            "aa=  Y\n",
            "aa_count=  0\n",
            "aa=  V\n",
            "aa_count=  0\n",
            "aa=  L\n",
            "aa_count=  10\n",
            "aa=  P\n",
            "aa_count=  8\n",
            "aa=  M\n",
            "aa_count=  1\n",
            "aa=  F\n",
            "aa_count=  2\n",
            "aa=  W\n",
            "aa_count=  0\n",
            "aa=  Y\n",
            "aa_count=  0\n",
            "aa=  V\n",
            "aa_count=  0\n",
            "aa=  L\n",
            "aa_count=  10\n",
            "aa=  P\n",
            "aa_count=  8\n",
            "aa=  M\n",
            "aa_count=  1\n",
            "aa=  F\n",
            "aa_count=  2\n",
            "aa=  W\n",
            "aa_count=  0\n",
            "aa=  Y\n",
            "aa_count=  0\n",
            "aa=  V\n",
            "aa_count=  0\n",
            "aa=  L\n",
            "aa_count=  10\n",
            "aa=  P\n",
            "aa_count=  8\n",
            "aa=  M\n",
            "aa_count=  1\n",
            "aa=  F\n",
            "aa_count=  2\n",
            "aa=  W\n",
            "aa_count=  0\n",
            "aa=  Y\n",
            "aa_count=  0\n",
            "aa=  V\n",
            "aa_count=  0\n",
            "aa=  L\n",
            "aa_count=  10\n",
            "aa=  P\n",
            "aa_count=  8\n",
            "aa=  M\n",
            "aa_count=  1\n",
            "aa=  F\n",
            "aa_count=  2\n",
            "aa=  W\n",
            "aa_count=  0\n",
            "aa=  Y\n",
            "aa_count=  0\n",
            "aa=  V\n",
            "aa_count=  0\n",
            "aa=  L\n",
            "aa_count=  10\n",
            "aa=  P\n",
            "aa_count=  8\n",
            "aa=  M\n",
            "aa_count=  1\n",
            "aa=  F\n",
            "aa_count=  2\n",
            "aa=  W\n",
            "aa_count=  0\n",
            "aa=  Y\n",
            "aa_count=  0\n",
            "aa=  V\n",
            "aa_count=  0\n",
            "aa=  L\n",
            "aa_count=  10\n",
            "aa=  P\n",
            "aa_count=  8\n",
            "aa=  M\n",
            "aa_count=  1\n",
            "aa=  F\n",
            "aa_count=  2\n",
            "aa=  W\n",
            "aa_count=  0\n",
            "aa=  Y\n",
            "aa_count=  0\n",
            "aa=  V\n",
            "aa_count=  0\n",
            "aa=  L\n",
            "aa_count=  10\n",
            "aa=  P\n",
            "aa_count=  8\n",
            "aa=  M\n",
            "aa_count=  1\n",
            "aa=  F\n",
            "aa_count=  2\n",
            "aa=  W\n",
            "aa_count=  0\n",
            "aa=  Y\n",
            "aa_count=  0\n",
            "aa=  V\n",
            "aa_count=  0\n",
            "aa=  L\n",
            "aa_count=  10\n",
            "aa=  P\n",
            "aa_count=  8\n",
            "aa=  M\n",
            "aa_count=  1\n",
            "aa=  F\n",
            "aa_count=  2\n",
            "aa=  W\n",
            "aa_count=  0\n",
            "aa=  Y\n",
            "aa_count=  0\n",
            "aa=  V\n",
            "aa_count=  0\n",
            "aa=  L\n",
            "aa_count=  10\n",
            "aa=  P\n",
            "aa_count=  8\n",
            "aa=  M\n",
            "aa_count=  1\n",
            "aa=  F\n",
            "aa_count=  2\n",
            "aa=  W\n",
            "aa_count=  0\n",
            "aa=  Y\n",
            "aa_count=  0\n",
            "aa=  V\n",
            "aa_count=  0\n",
            "aa=  L\n",
            "aa_count=  10\n",
            "aa=  P\n",
            "aa_count=  8\n",
            "aa=  M\n",
            "aa_count=  1\n",
            "aa=  F\n",
            "aa_count=  2\n",
            "aa=  W\n",
            "aa_count=  0\n",
            "aa=  Y\n",
            "aa_count=  0\n",
            "aa=  V\n",
            "aa_count=  0\n",
            "aa=  L\n",
            "aa_count=  10\n",
            "aa=  P\n",
            "aa_count=  8\n",
            "aa=  M\n",
            "aa_count=  1\n",
            "aa=  F\n",
            "aa_count=  2\n",
            "aa=  W\n",
            "aa_count=  0\n",
            "aa=  Y\n",
            "aa_count=  0\n",
            "aa=  V\n",
            "aa_count=  0\n",
            "aa=  L\n",
            "aa_count=  10\n",
            "aa=  P\n",
            "aa_count=  8\n",
            "aa=  M\n",
            "aa_count=  1\n",
            "aa=  F\n",
            "aa_count=  2\n",
            "aa=  W\n",
            "aa_count=  0\n",
            "aa=  Y\n",
            "aa_count=  0\n",
            "aa=  V\n",
            "aa_count=  0\n",
            "aa=  L\n",
            "aa_count=  10\n",
            "aa=  P\n",
            "aa_count=  8\n",
            "aa=  M\n",
            "aa_count=  1\n",
            "aa=  F\n",
            "aa_count=  2\n",
            "aa=  W\n",
            "aa_count=  0\n",
            "aa=  Y\n",
            "aa_count=  0\n",
            "aa=  V\n",
            "aa_count=  0\n",
            "aa=  L\n",
            "aa_count=  10\n",
            "aa=  P\n",
            "aa_count=  8\n",
            "aa=  M\n",
            "aa_count=  1\n",
            "aa=  F\n",
            "aa_count=  2\n",
            "aa=  W\n",
            "aa_count=  0\n",
            "aa=  Y\n",
            "aa_count=  0\n",
            "aa=  V\n",
            "aa_count=  0\n",
            "aa=  L\n",
            "aa_count=  10\n",
            "aa=  P\n",
            "aa_count=  8\n",
            "aa=  M\n",
            "aa_count=  1\n",
            "aa=  F\n",
            "aa_count=  2\n",
            "aa=  W\n",
            "aa_count=  0\n",
            "aa=  Y\n",
            "aa_count=  0\n",
            "aa=  V\n",
            "aa_count=  0\n",
            "2100.0\n"
          ],
          "name": "stdout"
        }
      ]
    },
    {
      "cell_type": "code",
      "metadata": {
        "id": "JNFTPnRu5poC"
      },
      "source": [],
      "execution_count": null,
      "outputs": []
    },
    {
      "cell_type": "code",
      "metadata": {
        "colab": {
          "base_uri": "https://localhost:8080/",
          "height": 480
        },
        "id": "XXzVJFHd6OPN",
        "outputId": "6d2b0ff1-0772-4041-e6dd-0503a4704425"
      },
      "source": [
        "class DNARecord(object): \n",
        "  def __init__(self, sequence, gene_name, species_name): \n",
        "    self.sequence = sequence \n",
        "    self.gene_name = gene_name \n",
        "    self.species_name = species_name \n",
        "  def complement1(self): \n",
        "    replacement1 = self.sequence.replace('A', 't') \n",
        "    replacement2 = replacement1.replace('T', 'a') \n",
        "    replacement3 = replacement2.replace('C', 'g') \n",
        "    replacement4 = replacement3.replace('G', 'c') \n",
        "    return replacement4.upper() \n",
        "  def get_AT(self): \n",
        "    length = len(self.sequence) \n",
        "    a_count = self.sequence.count('A') \n",
        "    t_count = self.sequence.count('T') \n",
        "    at_content = (a_count + t_count) / length \n",
        "    return at_content \n",
        "\n",
        "class ProteinRecord(DNARecord): \n",
        "  def get_hydrophobic(self): \n",
        "    aa_list=['l','p','M','F','W','Y','V']\n",
        "    print(\"new sequence= \", self.sequence)\n",
        "    protein_length = len(self.sequence) \n",
        "    print(\"protein_length= \",protein_length)\n",
        "    total = 0 \n",
        "    for i in self.sequence:\n",
        "      for aa in aa_list: \n",
        "        aa = aa.upper() \n",
        "        if i==aa: \n",
        "          print(\"aa=\", aa)\n",
        "          aa_count = self.sequence.count(aa)\n",
        "          print(\"aa_count= \",aa_count)\n",
        "          if aa_count.count(aa) > 1:\n",
        "            break\n",
        "          total = total + aa_count \n",
        "    return total * 100 / protein_length \n",
        "\n",
        "\n",
        "\n",
        "d1 = DNARecord('ATCGCGTACGTGATCGTAG', 'COX1', 'Homo sapiens') \n",
        "print(\"Gene_name is :\"+d1.gene_name) \n",
        "print(\"Species name is:\"+d1.species_name) \n",
        "print(d1.complement1()) \n",
        "print(d1.get_AT()) \n",
        "p1 = ProteinRecord('MSRSLLLRFLLFLLLLPPLPPPPPP', 'COX1', 'Homo sapiens') \n",
        "print(p1.get_hydrophobic())"
      ],
      "execution_count": null,
      "outputs": [
        {
          "output_type": "stream",
          "text": [
            "Gene_name is :COX1\n",
            "Species name is:Homo sapiens\n",
            "TAGCGCATGCACTAGCATC\n",
            "0.47368421052631576\n",
            "new sequence=  MSRSLLLRFLLFLLLLPPLPPPPPP\n",
            "protein_length=  25\n",
            "aa= M\n",
            "aa_count=  1\n"
          ],
          "name": "stdout"
        },
        {
          "output_type": "error",
          "ename": "AttributeError",
          "evalue": "ignored",
          "traceback": [
            "\u001b[0;31m---------------------------------------------------------------------------\u001b[0m",
            "\u001b[0;31mAttributeError\u001b[0m                            Traceback (most recent call last)",
            "\u001b[0;32m<ipython-input-18-29fbe2bc3360>\u001b[0m in \u001b[0;36m<module>\u001b[0;34m()\u001b[0m\n\u001b[1;32m     44\u001b[0m \u001b[0mprint\u001b[0m\u001b[0;34m(\u001b[0m\u001b[0md1\u001b[0m\u001b[0;34m.\u001b[0m\u001b[0mget_AT\u001b[0m\u001b[0;34m(\u001b[0m\u001b[0;34m)\u001b[0m\u001b[0;34m)\u001b[0m\u001b[0;34m\u001b[0m\u001b[0;34m\u001b[0m\u001b[0m\n\u001b[1;32m     45\u001b[0m \u001b[0mp1\u001b[0m \u001b[0;34m=\u001b[0m \u001b[0mProteinRecord\u001b[0m\u001b[0;34m(\u001b[0m\u001b[0;34m'MSRSLLLRFLLFLLLLPPLPPPPPP'\u001b[0m\u001b[0;34m,\u001b[0m \u001b[0;34m'COX1'\u001b[0m\u001b[0;34m,\u001b[0m \u001b[0;34m'Homo sapiens'\u001b[0m\u001b[0;34m)\u001b[0m\u001b[0;34m\u001b[0m\u001b[0;34m\u001b[0m\u001b[0m\n\u001b[0;32m---> 46\u001b[0;31m \u001b[0mprint\u001b[0m\u001b[0;34m(\u001b[0m\u001b[0mp1\u001b[0m\u001b[0;34m.\u001b[0m\u001b[0mget_hydrophobic\u001b[0m\u001b[0;34m(\u001b[0m\u001b[0;34m)\u001b[0m\u001b[0;34m)\u001b[0m\u001b[0;34m\u001b[0m\u001b[0;34m\u001b[0m\u001b[0m\n\u001b[0m",
            "\u001b[0;32m<ipython-input-18-29fbe2bc3360>\u001b[0m in \u001b[0;36mget_hydrophobic\u001b[0;34m(self)\u001b[0m\n\u001b[1;32m     31\u001b[0m           \u001b[0maa_count\u001b[0m \u001b[0;34m=\u001b[0m \u001b[0mself\u001b[0m\u001b[0;34m.\u001b[0m\u001b[0msequence\u001b[0m\u001b[0;34m.\u001b[0m\u001b[0mcount\u001b[0m\u001b[0;34m(\u001b[0m\u001b[0maa\u001b[0m\u001b[0;34m)\u001b[0m\u001b[0;34m\u001b[0m\u001b[0;34m\u001b[0m\u001b[0m\n\u001b[1;32m     32\u001b[0m           \u001b[0mprint\u001b[0m\u001b[0;34m(\u001b[0m\u001b[0;34m\"aa_count= \"\u001b[0m\u001b[0;34m,\u001b[0m\u001b[0maa_count\u001b[0m\u001b[0;34m)\u001b[0m\u001b[0;34m\u001b[0m\u001b[0;34m\u001b[0m\u001b[0m\n\u001b[0;32m---> 33\u001b[0;31m           \u001b[0;32mif\u001b[0m \u001b[0maa_count\u001b[0m\u001b[0;34m.\u001b[0m\u001b[0mcount\u001b[0m\u001b[0;34m(\u001b[0m\u001b[0maa\u001b[0m\u001b[0;34m)\u001b[0m \u001b[0;34m>\u001b[0m \u001b[0;36m1\u001b[0m\u001b[0;34m:\u001b[0m\u001b[0;34m\u001b[0m\u001b[0;34m\u001b[0m\u001b[0m\n\u001b[0m\u001b[1;32m     34\u001b[0m             \u001b[0;32mbreak\u001b[0m\u001b[0;34m\u001b[0m\u001b[0;34m\u001b[0m\u001b[0m\n\u001b[1;32m     35\u001b[0m           \u001b[0mtotal\u001b[0m \u001b[0;34m=\u001b[0m \u001b[0mtotal\u001b[0m \u001b[0;34m+\u001b[0m \u001b[0maa_count\u001b[0m\u001b[0;34m\u001b[0m\u001b[0;34m\u001b[0m\u001b[0m\n",
            "\u001b[0;31mAttributeError\u001b[0m: 'int' object has no attribute 'count'"
          ]
        }
      ]
    }
  ]
}