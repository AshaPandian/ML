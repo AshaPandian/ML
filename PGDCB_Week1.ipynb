{
  "nbformat": 4,
  "nbformat_minor": 0,
  "metadata": {
    "colab": {
      "provenance": [],
      "include_colab_link": true
    },
    "kernelspec": {
      "name": "python3",
      "display_name": "Python 3"
    }
  },
  "cells": [
    {
      "cell_type": "markdown",
      "metadata": {
        "id": "view-in-github",
        "colab_type": "text"
      },
      "source": [
        "<a href=\"https://colab.research.google.com/github/AshaPandian/ML/blob/main/PGDCB_Week1.ipynb\" target=\"_parent\"><img src=\"https://colab.research.google.com/assets/colab-badge.svg\" alt=\"Open In Colab\"/></a>"
      ]
    },
    {
      "cell_type": "code",
      "metadata": {
        "id": "FXKpi8WnH4-a"
      },
      "source": [],
      "execution_count": null,
      "outputs": []
    },
    {
      "cell_type": "markdown",
      "metadata": {
        "id": "Y9edPA-oH5Tl"
      },
      "source": [
        "# **Week 1 --- UNIT 1**"
      ]
    },
    {
      "cell_type": "code",
      "metadata": {
        "colab": {
          "base_uri": "https://localhost:8080/"
        },
        "id": "sja4gzVxIYmK",
        "outputId": "88d5c0be-f952-4eca-e75b-8f47b3d31d0d"
      },
      "source": [
        "x=10\n",
        "print(x)"
      ],
      "execution_count": null,
      "outputs": [
        {
          "output_type": "stream",
          "text": [
            "10\n"
          ],
          "name": "stdout"
        }
      ]
    },
    {
      "cell_type": "code",
      "metadata": {
        "colab": {
          "base_uri": "https://localhost:8080/"
        },
        "id": "fa0rrjs_qQkq",
        "outputId": "33d9df87-96d5-4a09-c0c0-fe8ba8e5e285"
      },
      "source": [
        "x=input(\"Enter the value of x:\")\n",
        "print(x)\n",
        "print(type(x))"
      ],
      "execution_count": null,
      "outputs": [
        {
          "output_type": "stream",
          "text": [
            "Enter the value of x:10\n",
            "10\n",
            "<class 'str'>\n"
          ],
          "name": "stdout"
        }
      ]
    },
    {
      "cell_type": "code",
      "metadata": {
        "colab": {
          "base_uri": "https://localhost:8080/"
        },
        "id": "r3Dc7b5uqcj_",
        "outputId": "4817f015-6233-4c87-909a-005b69c3c13a"
      },
      "source": [
        "x=int(input(\"Enter the value of x:\"))\n",
        "print(x)\n",
        "print(type(x))"
      ],
      "execution_count": null,
      "outputs": [
        {
          "output_type": "stream",
          "text": [
            "Enter the value of x:10\n",
            "10\n",
            "<class 'int'>\n"
          ],
          "name": "stdout"
        }
      ]
    },
    {
      "cell_type": "code",
      "metadata": {
        "colab": {
          "base_uri": "https://localhost:8080/"
        },
        "id": "E5fEJIATqhuZ",
        "outputId": "9d8a6577-2bf0-4ef5-f4db-20d50604acce"
      },
      "source": [
        "6**2     #** is exponentiation"
      ],
      "execution_count": null,
      "outputs": [
        {
          "output_type": "execute_result",
          "data": {
            "text/plain": [
              "36"
            ]
          },
          "metadata": {
            "tags": []
          },
          "execution_count": 19
        }
      ]
    },
    {
      "cell_type": "code",
      "metadata": {
        "colab": {
          "base_uri": "https://localhost:8080/"
        },
        "id": "X--fse7JqnrD",
        "outputId": "23430a93-9137-4021-a07a-323ed76b2565"
      },
      "source": [
        "6^2         # ^ does Xor operation here.... 6 XOR 2 "
      ],
      "execution_count": null,
      "outputs": [
        {
          "output_type": "execute_result",
          "data": {
            "text/plain": [
              "4"
            ]
          },
          "metadata": {
            "tags": []
          },
          "execution_count": 20
        }
      ]
    },
    {
      "cell_type": "code",
      "metadata": {
        "colab": {
          "base_uri": "https://localhost:8080/"
        },
        "id": "3L7ImXqDq2-N",
        "outputId": "96c3b324-9eb0-44cf-a00e-3d6fc82e6a50"
      },
      "source": [
        "name = input(\"Enter your name: \")\n",
        "print(\"Your name is: \", name)\n",
        "print(type(name))\n",
        " \n",
        "age =int(input(\"Enter your age: \"))\n",
        "print(\"Your name is: \", age)\n",
        "print(type(age))\n",
        " \n",
        "sal = float(input(\"Enter your sal: \"))\n",
        "print(\"Your name is: \", sal)\n",
        "print(type(sal))\n",
        " \n",
        "age = 22\n",
        "sal = 10.50\n",
        "complex = 3+5j\n",
        "print(type(age))\n",
        "print(type(sal))\n",
        "print(type(complex))"
      ],
      "execution_count": null,
      "outputs": [
        {
          "output_type": "stream",
          "text": [
            "Enter your name: Asha\n",
            "Your name is:  Asha\n",
            "<class 'str'>\n",
            "Enter your age: 33\n",
            "Your name is:  33\n",
            "<class 'int'>\n",
            "Enter your sal: 21345.00\n",
            "Your name is:  21345.0\n",
            "<class 'float'>\n",
            "<class 'int'>\n",
            "<class 'float'>\n",
            "<class 'complex'>\n"
          ],
          "name": "stdout"
        }
      ]
    },
    {
      "cell_type": "code",
      "metadata": {
        "colab": {
          "base_uri": "https://localhost:8080/"
        },
        "id": "0zF1eTNK9WMP",
        "outputId": "558da0af-eb30-4a6d-87fe-0646def027d8"
      },
      "source": [
        "#Indendation\n",
        "\n",
        "for i in range(1,5):\n",
        "  print(i)\n",
        "print(\"Inside for\")\n",
        "print(\"out of for loop\")"
      ],
      "execution_count": null,
      "outputs": [
        {
          "output_type": "stream",
          "text": [
            "1\n",
            "2\n",
            "3\n",
            "4\n",
            "Inside for\n",
            "out of for loop\n"
          ],
          "name": "stdout"
        }
      ]
    },
    {
      "cell_type": "code",
      "metadata": {
        "colab": {
          "base_uri": "https://localhost:8080/"
        },
        "id": "rowFl5bj9e7q",
        "outputId": "8c29f08e-ed1b-4d4e-e8c7-be5f5331c4d9"
      },
      "source": [
        "x=y=z=50\n",
        "print(\"x=\",x,\"y=\",y,\"z=\",z)\n",
        "a,b,c=1,2,3\n",
        "print(\"a=\",a,\"b=\",b,\"c=\",c)"
      ],
      "execution_count": null,
      "outputs": [
        {
          "output_type": "stream",
          "text": [
            "x= 50 y= 50 z= 50\n",
            "a= 1 b= 2 c= 3\n"
          ],
          "name": "stdout"
        }
      ]
    },
    {
      "cell_type": "code",
      "metadata": {
        "colab": {
          "base_uri": "https://localhost:8080/"
        },
        "id": "BRi01B9Y9jTB",
        "outputId": "77365b14-2044-4dfd-c87b-a57c5f33952f"
      },
      "source": [
        "import keyword\n",
        "print(keyword.kwlist)"
      ],
      "execution_count": null,
      "outputs": [
        {
          "output_type": "stream",
          "text": [
            "['False', 'None', 'True', 'and', 'as', 'assert', 'async', 'await', 'break', 'class', 'continue', 'def', 'del', 'elif', 'else', 'except', 'finally', 'for', 'from', 'global', 'if', 'import', 'in', 'is', 'lambda', 'nonlocal', 'not', 'or', 'pass', 'raise', 'return', 'try', 'while', 'with', 'yield']\n"
          ],
          "name": "stdout"
        }
      ]
    },
    {
      "cell_type": "code",
      "metadata": {
        "colab": {
          "base_uri": "https://localhost:8080/"
        },
        "id": "GKCH_dLw9lFb",
        "outputId": "23a5be5f-1859-4a08-8dbd-0a37e1bf17f6"
      },
      "source": [
        "import sys\n",
        "print(\"Python version\")\n",
        "print (sys.version)\n"
      ],
      "execution_count": null,
      "outputs": [
        {
          "output_type": "stream",
          "text": [
            "Python version\n",
            "3.7.10 (default, Feb 20 2021, 21:17:23) \n",
            "[GCC 7.5.0]\n"
          ],
          "name": "stdout"
        }
      ]
    },
    {
      "cell_type": "markdown",
      "metadata": {
        "id": "1gLvOCGdZ7Pd"
      },
      "source": []
    },
    {
      "cell_type": "code",
      "metadata": {
        "colab": {
          "base_uri": "https://localhost:8080/"
        },
        "id": "H_kwg4iHPCH1",
        "outputId": "50eb8ea8-4122-412d-9eec-ff385d721951"
      },
      "source": [
        "my_dna = \"ATGCGTA\" \n",
        "print(my_dna) \n",
        "# change the value of my_dna \n",
        "my_Dna = \"TGGTCCA\"\n",
        "print(my_Dna)"
      ],
      "execution_count": null,
      "outputs": [
        {
          "output_type": "stream",
          "text": [
            "ATGCGTA\n",
            "TGGTCCA\n"
          ],
          "name": "stdout"
        }
      ]
    },
    {
      "cell_type": "code",
      "metadata": {
        "colab": {
          "base_uri": "https://localhost:8080/"
        },
        "id": "x0kAVnb4Ppj-",
        "outputId": "3bf19cb5-949a-4966-f55d-de4f27fbcb9e"
      },
      "source": [
        "x=10\n",
        "X=20\n",
        "print(x)"
      ],
      "execution_count": null,
      "outputs": [
        {
          "output_type": "stream",
          "text": [
            "10\n"
          ],
          "name": "stdout"
        }
      ]
    },
    {
      "cell_type": "code",
      "metadata": {
        "colab": {
          "base_uri": "https://localhost:8080/"
        },
        "id": "xx1m8IRG9tqJ",
        "outputId": "36582a02-0943-4d06-c975-ce825dee0096"
      },
      "source": [
        "f1='ATGCGAGT'\n",
        "f2='TGGTCCA'\n",
        "f3='are good'\n",
        "print(f1+f2) #STRING CONCATENATION\n",
        "print(\"*************\")\n",
        "print(f1*3)"
      ],
      "execution_count": null,
      "outputs": [
        {
          "output_type": "stream",
          "text": [
            "ATGCGAGTTGGTCCA\n",
            "*************\n",
            "ATGCGAGTATGCGAGTATGCGAGT\n"
          ],
          "name": "stdout"
        }
      ]
    },
    {
      "cell_type": "code",
      "metadata": {
        "colab": {
          "base_uri": "https://localhost:8080/"
        },
        "id": "IqPqFUyA3Bqq",
        "outputId": "a6f7855e-47fe-4164-e435-da02455e7315"
      },
      "source": [
        "len(\"ATGC\")"
      ],
      "execution_count": null,
      "outputs": [
        {
          "output_type": "execute_result",
          "data": {
            "text/plain": [
              "4"
            ]
          },
          "metadata": {
            "tags": []
          },
          "execution_count": 1
        }
      ]
    },
    {
      "cell_type": "code",
      "metadata": {
        "colab": {
          "base_uri": "https://localhost:8080/"
        },
        "id": "skOgpABS3XKD",
        "outputId": "60aaa06e-660a-422e-a0b2-9976fc857fa1"
      },
      "source": [
        "my_dna = \"ATGCGAGT\" \n",
        "dna_length = len(my_dna) \n",
        "print(\"The length of the DNA sequence is \" + str(dna_length))\n",
        "print(\"The length of the DNA sequence is \" , dna_length)"
      ],
      "execution_count": null,
      "outputs": [
        {
          "output_type": "stream",
          "text": [
            "The length of the DNA sequence is 8\n",
            "The length of the DNA sequence is  8\n"
          ],
          "name": "stdout"
        }
      ]
    },
    {
      "cell_type": "code",
      "metadata": {
        "colab": {
          "base_uri": "https://localhost:8080/"
        },
        "id": "L2nrmPVu4OSs",
        "outputId": "98f14b91-65cc-49f8-dceb-26cbf44bd487"
      },
      "source": [
        "my_dna = \"atgc\"\n",
        "low1=my_dna.upper()\n",
        "print(low1)\n",
        "low2=low1.lower()\n",
        "print(low2)\n"
      ],
      "execution_count": null,
      "outputs": [
        {
          "output_type": "stream",
          "text": [
            "ATGC\n",
            "atgc\n"
          ],
          "name": "stdout"
        }
      ]
    },
    {
      "cell_type": "code",
      "metadata": {
        "id": "VWZX46-ZoZc7",
        "colab": {
          "base_uri": "https://localhost:8080/"
        },
        "outputId": "8c90a645-031a-4f92-9eac-925a2ca340ae"
      },
      "source": [
        "String1 = \"PGDCB STUDENTS\"\n",
        "print(\"Initial String: \")  \n",
        "print(String1)  \n",
        "    \n",
        "# Printing First character  \n",
        "print(\"\\nFirst character of String is: \")  \n",
        "print(String1[0])  \n",
        "    \n",
        "# Printing Last character  \n",
        "print(\"\\nLast character of String is: \")  \n",
        "print(String1[-1])  \n",
        "\n",
        "print(\"\\n8th char: \")  \n",
        "print(String1[8]) \n",
        "#  Updation or deletion of characters from a String is not allowed\n",
        "# because strings are immutable\n",
        "\n",
        "string2 = 'I\\'m doing \"Python Progmg\"'\n",
        "print(\"\\n Escaping Single Quote:\" , string2)\n",
        "\n",
        "string2 = \" PGDCB \\\"Python Progmg\\\" \"\n",
        "print(\"\\n Escaping Double Quote:\" , string2)"
      ],
      "execution_count": null,
      "outputs": [
        {
          "output_type": "stream",
          "text": [
            "Initial String: \n",
            "PGDCB STUDENTS\n",
            "\n",
            "First character of String is: \n",
            "P\n",
            "\n",
            "Last character of String is: \n",
            "S\n",
            "\n",
            "8th char: \n",
            "U\n",
            "\n",
            " Escaping Single Quote: I'm doing \"Python Progmg\"\n",
            "\n",
            " Escaping Double Quote:  PGDCB \"Python Progmg\" \n"
          ],
          "name": "stdout"
        }
      ]
    },
    {
      "cell_type": "code",
      "source": [],
      "metadata": {
        "id": "ky_EBG6ffcZE"
      },
      "execution_count": null,
      "outputs": []
    },
    {
      "cell_type": "code",
      "metadata": {
        "colab": {
          "base_uri": "https://localhost:8080/"
        },
        "id": "-yIiX_zG9Adb",
        "outputId": "36476f35-8f07-4d2f-f766-39c5016b2b12"
      },
      "source": [
        "#[start:end]   or [start:end:step]\n",
        "import numpy as np\n",
        "arr = np.array([11,12,13,14,15,16,17])\n",
        "print(arr[-3:-1])\n",
        "print(arr[1:5])\n",
        "print(arr[4:]) \n",
        "print(arr[:4])\n",
        "print(arr[-5:-1])\n",
        "print(arr[1:5:2])\n",
        "print(arr[::2])"
      ],
      "execution_count": null,
      "outputs": [
        {
          "output_type": "stream",
          "name": "stdout",
          "text": [
            "[15 16]\n",
            "[12 13 14 15]\n",
            "[15 16 17]\n",
            "[11 12 13 14]\n",
            "[13 14 15 16]\n",
            "[12 14]\n",
            "[11 13 15 17]\n"
          ]
        }
      ]
    },
    {
      "cell_type": "code",
      "source": [
        "a=(89+98+54+78+99)/5\n",
        "print(a)"
      ],
      "metadata": {
        "colab": {
          "base_uri": "https://localhost:8080/"
        },
        "id": "PIGHJrexiaLQ",
        "outputId": "3f76b9c8-9955-44ac-9fe3-fc6302d2ea52"
      },
      "execution_count": null,
      "outputs": [
        {
          "output_type": "stream",
          "name": "stdout",
          "text": [
            "83.6\n"
          ]
        }
      ]
    },
    {
      "cell_type": "code",
      "metadata": {
        "colab": {
          "base_uri": "https://localhost:8080/"
        },
        "id": "mWbzQyqK6zUV",
        "outputId": "ebb938f3-f547-46c5-8138-da86f5f6a3ed"
      },
      "source": [
        "# Python Program to convert temperature in celsius to fahrenheit\n",
        "\n",
        "# change this value for a different result\n",
        "celsius = 37.5\n",
        "\n",
        "# calculate fahrenheit\n",
        "fahrenheit = (celsius * 1.8) + 32\n",
        "print(celsius,\"degree Celsius is equal to\",fahrenheit,\"degree Fahrenheit\")"
      ],
      "execution_count": null,
      "outputs": [
        {
          "output_type": "stream",
          "text": [
            "37.5 degree Celsius is equal to 99.5 degree Fahrenheit\n"
          ],
          "name": "stdout"
        }
      ]
    },
    {
      "cell_type": "code",
      "metadata": {
        "colab": {
          "base_uri": "https://localhost:8080/"
        },
        "id": "eadJdXpP9Jqt",
        "outputId": "b0fc2d6a-dc33-420a-c80b-9a2687a35f0c"
      },
      "source": [
        "r = int(input(\"Enter the radius of the circle: \"))\n",
        "area = 3.14 * r * r\n",
        "print(\"Area of Circle=\",area)"
      ],
      "execution_count": null,
      "outputs": [
        {
          "output_type": "stream",
          "text": [
            "Enter the radius of the circle: 3\n",
            "Area of Circle= 28.259999999999998\n"
          ],
          "name": "stdout"
        }
      ]
    },
    {
      "cell_type": "code",
      "metadata": {
        "colab": {
          "base_uri": "https://localhost:8080/"
        },
        "id": "JX9u3nft-MS7",
        "outputId": "6b7fd223-832d-471a-91e4-5fbb45b0f379"
      },
      "source": [
        "# Python Program to find the area of triangle\n",
        "\n",
        "a = 5\n",
        "b = 6\n",
        "c = 7\n",
        "\n",
        "# Uncomment below to take inputs from the user\n",
        "# a = float(input('Enter first side: '))\n",
        "# b = float(input('Enter second side: '))\n",
        "# c = float(input('Enter third side: '))\n",
        "\n",
        "# calculate the semi-perimeter\n",
        "s = (a + b + c) / 2\n",
        "\n",
        "# calculate the area\n",
        "area = (s*(s-a)*(s-b)*(s-c)) ** 0.5\n",
        "print('The area of the triangle is =', area)"
      ],
      "execution_count": null,
      "outputs": [
        {
          "output_type": "stream",
          "text": [
            "The area of the triangle is = 14.696938456699069\n"
          ],
          "name": "stdout"
        }
      ]
    },
    {
      "cell_type": "code",
      "metadata": {
        "colab": {
          "base_uri": "https://localhost:8080/"
        },
        "id": "-IR8TXLS8ve2",
        "outputId": "dae4a61e-d8a9-44af-d6be-ab0ed1eb8e40"
      },
      "source": [
        "p=int(input(\"Enter the Principal:\"))\n",
        "n=int(input(\"Enter the no. of years:\"))\n",
        "r=int(input(\"Enter the rate of interest:\"))\n",
        "print('The principal is=', p) \n",
        "print('The no. of years is=', n) \n",
        "print('The rate of interest is=',r) \n",
        "si = (p * n * r)/100\n",
        "print('The Simple Interest is=', si) \n",
        "\n"
      ],
      "execution_count": null,
      "outputs": [
        {
          "output_type": "stream",
          "text": [
            "Enter the Principal:100000\n",
            "Enter the no. of years:3\n",
            "Enter the rate of interest:4\n",
            "The principal is= 100000\n",
            "The no. of years is= 3\n",
            "The rate of interest is= 4\n",
            "The Simple Interest is= 12000.0\n"
          ],
          "name": "stdout"
        }
      ]
    },
    {
      "cell_type": "code",
      "metadata": {
        "colab": {
          "base_uri": "https://localhost:8080/"
        },
        "id": "Wh57gxfG_kP2",
        "outputId": "3d67dc01-09ee-4fd1-d977-e2d73f14afaf"
      },
      "source": [
        "txt = \"PGDCB\" [::-1]\n",
        "print(txt)"
      ],
      "execution_count": null,
      "outputs": [
        {
          "output_type": "stream",
          "text": [
            "BCDGP\n"
          ],
          "name": "stdout"
        }
      ]
    },
    {
      "cell_type": "code",
      "metadata": {
        "colab": {
          "base_uri": "https://localhost:8080/"
        },
        "id": "3ZITboeA_-tJ",
        "outputId": "de75f80b-c247-4882-c1d3-dedcc37993aa"
      },
      "source": [
        "txt = \"PGDCB\" [::2]\n",
        "print(txt)"
      ],
      "execution_count": null,
      "outputs": [
        {
          "output_type": "stream",
          "text": [
            "PDB\n"
          ],
          "name": "stdout"
        }
      ]
    },
    {
      "cell_type": "code",
      "metadata": {
        "colab": {
          "base_uri": "https://localhost:8080/"
        },
        "id": "P_4p_bpFAJgG",
        "outputId": "123270f9-04c5-40df-cbec-bcc3ddf7dace"
      },
      "source": [
        "def fun1(x):\n",
        "  return x[::-1]\n",
        "\n",
        "output = fun1(\"I wonder how this text looks like backwards\")\n",
        "\n",
        "print(output)\n"
      ],
      "execution_count": null,
      "outputs": [
        {
          "output_type": "stream",
          "text": [
            "sdrawkcab ekil skool txet siht woh rednow I\n"
          ],
          "name": "stdout"
        }
      ]
    },
    {
      "cell_type": "code",
      "metadata": {
        "colab": {
          "base_uri": "https://localhost:8080/"
        },
        "id": "BJHl97xOA0_s",
        "outputId": "8ee98e7d-67d5-46a3-b2d4-21c51a43409d"
      },
      "source": [
        "#Accessing Elements in Reversed Order\n",
        "#If you need to access individual elements of a list in the reverse order, it's better to use reversed() function.\n",
        "# Operating System List\n",
        "systems = ['Windows', 'macOS', 'Linux']\n",
        "\n",
        "# Printing Elements in Reversed Order\n",
        "for o in reversed(systems):\n",
        "    print(o)"
      ],
      "execution_count": null,
      "outputs": [
        {
          "output_type": "stream",
          "text": [
            "Linux\n",
            "macOS\n",
            "Windows\n"
          ],
          "name": "stdout"
        }
      ]
    },
    {
      "cell_type": "code",
      "metadata": {
        "colab": {
          "base_uri": "https://localhost:8080/"
        },
        "id": "9zrRgPalBVOb",
        "outputId": "276515d5-b0f5-4f25-946a-d819c9a96076"
      },
      "source": [
        "ranks = [\"kingdom\",\"phylum\", \"class\", \"order\", \"family\"] \n",
        "print(ranks) \n",
        "ranks.reverse() \n",
        "print(ranks) \n",
        "ranks.sort() \n",
        "print(ranks)\n",
        "for i in ranks:\n",
        "  ranks.reverse()\n",
        "  #line2\n",
        "  #line3\n",
        "print(ranks)"
      ],
      "execution_count": null,
      "outputs": [
        {
          "output_type": "stream",
          "text": [
            "['kingdom', 'phylum', 'class', 'order', 'family']\n",
            "['family', 'order', 'class', 'phylum', 'kingdom']\n",
            "['class', 'family', 'kingdom', 'order', 'phylum']\n",
            "['phylum', 'order', 'kingdom', 'family', 'class']\n"
          ],
          "name": "stdout"
        }
      ]
    },
    {
      "cell_type": "code",
      "metadata": {
        "colab": {
          "base_uri": "https://localhost:8080/"
        },
        "id": "7LPxJseECzKU",
        "outputId": "b01d2c81-c34e-4fe7-a4d1-393d60d54908"
      },
      "source": [
        "mylist = [\"kingdom\",\"phylum\", \"class\", \"order\", \"family\"] \n",
        "#mylist.reverse()\n",
        "newList = [x[::-1] for x in mylist]\n",
        "print(newList)"
      ],
      "execution_count": null,
      "outputs": [
        {
          "output_type": "stream",
          "text": [
            "['modgnik', 'mulyhp', 'ssalc', 'redro', 'ylimaf']\n"
          ],
          "name": "stdout"
        }
      ]
    },
    {
      "cell_type": "code",
      "metadata": {
        "id": "W3f01VDHBSLK",
        "colab": {
          "base_uri": "https://localhost:8080/"
        },
        "outputId": "dfa28346-b666-4985-a90c-0204ffcd933f"
      },
      "source": [
        "#String that holds the amino-acid sequence of a signal peptide\n",
        "signal_peptide=\"MASKATLLLAFTLLFATCIA\"\n",
        "print(signal_peptide)\n",
        "sp1=signal_peptide.lower()\n",
        "print(sp1)\n",
        "sp2=sp1.upper()\n",
        "print(sp2)"
      ],
      "execution_count": null,
      "outputs": [
        {
          "output_type": "stream",
          "text": [
            "MASKATLLLAFTLLFATCIA\n",
            "maskatlllaftllfatcia\n",
            "MASKATLLLAFTLLFATCIA\n"
          ],
          "name": "stdout"
        }
      ]
    },
    {
      "cell_type": "code",
      "metadata": {
        "colab": {
          "base_uri": "https://localhost:8080/"
        },
        "id": "TFshRB8OAQAB",
        "outputId": "e798c81c-255d-402e-f767-1d986ee79557"
      },
      "source": [
        "#Methods Associated with Strings\n",
        "#replace(old,new[,count]): Allows us to replace a portion of a string (old) with another (new)\n",
        "DNAseq=\"TTGCTAG\"\n",
        "mRNAseq=DNAseq.replace(\"T\",\"U\")\n",
        "print(mRNAseq)\n",
        "# If the optional argument count is used, only the first count occurrences of old will be replaced\n",
        "mRNAseq1=DNAseq.replace(\"T\",\"U\",2)\n",
        "print(mRNAseq1)"
      ],
      "execution_count": null,
      "outputs": [
        {
          "output_type": "stream",
          "text": [
            "UUGCUAG\n",
            "UUGCTAG\n"
          ],
          "name": "stdout"
        }
      ]
    },
    {
      "cell_type": "code",
      "metadata": {
        "colab": {
          "base_uri": "https://localhost:8080/"
        },
        "id": "z1upLeIbBAko",
        "outputId": "36a1590f-0d41-4f52-c956-00545103c8a9"
      },
      "source": [
        "#count(sub[, start[, end]]): Counts how many times the substring sub appears, between start and end position\n",
        "'''\n",
        "Signal peptide is a short amino acid chain (about 20 amino acids) that is recognized\n",
        "by certain organelles to direct the transport of the nascent protein to a specific subcellular\n",
        "location or to the secretory pathway.\n",
        "\n",
        "CG content is the amount of cytosine and guanine in a DNA sequence. CG content is\n",
        "related to the DNA melting temperature and other physical properties.\n",
        "'''\n",
        "\n",
        "DNAseq=\"TTGCTACG\"\n",
        "c=DNAseq.count(\"C\")\n",
        "print(c)\n",
        "g=DNAseq.count(\"G\")\n",
        "print(g)\n",
        "x=float(c+g)/len(DNAseq)*100\n",
        "print(x)"
      ],
      "execution_count": null,
      "outputs": [
        {
          "output_type": "stream",
          "text": [
            "2\n",
            "2\n",
            "50.0\n"
          ],
          "name": "stdout"
        }
      ]
    },
    {
      "cell_type": "code",
      "metadata": {
        "colab": {
          "base_uri": "https://localhost:8080/"
        },
        "id": "8VSPHV24DDsd",
        "outputId": "aa43eb9d-8c44-4ad3-bd30-eb8101e3c4aa"
      },
      "source": [
        "'''\n",
        "find(sub[,start[,end]]): Returns the position of the substring sub, between\n",
        "start and end position (if available). If the substring is not found in\n",
        "the string, this method returns the value -1.\n",
        "'''\n",
        "mRNAseq2=\"TTGCTACG\"\n",
        "print (mRNAseq2)\n",
        "print(mRNAseq2.find(\"TA\"))\n",
        "print(mRNAseq2.find(\"AUG\"))"
      ],
      "execution_count": null,
      "outputs": [
        {
          "output_type": "stream",
          "text": [
            "TTGCTACG\n",
            "4\n",
            "-1\n"
          ],
          "name": "stdout"
        }
      ]
    },
    {
      "cell_type": "code",
      "metadata": {
        "colab": {
          "base_uri": "https://localhost:8080/"
        },
        "id": "U410FuNkEU1T",
        "outputId": "65786268-36af-4517-ce74-8875103df455"
      },
      "source": [
        "'''\n",
        "split([sep [,maxsplit]]): Separates the “words” of a string and returns\n",
        "them in a list. If a separator (sep) is not specified, the default separator will\n",
        "be the white space.\n",
        "'''\n",
        "str =\"This string has words separated by spaces\".split()\n",
        "print(str)\n",
        "s = \"this is my string\"\n",
        "s.split(maxsplit=1)\n",
        "['this', 'is my string']"
      ],
      "execution_count": null,
      "outputs": [
        {
          "output_type": "stream",
          "text": [
            "['This', 'string', 'has', 'words', 'separated', 'by', 'spaces']\n"
          ],
          "name": "stdout"
        },
        {
          "output_type": "execute_result",
          "data": {
            "text/plain": [
              "['this', 'is my string']"
            ]
          },
          "metadata": {
            "tags": []
          },
          "execution_count": 50
        }
      ]
    },
    {
      "cell_type": "code",
      "metadata": {
        "colab": {
          "base_uri": "https://localhost:8080/",
          "height": 35
        },
        "id": "LqUllbh-EzoD",
        "outputId": "efa8aea9-4b6f-4484-c48e-b2dd77645c40"
      },
      "source": [
        "'''\n",
        "The inverse function of split() is join().\n",
        "join(seq) Joins the sequence using a string as a “glue character”\n",
        "'''\n",
        "' '.join(['A','C','A','T'])"
      ],
      "execution_count": null,
      "outputs": [
        {
          "output_type": "execute_result",
          "data": {
            "application/vnd.google.colaboratory.intrinsic+json": {
              "type": "string"
            },
            "text/plain": [
              "'A C A T'"
            ]
          },
          "metadata": {
            "tags": []
          },
          "execution_count": 6
        }
      ]
    },
    {
      "cell_type": "code",
      "metadata": {
        "colab": {
          "base_uri": "https://localhost:8080/"
        },
        "id": "KnlYObIvH0AW",
        "outputId": "8b42c613-1cfa-4363-bf2b-87767c09de8c"
      },
      "source": [
        "numList = ['1', '2', '3', '4']\n",
        "separator = ', '\n",
        "print(separator.join(numList))\n",
        "\n",
        "# .join() with tuples\n",
        "numTuple = ('1', '2', '3', '4')\n",
        "print(separator.join(numTuple))\n",
        "\n",
        "s1 = 'abc'\n",
        "s2 = '123'\n",
        "\n",
        "# each element of s2 is separated by s1\n",
        "# '1'+ 'abc'+ '2'+ 'abc'+ '3'\n",
        "print('s1.join(s2):', s1.join(s2))\n",
        "\n",
        "# each element of s1 is separated by s2\n",
        "# 'a'+ '123'+ 'b'+ '123'+ 'b'\n",
        "print('s2.join(s1):', s2.join(s1))"
      ],
      "execution_count": null,
      "outputs": [
        {
          "output_type": "stream",
          "text": [
            "1, 2, 3, 4\n",
            "1, 2, 3, 4\n",
            "s1.join(s2): 1abc2abc3\n",
            "s2.join(s1): a123b123c\n"
          ],
          "name": "stdout"
        }
      ]
    },
    {
      "cell_type": "code",
      "metadata": {
        "colab": {
          "base_uri": "https://localhost:8080/"
        },
        "id": "Q_YMKposMzmk",
        "outputId": "e521f02f-1bb5-4f90-d559-0f32dcf95732"
      },
      "source": [
        "# Creating a Set with a mixed type of values (Having numbers and strings)  \n",
        "set1 = set([1,3, 2, 'pgdcb', 4, 'Good', 6, 'students'])  \n",
        "print(\"\\nSet with the use of Mixed Values\")  \n",
        "print(set1) "
      ],
      "execution_count": null,
      "outputs": [
        {
          "output_type": "stream",
          "text": [
            "\n",
            "Set with the use of Mixed Values\n",
            "{1, 2, 3, 4, 'pgdcb', 6, 'students', 'Good'}\n"
          ],
          "name": "stdout"
        }
      ]
    },
    {
      "cell_type": "code",
      "metadata": {
        "colab": {
          "base_uri": "https://localhost:8080/"
        },
        "id": "RqvKGueGM9oF",
        "outputId": "69e3ccea-5009-4be7-9cdd-28b21071ddda"
      },
      "source": [
        "# Creating a Set with a mixed type of values (Having numbers and strings)  \n",
        "set1 = set([1, 2, 'pgdcb', 4, 'Good', 6, 'students'])  \n",
        "print(\"\\nSet with the use of Mixed Values\")  \n",
        "print(set1) "
      ],
      "execution_count": null,
      "outputs": [
        {
          "output_type": "stream",
          "text": [
            "\n",
            "Set with the use of Mixed Values\n",
            "{1, 2, 4, 'pgdcb', 6, 'students', 'Good'}\n"
          ],
          "name": "stdout"
        }
      ]
    },
    {
      "cell_type": "code",
      "metadata": {
        "colab": {
          "base_uri": "https://localhost:8080/",
          "height": 233
        },
        "id": "P1mkARy_RP40",
        "outputId": "7f465700-fd61-4f9d-cd46-032e7d43e199"
      },
      "source": [
        "print(type(True))  \n",
        "print(type(False))  \n",
        "print(type(true))  \n"
      ],
      "execution_count": null,
      "outputs": [
        {
          "output_type": "stream",
          "text": [
            "<class 'bool'>\n",
            "<class 'bool'>\n"
          ],
          "name": "stdout"
        },
        {
          "output_type": "error",
          "ename": "NameError",
          "evalue": "ignored",
          "traceback": [
            "\u001b[0;31m---------------------------------------------------------------------------\u001b[0m",
            "\u001b[0;31mNameError\u001b[0m                                 Traceback (most recent call last)",
            "\u001b[0;32m<ipython-input-2-f5f3756ba68f>\u001b[0m in \u001b[0;36m<module>\u001b[0;34m()\u001b[0m\n\u001b[1;32m      1\u001b[0m \u001b[0mprint\u001b[0m\u001b[0;34m(\u001b[0m\u001b[0mtype\u001b[0m\u001b[0;34m(\u001b[0m\u001b[0;32mTrue\u001b[0m\u001b[0;34m)\u001b[0m\u001b[0;34m)\u001b[0m\u001b[0;34m\u001b[0m\u001b[0;34m\u001b[0m\u001b[0m\n\u001b[1;32m      2\u001b[0m \u001b[0mprint\u001b[0m\u001b[0;34m(\u001b[0m\u001b[0mtype\u001b[0m\u001b[0;34m(\u001b[0m\u001b[0;32mFalse\u001b[0m\u001b[0;34m)\u001b[0m\u001b[0;34m)\u001b[0m\u001b[0;34m\u001b[0m\u001b[0;34m\u001b[0m\u001b[0m\n\u001b[0;32m----> 3\u001b[0;31m \u001b[0mprint\u001b[0m\u001b[0;34m(\u001b[0m\u001b[0mtype\u001b[0m\u001b[0;34m(\u001b[0m\u001b[0mtrue\u001b[0m\u001b[0;34m)\u001b[0m\u001b[0;34m)\u001b[0m\u001b[0;34m\u001b[0m\u001b[0;34m\u001b[0m\u001b[0m\n\u001b[0m",
            "\u001b[0;31mNameError\u001b[0m: name 'true' is not defined"
          ]
        }
      ]
    },
    {
      "cell_type": "code",
      "metadata": {
        "id": "fAKsNee6cRMf"
      },
      "source": [
        "#Python program to demonstrate Creation of List   \n",
        "    \n",
        "# Creating a List  \n",
        "List = []  \n",
        "print(\"Intial blank List: \")  \n",
        "print(List)  \n",
        "    \n",
        "# Creating a List with  the use of a String  \n",
        "List = ['VAL1003 STUDENTS']  \n",
        "print(\"\\nList with the use of String: \")  \n",
        "print(List)  \n",
        "    \n",
        "# Creating a List with the use of multiple values  \n",
        "List = [\"VAL1003\", \"PYTHON\", \"STUDENTS\"]  \n",
        "print(\"\\nList containing multiple values: \")  \n",
        "print(List[0])   \n",
        "print(List[2])  \n",
        "    \n",
        "# Creating a Multi-Dimensional List (By Nesting a list inside a List)  \n",
        "List1 = [['VAL1003', 'PYTHON'], ['STUDENTS']]  \n",
        "print(\"\\nMulti-Dimensional List: \")  \n",
        "print(List1[0]) \n"
      ],
      "execution_count": null,
      "outputs": []
    },
    {
      "cell_type": "code",
      "metadata": {
        "id": "svma9qGvftM0",
        "colab": {
          "base_uri": "https://localhost:8080/"
        },
        "outputId": "97304e85-e973-443d-a25e-f29e602dc911"
      },
      "source": [
        "data={103:'Ravi' ,101:'Vijay' ,102:'Rahul'} \n",
        "print( data )"
      ],
      "execution_count": null,
      "outputs": [
        {
          "output_type": "stream",
          "text": [
            "{103: 'Ravi', 101: 'Vijay', 102: 'Rahul'}\n"
          ],
          "name": "stdout"
        }
      ]
    },
    {
      "cell_type": "code",
      "metadata": {
        "colab": {
          "base_uri": "https://localhost:8080/"
        },
        "id": "CIad1s-lktWV",
        "outputId": "529a846a-043c-4cd0-b1d8-7b4a77922687"
      },
      "source": [
        "li=[10,2,\"Asha\",10.5,3,45]\n",
        "print(li)"
      ],
      "execution_count": null,
      "outputs": [
        {
          "output_type": "stream",
          "text": [
            "[10, 2, 'Asha', 10.5, 3, 45]\n"
          ],
          "name": "stdout"
        }
      ]
    },
    {
      "cell_type": "code",
      "metadata": {
        "colab": {
          "base_uri": "https://localhost:8080/"
        },
        "id": "I87KIxrkk1OQ",
        "outputId": "b526e807-1acf-4598-8d39-c1e2c63789c9"
      },
      "source": [
        "tu=(10,2,3,45)\n",
        "print(tu)"
      ],
      "execution_count": null,
      "outputs": [
        {
          "output_type": "stream",
          "text": [
            "(10, 2, 3, 45)\n"
          ],
          "name": "stdout"
        }
      ]
    },
    {
      "cell_type": "code",
      "metadata": {
        "colab": {
          "base_uri": "https://localhost:8080/"
        },
        "id": "UhcDTDSTk-VZ",
        "outputId": "b5770213-026c-4576-ec9d-a76ab3f31673"
      },
      "source": [
        "# Creating a Set with a mixed type of values (Having numbers and strings)  \n",
        "set1 = set([1, 2, 'pgdcb', 4, 'Good', 6, 'students'])  \n",
        "print(\"\\nSet with the use of Mixed Values\")  \n",
        "print(set1) "
      ],
      "execution_count": null,
      "outputs": [
        {
          "output_type": "stream",
          "text": [
            "\n",
            "Set with the use of Mixed Values\n",
            "{1, 'pgdcb', 2, 4, 6, 'Good', 'students'}\n"
          ],
          "name": "stdout"
        }
      ]
    },
    {
      "cell_type": "code",
      "metadata": {
        "colab": {
          "base_uri": "https://localhost:8080/"
        },
        "id": "yru6KfjcmrLb",
        "outputId": "a7e623e8-db6b-453a-aa39-37287fbf640d"
      },
      "source": [
        "data={103:'Ravi' ,101:'Vijay' ,102:'Rahul'} \n",
        "print( data )"
      ],
      "execution_count": null,
      "outputs": [
        {
          "output_type": "stream",
          "text": [
            "{103: 'Ravi', 101: 'Vijay', 102: 'Rahul'}\n"
          ],
          "name": "stdout"
        }
      ]
    },
    {
      "cell_type": "code",
      "metadata": {
        "colab": {
          "base_uri": "https://localhost:8080/"
        },
        "id": "R_HgGhTMm8KN",
        "outputId": "1bb1c789-f33e-4f6b-8fde-7e3d85d72983"
      },
      "source": [
        "data={'A': \"hi\",103:'Ravi' ,101:'Vijay' ,102:'Rahul'} \n",
        "print( data )"
      ],
      "execution_count": null,
      "outputs": [
        {
          "output_type": "stream",
          "text": [
            "{'A': 'hi', 103: 'Ravi', 101: 'Vijay', 102: 'Rahul'}\n"
          ],
          "name": "stdout"
        }
      ]
    },
    {
      "cell_type": "code",
      "metadata": {
        "colab": {
          "base_uri": "https://localhost:8080/"
        },
        "id": "oWDaWZsCoR8S",
        "outputId": "e8059283-19d9-4c19-ca55-1e3139c02018"
      },
      "source": [
        "apes = [\"Homo sapiens\", \"Pan troglodytes\", \"Gorilla gorilla\"] \n",
        "monkeys = [\"Papio ursinus\", \"Macaca mulatta\"] \n",
        "primates = apes + monkeys \n",
        "print(primates)"
      ],
      "execution_count": null,
      "outputs": [
        {
          "output_type": "stream",
          "text": [
            "['Homo sapiens', 'Pan troglodytes', 'Gorilla gorilla', 'Papio ursinus', 'Macaca mulatta']\n"
          ],
          "name": "stdout"
        }
      ]
    },
    {
      "cell_type": "code",
      "metadata": {
        "colab": {
          "base_uri": "https://localhost:8080/"
        },
        "id": "gEfpUvLVYHK0",
        "outputId": "7205baaa-4767-4aab-f79b-c159bb1b7834"
      },
      "source": [
        "def unique_list(l):\n",
        "  x = []\n",
        "  for a in l:\n",
        "    if a not in x:\n",
        "      x.append(a)\n",
        "  return x\n",
        "\n",
        "print(unique_list([1,2,3,3,3,3,4,5])) "
      ],
      "execution_count": null,
      "outputs": [
        {
          "output_type": "stream",
          "text": [
            "[1, 2, 3, 4, 5]\n"
          ],
          "name": "stdout"
        }
      ]
    },
    {
      "cell_type": "code",
      "metadata": {
        "colab": {
          "base_uri": "https://localhost:8080/"
        },
        "id": "aRgywWhQY3qY",
        "outputId": "543d75de-1c11-48db-b97a-b50f8e31ab9f"
      },
      "source": [
        "#Python program to demonstrate Creation of List   \n",
        "    \n",
        "# Creating a List  \n",
        "List = []  \n",
        "print(\"Intial blank List: \")  \n",
        "print(List)  \n",
        "    \n",
        "# Creating a List with  the use of a String  \n",
        "List = ['IIIBSCSTUDENTS']  \n",
        "print(\"\\nList with the use of String: \")  \n",
        "print(List)  \n",
        "    \n",
        "# Creating a List with the use of multiple values  \n",
        "List = [\"III\", \"BSC\", \"STUDENTS\"]  \n",
        "print(\"\\nList containing multiple values: \")  \n",
        "print(List[0])   \n",
        "print(List[2])  \n",
        "    \n",
        "# Creating a Multi-Dimensional List (By Nesting a list inside a List)  \n",
        "List = [['III', 'BSC'], ['STUDENTS']]  \n",
        "print(\"\\nMulti-Dimensional List: \")  \n",
        "print(List[0]) \n",
        "print(List[1])\n",
        "# Creating a Multi-Dimensional List (By Nesting a list inside a List)  \n",
        "List = [['III', 'BSC'], ['STUDENTS']]  \n",
        "print(\"\\nMulti-Dimensional List: \")  \n",
        "print(List[0]) \n",
        "print(List[-2])\n",
        "print(\"Original List=\", List)\n",
        "#Append an element (ADD an element)\n",
        "List.append(8)  \n",
        "print(\"\\nList after Adding a number: \")  \n",
        "print(List) \n",
        "print(\"Original List=\", List)\n",
        "# Addition of Element at specific Position (using Insert Method)  \n",
        "List.insert(2, 12) \n",
        "print(List)  \n",
        "List.insert(0, 'Geeks')  \n",
        "print(\"\\nList after performing Insert Operation: \")  \n",
        "print(List)  \n",
        "# Addition of multiple elements to the List at the end (using Extend Method)  \n",
        "List.extend([16, 'Geeks', 'Always'])  \n",
        "print(\"\\nList after performing Extend Operation: \")  \n",
        "print(List)  \n",
        "List1=[11,12,13,14,15,16,17,18]\n",
        "# accessing a element from the list using index number  \n",
        "print(\"Accessing element from the list\")  \n",
        "print(List1[0])   \n",
        "print(List1[2])  \n",
        "# accessing a element using negative indexing  \n",
        "print(\"Accessing element using negative indexing\")  \n",
        "# print the last element of list  \n",
        "print(List1[-1])  \n",
        "# print the third last element of list   \n",
        "print(List1[-3])\n",
        "List1=[11,12,13,14,15,16,17,18]\n",
        "print(List1)\n",
        "List1.pop()  \n",
        "print(\"\\nList after popping an element: \")  \n",
        "print(List1)      \n",
        "# Removing element at a specific location from the set using the pop() method  \n",
        "List1.pop(-2)  \n",
        "print(\"\\nList after popping a specific element: \")  \n",
        "print(List1)  \n"
      ],
      "execution_count": null,
      "outputs": [
        {
          "output_type": "stream",
          "text": [
            "Intial blank List: \n",
            "[]\n",
            "\n",
            "List with the use of String: \n",
            "['IIIBSCSTUDENTS']\n",
            "\n",
            "List containing multiple values: \n",
            "III\n",
            "STUDENTS\n",
            "\n",
            "Multi-Dimensional List: \n",
            "['III', 'BSC']\n",
            "['STUDENTS']\n",
            "\n",
            "Multi-Dimensional List: \n",
            "['III', 'BSC']\n",
            "['III', 'BSC']\n",
            "Original List= [['III', 'BSC'], ['STUDENTS']]\n",
            "\n",
            "List after Adding a number: \n",
            "[['III', 'BSC'], ['STUDENTS'], 8]\n",
            "Original List= [['III', 'BSC'], ['STUDENTS'], 8]\n",
            "[['III', 'BSC'], ['STUDENTS'], 12, 8]\n",
            "\n",
            "List after performing Insert Operation: \n",
            "['Geeks', ['III', 'BSC'], ['STUDENTS'], 12, 8]\n",
            "\n",
            "List after performing Extend Operation: \n",
            "['Geeks', ['III', 'BSC'], ['STUDENTS'], 12, 8, 16, 'Geeks', 'Always']\n",
            "Accessing element from the list\n",
            "11\n",
            "13\n",
            "Accessing element using negative indexing\n",
            "18\n",
            "16\n",
            "[11, 12, 13, 14, 15, 16, 17, 18]\n",
            "\n",
            "List after popping an element: \n",
            "[11, 12, 13, 14, 15, 16, 17]\n",
            "\n",
            "List after popping a specific element: \n",
            "[11, 12, 13, 14, 15, 17]\n"
          ],
          "name": "stdout"
        }
      ]
    },
    {
      "cell_type": "code",
      "metadata": {
        "colab": {
          "base_uri": "https://localhost:8080/"
        },
        "id": "__wwOD0mxPfJ",
        "outputId": "f28ebcc7-e168-4031-c649-7e034056d1ea"
      },
      "source": [
        "List = [['III', 'BSC'], ['STUDENTS']]  \n",
        "print(\"Original List=\", List)\n",
        "#Append an element (ADD an element)\n",
        "List.append(8)  \n",
        "print(\"\\nList after Adding a number: \")  \n",
        "print(List) "
      ],
      "execution_count": null,
      "outputs": [
        {
          "output_type": "stream",
          "text": [
            "Original List= [['III', 'BSC'], ['STUDENTS']]\n",
            "\n",
            "List after Adding a number: \n",
            "[['III', 'BSC'], ['STUDENTS'], 8]\n"
          ],
          "name": "stdout"
        }
      ]
    },
    {
      "cell_type": "code",
      "metadata": {
        "colab": {
          "base_uri": "https://localhost:8080/"
        },
        "id": "b7utUqkexqqh",
        "outputId": "ec295ec7-b79c-48ae-ac07-78ca1fe90c9b"
      },
      "source": [
        "print(\"Original List=\", List)\n",
        "# Addition of Element at specific Position (using Insert Method)  \n",
        "List.insert(1, 12) "
      ],
      "execution_count": null,
      "outputs": [
        {
          "output_type": "stream",
          "text": [
            "Original List= [['III', 'BSC'], 12, ['STUDENTS'], 8]\n"
          ],
          "name": "stdout"
        }
      ]
    },
    {
      "cell_type": "code",
      "metadata": {
        "colab": {
          "base_uri": "https://localhost:8080/"
        },
        "id": "hVIL47jz3XFe",
        "outputId": "48186002-7671-470d-87ad-be66d6d243eb"
      },
      "source": [
        "List1=[11,12,13]\n",
        "print(List1)\n",
        "List1.insert(4,50)\n",
        "print(List1)"
      ],
      "execution_count": null,
      "outputs": [
        {
          "output_type": "stream",
          "text": [
            "[11, 12, 13]\n",
            "[11, 12, 13, 50]\n"
          ],
          "name": "stdout"
        }
      ]
    },
    {
      "cell_type": "code",
      "metadata": {
        "colab": {
          "base_uri": "https://localhost:8080/"
        },
        "id": "e7i9QJBjY3-p",
        "outputId": "ecd7925a-e57d-469a-df3f-b26646b541ab"
      },
      "source": [
        "# Python program to demonstrate creation of Tuple \n",
        "    \n",
        "# Creating an empty tuple  \n",
        "Tuple1 = ()  \n",
        "print(\"Initial empty Tuple: \")  \n",
        "print (Tuple1)  \n",
        "    \n",
        "# Creating a Tuple with the use of Strings  \n",
        "Tuple1 = ('pgdcb', 'students')  \n",
        "print(\"\\nTuple with the use of String: \")  \n",
        "print(Tuple1)  \n",
        "    \n",
        "# Creating a Tuple with the use of list  \n",
        "list1 = [1, 2, 4, 5, 6]  \n",
        "print(\"\\nTuple using List: \")  \n",
        "print(tuple(list1))  \n",
        "  \n",
        "# Creating a Tuple with the use of built-in function  \n",
        "Tuple1 = tuple('PGDCB')  \n",
        "print(\"\\nTuple with the use of function: \")  \n",
        "print(Tuple1)  \n",
        "  \n",
        "# Creating a Tuple with nested tuples  \n",
        "Tuple1 = (0, 1, 2, 3)  \n",
        "Tuple2 = ('python', 'pgdcb')  \n",
        "Tuple3 = (Tuple1, Tuple2)  \n",
        "print(\"\\nTuple with nested tuples: \")  \n",
        "print(Tuple3)  \n",
        "\n",
        "# Accessing element using indexing \n",
        "print(\"Frist element of tuple\") \n",
        "print(Tuple1[0]) \n",
        "  \n",
        "# Accessing element from last -- negative indexing \n",
        "print(\"\\nLast element of tuple\") \n",
        "print(Tuple1[-1]) \n",
        "  \n",
        "print(\"\\nThird last element of tuple\") \n",
        "print(Tuple1[-3]) \n",
        "\n"
      ],
      "execution_count": null,
      "outputs": [
        {
          "output_type": "stream",
          "text": [
            "Initial empty Tuple: \n",
            "()\n",
            "\n",
            "Tuple with the use of String: \n",
            "('pgdcb', 'students')\n",
            "\n",
            "Tuple using List: \n",
            "(1, 2, 4, 5, 6)\n",
            "\n",
            "Tuple with the use of function: \n",
            "('P', 'G', 'D', 'C', 'B')\n",
            "\n",
            "Tuple with nested tuples: \n",
            "((0, 1, 2, 3), ('python', 'pgdcb'))\n",
            "Frist element of tuple\n",
            "0\n",
            "\n",
            "Last element of tuple\n",
            "3\n",
            "\n",
            "Third last element of tuple\n",
            "1\n"
          ],
          "name": "stdout"
        }
      ]
    },
    {
      "cell_type": "code",
      "metadata": {
        "colab": {
          "base_uri": "https://localhost:8080/"
        },
        "id": "0-JSnJDTptjE",
        "outputId": "6f13cc0f-e6a9-4bf9-aac0-6a9d5e2cd9b9"
      },
      "source": [
        "# Python Program\n",
        "#Creating an empty Dictionary  \n",
        "Dict = {}  \n",
        "print(\"Empty Dictionary: \")  \n",
        "print(Dict)  \n",
        "    \n",
        "# Creating a Dictionary  with Integer Keys  \n",
        "Dict = {1: 'pgdcb', 2: 'Good', 3: 'students'}  \n",
        "print(\"\\nDictionary with the use of Integer Keys: \")  \n",
        "print(Dict)  \n",
        "    \n",
        "# Creating a Dictionary with Mixed keys  \n",
        "Dict = {'Name': 'pgdcb', 1: [1, 2, 3, 4]}  \n",
        "print(\"\\nDictionary with the use of Mixed Keys: \")  \n",
        "print(Dict)  \n",
        "    \n",
        "# Creating a Dictionary with dict() method  \n",
        "Dict = dict({1: 'pgdcb', 2: 'Good', 3:'students'})  \n",
        "print(\"\\nDictionary with the use of dict(): \")  \n",
        "print(Dict)  \n",
        "    \n",
        "# Creating a Dictionary  with each item as a Pair  \n",
        "Dict = dict([(1, 'pgdcb'), (2, 'Good')])  \n",
        "print(\"\\nDictionary with each item as a pair: \")  \n",
        "print(Dict)  \n",
        "\n",
        "# Adding elements one at a time  \n",
        "Dict[0] = 'pgdcb'\n",
        "Dict[2] = 'Good'\n",
        "Dict[3] = 1\n",
        "print(\"\\nDictionary after adding 3 elements: \")  \n",
        "print(Dict)  \n",
        "  \n",
        "# Updating existing Key's Value  \n",
        "Dict[2] = 'Welcome'\n",
        "print(\"\\nUpdated key value: \")  \n",
        "print(Dict)  \n",
        "\n",
        "\n",
        "#Methods used:\n",
        "# Python program to demonstrate for accessing elements from a Dictionary   \n",
        "    \n",
        "# Creating a Dictionary   \n",
        "Dict = {1: 'pgdcb', 'name': 'For', 3: 'students'}  \n",
        "    \n",
        "# accessing a element using key  \n",
        "print(\"Accessing a element using key:\")  \n",
        "print(Dict['name'])  \n",
        "  \n",
        "# accessing a element using get() method  \n",
        "print(\"Accessing a element using get:\")  \n",
        "print(Dict.get(3)) \n",
        " \n",
        "# Initial Dictionary  \n",
        "Dict = { 5 : 'Welcome', 6 : 'To', 7 : 'pgdcb',  \n",
        "        'A' : {1 : 'pgdcb', 2 : 'good', 3 : 'students'},  \n",
        "        'B' : {1 : 'pgdcb', 2 : 'BRilliant'}}  \n",
        "print(\"Initial Dictionary: \")  \n",
        "print(Dict)  \n",
        "    \n",
        "# Deleting a Key value  \n",
        "del Dict[6]  \n",
        "print(\"\\nDeleting a specific key: \")  \n",
        "print(Dict)  \n",
        "  \n",
        "# Deleting a Key using pop()  \n",
        "Dict.pop(5)  \n",
        "print(\"\\nPopping specific element: \")  \n",
        "print(Dict)  \n",
        "    \n",
        "# Deleting an arbitrary Key-value pair  using popitem()  \n",
        "Dict.popitem()  \n",
        "print(\"\\nPops an arbitrary key-value pair: \")  \n",
        "print(Dict)  \n",
        "  \n",
        "# Deleting entire Dictionary  \n",
        "Dict.clear()  \n",
        "print(\"\\nDeleting Entire Dictionary: \")  \n",
        "print(Dict)  \n"
      ],
      "execution_count": null,
      "outputs": [
        {
          "output_type": "stream",
          "text": [
            "Empty Dictionary: \n",
            "{}\n",
            "\n",
            "Dictionary with the use of Integer Keys: \n",
            "{1: 'pgdcb', 2: 'Good', 3: 'students'}\n",
            "\n",
            "Dictionary with the use of Mixed Keys: \n",
            "{'Name': 'pgdcb', 1: [1, 2, 3, 4]}\n",
            "\n",
            "Dictionary with the use of dict(): \n",
            "{1: 'pgdcb', 2: 'Good', 3: 'students'}\n",
            "\n",
            "Dictionary with each item as a pair: \n",
            "{1: 'pgdcb', 2: 'Good'}\n",
            "\n",
            "Dictionary after adding 3 elements: \n",
            "{1: 'pgdcb', 2: 'Good', 0: 'pgdcb', 3: 1}\n",
            "\n",
            "Updated key value: \n",
            "{1: 'pgdcb', 2: 'Welcome', 0: 'pgdcb', 3: 1}\n",
            "Accessing a element using key:\n",
            "For\n",
            "Accessing a element using get:\n",
            "students\n",
            "Initial Dictionary: \n",
            "{5: 'Welcome', 6: 'To', 7: 'pgdcb', 'A': {1: 'pgdcb', 2: 'good', 3: 'students'}, 'B': {1: 'pgdcb', 2: 'BRilliant'}}\n",
            "\n",
            "Deleting a specific key: \n",
            "{5: 'Welcome', 7: 'pgdcb', 'A': {1: 'pgdcb', 2: 'good', 3: 'students'}, 'B': {1: 'pgdcb', 2: 'BRilliant'}}\n",
            "\n",
            "Popping specific element: \n",
            "{7: 'pgdcb', 'A': {1: 'pgdcb', 2: 'good', 3: 'students'}, 'B': {1: 'pgdcb', 2: 'BRilliant'}}\n",
            "\n",
            "Pops an arbitrary key-value pair: \n",
            "{7: 'pgdcb', 'A': {1: 'pgdcb', 2: 'good', 3: 'students'}}\n",
            "\n",
            "Deleting Entire Dictionary: \n",
            "{}\n"
          ],
          "name": "stdout"
        }
      ]
    },
    {
      "cell_type": "code",
      "metadata": {
        "colab": {
          "base_uri": "https://localhost:8080/"
        },
        "id": "N5AiLmUgqElK",
        "outputId": "9fd2c362-74f7-49c0-bd1e-1fe79c2f4788"
      },
      "source": [
        "# Python program to demonstrate Creation of Set in Python  \n",
        "    \n",
        "# Creating a Set  \n",
        "set1 = set()  \n",
        "print(\"Intial blank Set: \")  \n",
        "print(set1)  \n",
        "    \n",
        "# Creating a Set with the use of a String  \n",
        "set1 = set(\"PGDCB\")  \n",
        "print(\"\\nSet with the use of String: \")  \n",
        "print(set1)  \n",
        "  \n",
        "# Creating a Set with the use of a List  \n",
        "set1 = set([\"pgdcb\", \"students\", \"Good\"])  \n",
        "print(\"\\nSet with the use of List: \")  \n",
        "print(set1)  \n",
        "  \n",
        "# Creating a Set with a mixed type of values (Having numbers and strings)  \n",
        "set1 = set([1, 2, 'pgdcb', 4, 'Good', 6, 'students'])  \n",
        "print(\"\\nSet with the use of Mixed Values\")  \n",
        "print(set1)  \n",
        "\n",
        "\n",
        "#Methods used:\n",
        "set1.add(9)  \n",
        "print(\"\\nSet after Addition of Three elements: \")  \n",
        "print(set1)  \n",
        "  \n",
        "# Addition of elements to the Set using Update function   \n",
        "set1.update([10, 11])  \n",
        "print(\"\\nSet after Addition of elements using Update: \")  \n",
        "print(set1)  \n",
        "# Removing elements from Set using Remove() method  \n",
        "set1.remove(9)  \n",
        "print(\"\\nSet after Removal of two elements: \")  \n",
        "print(set1)  \n",
        "    \n",
        "# Removing elements from Set  using Discard() method  \n",
        "set1.discard(4)  \n",
        "\n",
        "print(\"\\nSet after Discarding two elements: \")  \n",
        "print(set1)  \n",
        "  \n",
        "# Removing element from the Set using the pop() method  \n",
        "set1.pop()  \n",
        "print(\"\\nSet after popping an element: \")  \n",
        "print(set1)  \n",
        "  \n",
        "# Removing all the elements from Set using clear() method  \n",
        "set1.clear()  \n",
        "print(\"\\nSet after clearing all the elements: \")  \n",
        "print(set1)  \n"
      ],
      "execution_count": null,
      "outputs": [
        {
          "output_type": "stream",
          "text": [
            "Intial blank Set: \n",
            "set()\n",
            "\n",
            "Set with the use of String: \n",
            "{'C', 'P', 'B', 'G', 'D'}\n",
            "\n",
            "Set with the use of List: \n",
            "{'students', 'Good', 'pgdcb'}\n",
            "\n",
            "Set with the use of Mixed Values\n",
            "{1, 2, 4, 6, 'Good', 'students', 'pgdcb'}\n",
            "\n",
            "Set after Addition of Three elements: \n",
            "{1, 2, 4, 6, 9, 'Good', 'students', 'pgdcb'}\n",
            "\n",
            "Set after Addition of elements using Update: \n",
            "{1, 2, 4, 6, 9, 10, 11, 'Good', 'students', 'pgdcb'}\n",
            "\n",
            "Set after Removal of two elements: \n",
            "{1, 2, 4, 6, 10, 11, 'Good', 'students', 'pgdcb'}\n",
            "\n",
            "Set after Discarding two elements: \n",
            "{1, 2, 6, 10, 11, 'Good', 'students', 'pgdcb'}\n",
            "\n",
            "Set after popping an element: \n",
            "{2, 6, 10, 11, 'Good', 'students', 'pgdcb'}\n",
            "\n",
            "Set after clearing all the elements: \n",
            "set()\n"
          ],
          "name": "stdout"
        }
      ]
    },
    {
      "cell_type": "code",
      "source": [
        "# Python program to demonstrate Creation of Set in Python  \n",
        "    \n",
        "# Creating a Set  \n",
        "set1 = set()  \n",
        "print(\"Intial blank Set: \")  \n",
        "print(set1)  \n",
        "    \n",
        "# Creating a Set with the use of a String  \n",
        "set1 = set(\"PGDCB\")  \n",
        "print(\"\\nSet with the use of String: \")  \n",
        "print(set1)  \n",
        "  \n",
        "# Creating a Set with the use of a List  \n",
        "set1 = set([\"pgdcb\", \"students\", \"Good\"])  \n",
        "print(\"\\nSet with the use of List: \")  \n",
        "print(set1)  \n",
        "  \n",
        "# Creating a Set with a mixed type of values (Having numbers and strings)  \n",
        "set1 = set([1, 2, 'pgdcb', 4, 'Good', 6, 'students'])  \n",
        "print(\"\\nSet with the use of Mixed Values\")  \n",
        "print(set1)  \n",
        "\n",
        "\n",
        "#Methods used:\n",
        "set1.add(9)  \n",
        "print(\"\\nSet after Addition of Three elements: \")  \n",
        "print(set1)  \n",
        "  \n",
        "# Addition of elements to the Set using Update function   \n",
        "set1.update([10, 11])  \n",
        "print(\"\\nSet after Addition of elements using Update: \")  \n",
        "print(set1)  \n",
        "# Removing elements from Set using Remove() method  \n",
        "set1.remove(9)  \n",
        "print(\"\\nSet after Removal of two elements: \")  \n",
        "print(set1)  \n",
        "    \n",
        "# Removing elements from Set  using Discard() method  \n",
        "set1.discard(4)  \n",
        "\n",
        "print(\"\\nSet after Discarding two elements: \")  \n",
        "print(set1)  \n",
        "  \n",
        "# Removing element from the Set using the pop() method  \n",
        "set1.pop()  \n",
        "print(\"\\nSet after popping an element: \")  \n",
        "print(set1)  \n",
        "  \n",
        "# Removing all the elements from Set using clear() method  \n",
        "set1.clear()  \n",
        "print(\"\\nSet after clearing all the elements: \")  \n",
        "print(set1)  \n"
      ],
      "metadata": {
        "id": "weUPkkkbi-Xn"
      },
      "execution_count": null,
      "outputs": []
    },
    {
      "cell_type": "code",
      "metadata": {
        "id": "4vsnDURap41M"
      },
      "source": [],
      "execution_count": null,
      "outputs": []
    }
  ]
}